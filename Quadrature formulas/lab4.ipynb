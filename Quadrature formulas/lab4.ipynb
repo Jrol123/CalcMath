{
 "cells": [
  {
   "cell_type": "code",
   "metadata": {
    "ExecuteTime": {
     "end_time": "2024-05-15T05:39:32.221915Z",
     "start_time": "2024-05-15T05:39:28.573132Z"
    }
   },
   "source": [
    "import numpy as np\n",
    "import pandas as pd"
   ],
   "outputs": [],
   "execution_count": 1
  },
  {
   "cell_type": "code",
   "metadata": {
    "ExecuteTime": {
     "end_time": "2024-05-15T05:39:32.237133Z",
     "start_time": "2024-05-15T05:39:32.226149Z"
    }
   },
   "source": [
    "def принт(*значения: object,\n",
    "    раз: str | None = \" \",\n",
    "    кон: str | None = \"\\n\"):\n",
    "\n",
    "    print(*значения, раз, кон)"
   ],
   "outputs": [],
   "execution_count": 2
  },
  {
   "cell_type": "code",
   "metadata": {
    "ExecuteTime": {
     "end_time": "2024-05-15T05:39:32.253418Z",
     "start_time": "2024-05-15T05:39:32.243129Z"
    }
   },
   "source": [
    "# Исходная функция\n",
    "def f(x):\n",
    "    return (x - 1) ** 2 - np.exp(x) / 2"
   ],
   "outputs": [],
   "execution_count": 3
  },
  {
   "cell_type": "code",
   "metadata": {
    "ExecuteTime": {
     "end_time": "2024-05-15T05:39:32.285021Z",
     "start_time": "2024-05-15T05:39:32.261227Z"
    }
   },
   "source": [
    "# Производная функции порядка n\n",
    "def df(x, n):\n",
    "    return - np.exp(x) / 2\n",
    "\n",
    "# Первая производная функции\n",
    "def df1(x):\n",
    "    return 2 * (x - 1) - (np.exp(x) / 2)\n",
    "\n",
    "# Вторая производная функции\n",
    "def df2(x):\n",
    "    return 2 - (np.exp(x) / 2)"
   ],
   "outputs": [],
   "execution_count": 4
  },
  {
   "cell_type": "code",
   "metadata": {
    "ExecuteTime": {
     "end_time": "2024-05-15T05:39:32.300246Z",
     "start_time": "2024-05-15T05:39:32.287397Z"
    }
   },
   "source": [
    "def I_трапеция(points):\n",
    "    rez = 0\n",
    "    for _1 in range(len(points) - 1):\n",
    "        rez += ((points['y'][_1 + 1] + points['y'][_1]) \n",
    "                * (points['x'][_1 + 1] - points['x'][_1]) / 2 )\n",
    "    return rez"
   ],
   "outputs": [],
   "execution_count": 5
  },
  {
   "cell_type": "code",
   "metadata": {
    "ExecuteTime": {
     "end_time": "2024-05-15T05:39:32.316006Z",
     "start_time": "2024-05-15T05:39:32.306291Z"
    }
   },
   "source": [
    "def I_левые_прямоугольники(points):\n",
    "    rez = 0\n",
    "    for _1 in range(len(points) - 1):\n",
    "        rez += points['y'][_1] * (points['x'][_1 + 1] - points['x'][_1])\n",
    "    return rez"
   ],
   "outputs": [],
   "execution_count": 6
  },
  {
   "cell_type": "code",
   "metadata": {
    "ExecuteTime": {
     "end_time": "2024-05-15T05:39:32.347932Z",
     "start_time": "2024-05-15T05:39:32.321Z"
    }
   },
   "source": [
    "def I_правые_прямоугольники(points):\n",
    "    rez = 0\n",
    "    for _1 in range(1, len(points)):\n",
    "        rez += points['y'][_1] * (points['x'][_1] - points['x'][_1 - 1])\n",
    "    return rez"
   ],
   "outputs": [],
   "execution_count": 7
  },
  {
   "cell_type": "code",
   "metadata": {
    "ExecuteTime": {
     "end_time": "2024-05-15T05:39:32.363067Z",
     "start_time": "2024-05-15T05:39:32.352853Z"
    }
   },
   "source": [
    "def I_центральные_прямоугольники(points):\n",
    "    rez = 0\n",
    "    for _1 in range(len(points) - 1):\n",
    "        rez += (f((points['x'][_1] + points['x'][_1 + 1]) / 2) \n",
    "                * (points['x'][_1 + 1] - points['x'][_1]))\n",
    "    return rez"
   ],
   "outputs": [],
   "execution_count": 8
  },
  {
   "cell_type": "code",
   "metadata": {
    "ExecuteTime": {
     "end_time": "2024-05-15T05:39:32.378819Z",
     "start_time": "2024-05-15T05:39:32.365611Z"
    }
   },
   "source": [
    "def I_симпсон(points, h):\n",
    "    rez = 0\n",
    "    for _1 in range(1, len(points) - 1, 2):\n",
    "        rez += ((points['y'][_1 - 1] + 4 * points['y'][_1] + points['y'][_1 + 1]) * \n",
    "                h / 3)\n",
    "    return rez"
   ],
   "outputs": [],
   "execution_count": 9
  },
  {
   "cell_type": "code",
   "metadata": {
    "ExecuteTime": {
     "end_time": "2024-05-15T05:39:32.410021Z",
     "start_time": "2024-05-15T05:39:32.387689Z"
    }
   },
   "source": [
    "def R_левые_прямоугольники(h, a, b):\n",
    "    interval = np.linspace(a, b, 1000)\n",
    "    return (max(abs(df1(interval))) * (b - a) * (h ** 1)) / 2"
   ],
   "outputs": [],
   "execution_count": 10
  },
  {
   "cell_type": "code",
   "metadata": {
    "ExecuteTime": {
     "end_time": "2024-05-15T05:39:32.425585Z",
     "start_time": "2024-05-15T05:39:32.413330Z"
    }
   },
   "source": [
    "def R_правые_прямоугольники(h, a, b):\n",
    "    interval = np.linspace(a, b, 1000)\n",
    "    return (max(abs(df1(interval))) * (b - a) * (h ** 1)) / 2"
   ],
   "outputs": [],
   "execution_count": 11
  },
  {
   "cell_type": "code",
   "metadata": {
    "ExecuteTime": {
     "end_time": "2024-05-15T05:39:32.441564Z",
     "start_time": "2024-05-15T05:39:32.428856Z"
    }
   },
   "source": [
    "def R_центральные_прямоугольники(h, a, b):\n",
    "    interval = np.linspace(a, b, 1000)\n",
    "    return (max(abs(df2(interval))) * (b - a) * (h ** 2)) / 24"
   ],
   "outputs": [],
   "execution_count": 12
  },
  {
   "cell_type": "code",
   "metadata": {
    "ExecuteTime": {
     "end_time": "2024-05-15T05:39:32.457667Z",
     "start_time": "2024-05-15T05:39:32.445564Z"
    }
   },
   "source": [
    "def R_трапеция(h, a, b):\n",
    "    interval = np.linspace(a, b, 1000)\n",
    "    return (max(abs(df2(interval))) * (b - a) * (h ** 2)) / 12"
   ],
   "outputs": [],
   "execution_count": 13
  },
  {
   "cell_type": "code",
   "metadata": {
    "ExecuteTime": {
     "end_time": "2024-05-15T05:39:32.473717Z",
     "start_time": "2024-05-15T05:39:32.461556Z"
    }
   },
   "source": [
    "def R_симпсон(h, a, b):\n",
    "    interval = np.linspace(a, b, 1000)\n",
    "    return (max(abs(df(interval, 4))) * (b - a) * (h ** 4)) / 2880"
   ],
   "outputs": [],
   "execution_count": 14
  },
  {
   "cell_type": "code",
   "metadata": {
    "ExecuteTime": {
     "end_time": "2024-05-15T05:39:32.489069Z",
     "start_time": "2024-05-15T05:39:32.478916Z"
    }
   },
   "source": [
    "# Границы отрезка\n",
    "a, b = [0.1, 0.6]"
   ],
   "outputs": [],
   "execution_count": 15
  },
  {
   "cell_type": "code",
   "metadata": {
    "ExecuteTime": {
     "end_time": "2024-05-15T05:39:32.505431Z",
     "start_time": "2024-05-15T05:39:32.492903Z"
    }
   },
   "source": [
    "таблица = {'n': [0 for _1 in range(15)], 'I': [0 for _1 in range(15)], \n",
    "           'ΔI': [0 for _1 in range(15)], '∂I': [0 for _1 in range(15)], \n",
    "           'R': [0 for _1 in range(15)], 'Отношение ΔI': [1 for _1 in range(15)]}"
   ],
   "outputs": [],
   "execution_count": 16
  },
  {
   "cell_type": "code",
   "metadata": {
    "ExecuteTime": {
     "end_time": "2024-05-15T05:39:32.536669Z",
     "start_time": "2024-05-15T05:39:32.509452Z"
    }
   },
   "source": [
    "принт(точное_значение_интеграла := (((-0.4) ** 3 - (-0.9) ** 3) / 3) - ((np.exp(0.6) - np.exp(0.1)) / 2))"
   ],
   "outputs": [
    {
     "name": "stdout",
     "output_type": "stream",
     "text": [
      "-0.1368072744907639   \n",
      "\n"
     ]
    }
   ],
   "execution_count": 17
  },
  {
   "cell_type": "code",
   "metadata": {
    "ExecuteTime": {
     "end_time": "2024-05-15T05:39:40.538759Z",
     "start_time": "2024-05-15T05:39:32.540863Z"
    }
   },
   "source": [
    "for j in range(15):\n",
    "    n = 2 ** (j + 1)\n",
    "\n",
    "    # Создание df с узловыми точками\n",
    "    tmp = np.linspace(a, b, n + 1)\n",
    "    points = pd.DataFrame({'x': tmp, 'y': f(tmp)})\n",
    "\n",
    "    шаг = (b - a) / n\n",
    "    \n",
    "    таблица['n'][j] = n\n",
    "    таблица['I'][j] = I_трапеция(points)\n",
    "    таблица['ΔI'][j] = abs(I_трапеция(points) - точное_значение_интеграла)\n",
    "    таблица['∂I'][j] = ((abs(I_трапеция(points) - точное_значение_интеграла)) \n",
    "                             * 100 / (abs(точное_значение_интеграла)))\n",
    "    таблица['R'][j] = R_трапеция(шаг, a, b)"
   ],
   "outputs": [],
   "execution_count": 18
  },
  {
   "cell_type": "code",
   "metadata": {
    "ExecuteTime": {
     "end_time": "2024-05-15T05:39:40.554774Z",
     "start_time": "2024-05-15T05:39:40.543537Z"
    }
   },
   "source": [
    "for _1 in range(1, 15):\n",
    "    таблица['Отношение ΔI'][_1] = таблица['ΔI'][_1] / таблица['ΔI'][_1 - 1]"
   ],
   "outputs": [],
   "execution_count": 19
  },
  {
   "cell_type": "code",
   "metadata": {
    "ExecuteTime": {
     "end_time": "2024-05-15T05:39:40.570120Z",
     "start_time": "2024-05-15T05:39:40.560132Z"
    }
   },
   "source": [
    "таблица = pd.DataFrame(таблица)"
   ],
   "outputs": [],
   "execution_count": 20
  },
  {
   "cell_type": "code",
   "metadata": {
    "ExecuteTime": {
     "end_time": "2024-05-15T05:39:40.617112Z",
     "start_time": "2024-05-15T05:39:40.575215Z"
    }
   },
   "source": [
    "таблица"
   ],
   "outputs": [
    {
     "data": {
      "text/plain": [
       "        n         I            ΔI            ∂I             R  Отношение ΔI\n",
       "0       2 -0.133464  3.343224e-03  2.443747e+00  3.769309e-03      1.000000\n",
       "1       4 -0.135972  8.354419e-04  6.106707e-01  9.423272e-04      0.249891\n",
       "2       8 -0.136598  2.088377e-04  1.526510e-01  2.355818e-04      0.249973\n",
       "3      16 -0.136755  5.220800e-05  3.816171e-02  5.889545e-05      0.249993\n",
       "4      32 -0.136794  1.305191e-05  9.540363e-03  1.472386e-05      0.249998\n",
       "5      64 -0.136804  3.262972e-06  2.385087e-03  3.680966e-06      0.250000\n",
       "6     128 -0.136806  8.157427e-07  5.962714e-04  9.202414e-07      0.250000\n",
       "7     256 -0.136807  2.039356e-07  1.490678e-04  2.300603e-07      0.250000\n",
       "8     512 -0.136807  5.098391e-08  3.726696e-05  5.751509e-08      0.250000\n",
       "9    1024 -0.136807  1.274598e-08  9.316740e-06  1.437877e-08      0.250000\n",
       "10   2048 -0.136807  3.186495e-09  2.329185e-06  3.594693e-09      0.250000\n",
       "11   4096 -0.136807  7.966234e-10  5.822961e-07  8.986732e-10      0.250000\n",
       "12   8192 -0.136807  1.991560e-10  1.455741e-07  2.246683e-10      0.250000\n",
       "13  16384 -0.136807  4.978895e-11  3.639350e-08  5.616708e-11      0.250000\n",
       "14  32768 -0.136807  1.244752e-11  9.098577e-09  1.404177e-11      0.250006"
      ],
      "text/html": [
       "<div>\n",
       "<style scoped>\n",
       "    .dataframe tbody tr th:only-of-type {\n",
       "        vertical-align: middle;\n",
       "    }\n",
       "\n",
       "    .dataframe tbody tr th {\n",
       "        vertical-align: top;\n",
       "    }\n",
       "\n",
       "    .dataframe thead th {\n",
       "        text-align: right;\n",
       "    }\n",
       "</style>\n",
       "<table border=\"1\" class=\"dataframe\">\n",
       "  <thead>\n",
       "    <tr style=\"text-align: right;\">\n",
       "      <th></th>\n",
       "      <th>n</th>\n",
       "      <th>I</th>\n",
       "      <th>ΔI</th>\n",
       "      <th>∂I</th>\n",
       "      <th>R</th>\n",
       "      <th>Отношение ΔI</th>\n",
       "    </tr>\n",
       "  </thead>\n",
       "  <tbody>\n",
       "    <tr>\n",
       "      <th>0</th>\n",
       "      <td>2</td>\n",
       "      <td>-0.133464</td>\n",
       "      <td>3.343224e-03</td>\n",
       "      <td>2.443747e+00</td>\n",
       "      <td>3.769309e-03</td>\n",
       "      <td>1.000000</td>\n",
       "    </tr>\n",
       "    <tr>\n",
       "      <th>1</th>\n",
       "      <td>4</td>\n",
       "      <td>-0.135972</td>\n",
       "      <td>8.354419e-04</td>\n",
       "      <td>6.106707e-01</td>\n",
       "      <td>9.423272e-04</td>\n",
       "      <td>0.249891</td>\n",
       "    </tr>\n",
       "    <tr>\n",
       "      <th>2</th>\n",
       "      <td>8</td>\n",
       "      <td>-0.136598</td>\n",
       "      <td>2.088377e-04</td>\n",
       "      <td>1.526510e-01</td>\n",
       "      <td>2.355818e-04</td>\n",
       "      <td>0.249973</td>\n",
       "    </tr>\n",
       "    <tr>\n",
       "      <th>3</th>\n",
       "      <td>16</td>\n",
       "      <td>-0.136755</td>\n",
       "      <td>5.220800e-05</td>\n",
       "      <td>3.816171e-02</td>\n",
       "      <td>5.889545e-05</td>\n",
       "      <td>0.249993</td>\n",
       "    </tr>\n",
       "    <tr>\n",
       "      <th>4</th>\n",
       "      <td>32</td>\n",
       "      <td>-0.136794</td>\n",
       "      <td>1.305191e-05</td>\n",
       "      <td>9.540363e-03</td>\n",
       "      <td>1.472386e-05</td>\n",
       "      <td>0.249998</td>\n",
       "    </tr>\n",
       "    <tr>\n",
       "      <th>5</th>\n",
       "      <td>64</td>\n",
       "      <td>-0.136804</td>\n",
       "      <td>3.262972e-06</td>\n",
       "      <td>2.385087e-03</td>\n",
       "      <td>3.680966e-06</td>\n",
       "      <td>0.250000</td>\n",
       "    </tr>\n",
       "    <tr>\n",
       "      <th>6</th>\n",
       "      <td>128</td>\n",
       "      <td>-0.136806</td>\n",
       "      <td>8.157427e-07</td>\n",
       "      <td>5.962714e-04</td>\n",
       "      <td>9.202414e-07</td>\n",
       "      <td>0.250000</td>\n",
       "    </tr>\n",
       "    <tr>\n",
       "      <th>7</th>\n",
       "      <td>256</td>\n",
       "      <td>-0.136807</td>\n",
       "      <td>2.039356e-07</td>\n",
       "      <td>1.490678e-04</td>\n",
       "      <td>2.300603e-07</td>\n",
       "      <td>0.250000</td>\n",
       "    </tr>\n",
       "    <tr>\n",
       "      <th>8</th>\n",
       "      <td>512</td>\n",
       "      <td>-0.136807</td>\n",
       "      <td>5.098391e-08</td>\n",
       "      <td>3.726696e-05</td>\n",
       "      <td>5.751509e-08</td>\n",
       "      <td>0.250000</td>\n",
       "    </tr>\n",
       "    <tr>\n",
       "      <th>9</th>\n",
       "      <td>1024</td>\n",
       "      <td>-0.136807</td>\n",
       "      <td>1.274598e-08</td>\n",
       "      <td>9.316740e-06</td>\n",
       "      <td>1.437877e-08</td>\n",
       "      <td>0.250000</td>\n",
       "    </tr>\n",
       "    <tr>\n",
       "      <th>10</th>\n",
       "      <td>2048</td>\n",
       "      <td>-0.136807</td>\n",
       "      <td>3.186495e-09</td>\n",
       "      <td>2.329185e-06</td>\n",
       "      <td>3.594693e-09</td>\n",
       "      <td>0.250000</td>\n",
       "    </tr>\n",
       "    <tr>\n",
       "      <th>11</th>\n",
       "      <td>4096</td>\n",
       "      <td>-0.136807</td>\n",
       "      <td>7.966234e-10</td>\n",
       "      <td>5.822961e-07</td>\n",
       "      <td>8.986732e-10</td>\n",
       "      <td>0.250000</td>\n",
       "    </tr>\n",
       "    <tr>\n",
       "      <th>12</th>\n",
       "      <td>8192</td>\n",
       "      <td>-0.136807</td>\n",
       "      <td>1.991560e-10</td>\n",
       "      <td>1.455741e-07</td>\n",
       "      <td>2.246683e-10</td>\n",
       "      <td>0.250000</td>\n",
       "    </tr>\n",
       "    <tr>\n",
       "      <th>13</th>\n",
       "      <td>16384</td>\n",
       "      <td>-0.136807</td>\n",
       "      <td>4.978895e-11</td>\n",
       "      <td>3.639350e-08</td>\n",
       "      <td>5.616708e-11</td>\n",
       "      <td>0.250000</td>\n",
       "    </tr>\n",
       "    <tr>\n",
       "      <th>14</th>\n",
       "      <td>32768</td>\n",
       "      <td>-0.136807</td>\n",
       "      <td>1.244752e-11</td>\n",
       "      <td>9.098577e-09</td>\n",
       "      <td>1.404177e-11</td>\n",
       "      <td>0.250006</td>\n",
       "    </tr>\n",
       "  </tbody>\n",
       "</table>\n",
       "</div>"
      ]
     },
     "execution_count": 21,
     "metadata": {},
     "output_type": "execute_result"
    }
   ],
   "execution_count": 21
  },
  {
   "cell_type": "code",
   "metadata": {
    "ExecuteTime": {
     "end_time": "2024-05-15T05:39:40.633225Z",
     "start_time": "2024-05-15T05:39:40.620118Z"
    }
   },
   "source": [
    "n = 10 ** 4\n",
    "\n",
    "# Создание df с узловыми точками\n",
    "tmp = np.linspace(a, b, n + 1)\n",
    "points = pd.DataFrame({'x': tmp, 'y': f(tmp)})\n",
    "\n",
    "шаг = (b - a) / n"
   ],
   "outputs": [],
   "execution_count": 22
  },
  {
   "cell_type": "code",
   "metadata": {
    "ExecuteTime": {
     "end_time": "2024-05-15T05:39:40.648807Z",
     "start_time": "2024-05-15T05:39:40.638607Z"
    }
   },
   "source": [
    "таблица2 = {'I': [0 for _1 in range(5)], 'ΔI': [0 for _1 in range(5)], \n",
    "           '∂I': [0 for _1 in range(5)], 'R': [0 for _1 in range(5)]}"
   ],
   "outputs": [],
   "execution_count": 23
  },
  {
   "cell_type": "code",
   "metadata": {
    "ExecuteTime": {
     "end_time": "2024-05-15T05:39:41.649834Z",
     "start_time": "2024-05-15T05:39:40.654023Z"
    }
   },
   "source": [
    "таблица2['I'][0] = I_левые_прямоугольники(points)\n",
    "таблица2['ΔI'][0] = abs(I_левые_прямоугольники(points) - точное_значение_интеграла)\n",
    "таблица2['∂I'][0] = ((abs(I_левые_прямоугольники(points) - точное_значение_интеграла)) \n",
    "                            * 100 / (abs(точное_значение_интеграла)))\n",
    "таблица2['R'][0] = R_левые_прямоугольники(шаг, a, b)"
   ],
   "outputs": [],
   "execution_count": 24
  },
  {
   "cell_type": "code",
   "metadata": {
    "ExecuteTime": {
     "end_time": "2024-05-15T05:39:43.022057Z",
     "start_time": "2024-05-15T05:39:41.658956Z"
    }
   },
   "source": [
    "таблица2['I'][1] = I_правые_прямоугольники(points)\n",
    "таблица2['ΔI'][1] = abs(I_правые_прямоугольники(points) - точное_значение_интеграла)\n",
    "таблица2['∂I'][1] = ((abs(I_правые_прямоугольники(points) - точное_значение_интеграла)) \n",
    "                            * 100 / (abs(точное_значение_интеграла)))\n",
    "таблица2['R'][1] = R_правые_прямоугольники(шаг, a, b)"
   ],
   "outputs": [],
   "execution_count": 25
  },
  {
   "cell_type": "code",
   "metadata": {
    "ExecuteTime": {
     "end_time": "2024-05-15T05:39:44.621869Z",
     "start_time": "2024-05-15T05:39:43.027571Z"
    }
   },
   "source": [
    "таблица2['I'][2] = I_центральные_прямоугольники(points)\n",
    "таблица2['ΔI'][2] = abs(I_центральные_прямоугольники(points) - точное_значение_интеграла)\n",
    "таблица2['∂I'][2] = ((abs(I_центральные_прямоугольники(points) - точное_значение_интеграла)) \n",
    "                            * 100 / (abs(точное_значение_интеграла)))\n",
    "таблица2['R'][2] = R_центральные_прямоугольники(шаг, a, b)"
   ],
   "outputs": [],
   "execution_count": 26
  },
  {
   "cell_type": "code",
   "metadata": {
    "ExecuteTime": {
     "end_time": "2024-05-15T05:39:45.937704Z",
     "start_time": "2024-05-15T05:39:44.625842Z"
    }
   },
   "source": [
    "таблица2['I'][3] = I_трапеция(points)\n",
    "таблица2['ΔI'][3] = abs(I_трапеция(points) - точное_значение_интеграла)\n",
    "таблица2['∂I'][3] = ((abs(I_трапеция(points) - точное_значение_интеграла)) \n",
    "                            * 100 / (abs(точное_значение_интеграла)))\n",
    "таблица2['R'][3] = R_трапеция(шаг, a, b)"
   ],
   "outputs": [],
   "execution_count": 27
  },
  {
   "cell_type": "code",
   "metadata": {
    "ExecuteTime": {
     "end_time": "2024-05-15T05:39:46.438160Z",
     "start_time": "2024-05-15T05:39:45.948459Z"
    }
   },
   "source": [
    "таблица2['I'][4] = I_симпсон(points, шаг)\n",
    "таблица2['ΔI'][4] = abs(I_симпсон(points, шаг) - точное_значение_интеграла)\n",
    "таблица2['∂I'][4] = ((abs(I_симпсон(points, шаг) - точное_значение_интеграла)) \n",
    "                            * 100 / (abs(точное_значение_интеграла)))\n",
    "таблица2['R'][4] = R_симпсон(шаг, a, b)"
   ],
   "outputs": [],
   "execution_count": 28
  },
  {
   "cell_type": "code",
   "metadata": {
    "ExecuteTime": {
     "end_time": "2024-05-15T05:39:46.453645Z",
     "start_time": "2024-05-15T05:39:46.442162Z"
    }
   },
   "source": [
    "таблица2 = pd.DataFrame(таблица2)"
   ],
   "outputs": [],
   "execution_count": 29
  },
  {
   "cell_type": "code",
   "metadata": {
    "ExecuteTime": {
     "end_time": "2024-05-15T05:39:46.484833Z",
     "start_time": "2024-05-15T05:39:46.458642Z"
    }
   },
   "source": [
    "таблица2['indx'] = ['Л. прямоугольники', 'П. прямоугольники', 'Ц. прямоугольники', 'Трапеций', 'Симпсона']\n",
    "таблица2.set_index('indx', inplace=True, drop=True)"
   ],
   "outputs": [],
   "execution_count": 30
  },
  {
   "cell_type": "code",
   "metadata": {
    "ExecuteTime": {
     "end_time": "2024-05-15T05:39:46.516504Z",
     "start_time": "2024-05-15T05:39:46.489834Z"
    }
   },
   "source": [
    "таблица2"
   ],
   "outputs": [
    {
     "data": {
      "text/plain": [
       "                          I            ΔI            ∂I             R\n",
       "indx                                                                 \n",
       "Л. прямоугольники -0.136782  2.521198e-05  1.842883e-02  2.940732e-05\n",
       "П. прямоугольники -0.136832  2.521171e-05  1.842864e-02  2.940732e-05\n",
       "Ц. прямоугольники -0.136807  6.682541e-11  4.884638e-08  7.538617e-11\n",
       "Трапеций          -0.136807  1.336510e-10  9.769289e-08  1.507723e-10\n",
       "Симпсона          -0.136807  3.330669e-16  2.434570e-13  9.885627e-22"
      ],
      "text/html": [
       "<div>\n",
       "<style scoped>\n",
       "    .dataframe tbody tr th:only-of-type {\n",
       "        vertical-align: middle;\n",
       "    }\n",
       "\n",
       "    .dataframe tbody tr th {\n",
       "        vertical-align: top;\n",
       "    }\n",
       "\n",
       "    .dataframe thead th {\n",
       "        text-align: right;\n",
       "    }\n",
       "</style>\n",
       "<table border=\"1\" class=\"dataframe\">\n",
       "  <thead>\n",
       "    <tr style=\"text-align: right;\">\n",
       "      <th></th>\n",
       "      <th>I</th>\n",
       "      <th>ΔI</th>\n",
       "      <th>∂I</th>\n",
       "      <th>R</th>\n",
       "    </tr>\n",
       "    <tr>\n",
       "      <th>indx</th>\n",
       "      <th></th>\n",
       "      <th></th>\n",
       "      <th></th>\n",
       "      <th></th>\n",
       "    </tr>\n",
       "  </thead>\n",
       "  <tbody>\n",
       "    <tr>\n",
       "      <th>Л. прямоугольники</th>\n",
       "      <td>-0.136782</td>\n",
       "      <td>2.521198e-05</td>\n",
       "      <td>1.842883e-02</td>\n",
       "      <td>2.940732e-05</td>\n",
       "    </tr>\n",
       "    <tr>\n",
       "      <th>П. прямоугольники</th>\n",
       "      <td>-0.136832</td>\n",
       "      <td>2.521171e-05</td>\n",
       "      <td>1.842864e-02</td>\n",
       "      <td>2.940732e-05</td>\n",
       "    </tr>\n",
       "    <tr>\n",
       "      <th>Ц. прямоугольники</th>\n",
       "      <td>-0.136807</td>\n",
       "      <td>6.682541e-11</td>\n",
       "      <td>4.884638e-08</td>\n",
       "      <td>7.538617e-11</td>\n",
       "    </tr>\n",
       "    <tr>\n",
       "      <th>Трапеций</th>\n",
       "      <td>-0.136807</td>\n",
       "      <td>1.336510e-10</td>\n",
       "      <td>9.769289e-08</td>\n",
       "      <td>1.507723e-10</td>\n",
       "    </tr>\n",
       "    <tr>\n",
       "      <th>Симпсона</th>\n",
       "      <td>-0.136807</td>\n",
       "      <td>3.330669e-16</td>\n",
       "      <td>2.434570e-13</td>\n",
       "      <td>9.885627e-22</td>\n",
       "    </tr>\n",
       "  </tbody>\n",
       "</table>\n",
       "</div>"
      ]
     },
     "execution_count": 31,
     "metadata": {},
     "output_type": "execute_result"
    }
   ],
   "execution_count": 31
  }
 ],
 "metadata": {
  "kernelspec": {
   "display_name": "Python 3",
   "language": "python",
   "name": "python3"
  },
  "language_info": {
   "codemirror_mode": {
    "name": "ipython",
    "version": 3
   },
   "file_extension": ".py",
   "mimetype": "text/x-python",
   "name": "python",
   "nbconvert_exporter": "python",
   "pygments_lexer": "ipython3",
   "version": "3.11.6"
  }
 },
 "nbformat": 4,
 "nbformat_minor": 2
}
