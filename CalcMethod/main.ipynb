{
 "cells": [
  {
   "metadata": {
    "ExecuteTime": {
     "end_time": "2024-06-02T02:35:38.981787Z",
     "start_time": "2024-06-02T02:35:38.965765Z"
    }
   },
   "cell_type": "code",
   "source": [
    "from numpy import exp, log, sign\n",
    "from datetime import datetime, timedelta\n",
    "import numpy as np\n",
    "import pandas as pd\n",
    "import matplotlib.pyplot as plt"
   ],
   "id": "5ab88a35a2414544",
   "outputs": [],
   "execution_count": 251
  },
  {
   "metadata": {
    "ExecuteTime": {
     "end_time": "2024-06-02T02:35:38.997816Z",
     "start_time": "2024-06-02T02:35:38.982793Z"
    }
   },
   "cell_type": "code",
   "source": [
    "class OutputEntity:\n",
    "    def __init__(self, name_function: str, true_result: float, result: float, count_iterations: int, precision: float,\n",
    "                 time: timedelta, mass_results: list[float]):\n",
    "        self.name_function = name_function\n",
    "        self.true_result = true_result\n",
    "        self.result = result\n",
    "        self.count_iterations = count_iterations\n",
    "        self.precision = precision\n",
    "        self.time = time\n",
    "        self.results = mass_results\n",
    "\n",
    "    def __str__(self):\n",
    "        return (\n",
    "            f\"\\nФункция:\\t{self.name_function}\\n\"\n",
    "            f\"Desmos результат:\\t{self.true_result}\\nПолученный результат:\\t{self.result}\\n\"\n",
    "            f\"Разница:\\t{abs(self.true_result - self.result)}\\n\"\n",
    "            f\"Количество итераций:\\t{self.count_iterations}\\nИспользованная точность:\\t{self.precision}\\n\"\n",
    "            f\"Затраченное время:\\t{self.time}\\n\")"
   ],
   "id": "1a367f08be38f4b7",
   "outputs": [],
   "execution_count": 252
  },
  {
   "metadata": {
    "ExecuteTime": {
     "end_time": "2024-06-02T02:35:39.013853Z",
     "start_time": "2024-06-02T02:35:38.998820Z"
    }
   },
   "cell_type": "code",
   "source": [
    "# КР\n",
    "def func2(x: float, deriv_s: int = 0):\n",
    "    \"\"\"\n",
    "    Функция y = 2x− cos(x)\n",
    "\n",
    "    При вводе аргумента deriv_s можно выбрать степень производной\n",
    "\n",
    "    :param x: Точка\n",
    "    :param deriv_s: Степень производной\n",
    "\n",
    "    :return: Значение функции в точке x\n",
    "    :rtype: float\n",
    "\n",
    "    \"\"\"\n",
    "    if deriv_s == 1:\n",
    "        return 1 / (x + 2) - 1\n",
    "    elif deriv_s == 2:\n",
    "        return -1 / (x ** 2 + 4 * x + 4)\n",
    "    return log(x + 2) - x"
   ],
   "id": "8bd66d83eba03e15",
   "outputs": [],
   "execution_count": 253
  },
  {
   "metadata": {
    "ExecuteTime": {
     "end_time": "2024-06-02T02:35:39.029375Z",
     "start_time": "2024-06-02T02:35:39.015860Z"
    }
   },
   "cell_type": "code",
   "source": "-1.9 - func2(-1.9)/func2(-1.9,1)",
   "id": "cb0dc6a92bb08ae8",
   "outputs": [
    {
     "data": {
      "text/plain": [
       "-1.8552683230006615"
      ]
     },
     "execution_count": 254,
     "metadata": {},
     "output_type": "execute_result"
    }
   ],
   "execution_count": 254
  },
  {
   "metadata": {
    "ExecuteTime": {
     "end_time": "2024-06-02T02:35:39.045407Z",
     "start_time": "2024-06-02T02:35:39.030377Z"
    }
   },
   "cell_type": "code",
   "source": [
    "# В - 15\n",
    "def func(x: float, deriv_s: int = 0):\n",
    "    \"\"\"\n",
    "    Функция x = ln(x + 2)\n",
    "\n",
    "    При вводе аргумента deriv_s можно выбрать степень производной\n",
    "\n",
    "    :param x: Точка\n",
    "    :param deriv_s: Степень производной\n",
    "\n",
    "    :return: Значение функции в точке x\n",
    "    :rtype: float\n",
    "\n",
    "    \"\"\"\n",
    "    if deriv_s == 1:\n",
    "        return -exp(-x) + 2 * x\n",
    "    elif  deriv_s == 2:\n",
    "        return exp(-x) + 2\n",
    "    return exp(-x) + x ** 2 - 2"
   ],
   "id": "8f74f67dba5ce125",
   "outputs": [],
   "execution_count": 255
  },
  {
   "metadata": {
    "ExecuteTime": {
     "end_time": "2024-06-02T02:35:39.060926Z",
     "start_time": "2024-06-02T02:35:39.046407Z"
    }
   },
   "cell_type": "code",
   "source": [
    "def dichotomy(f, x_mass: list[float, float, float]) -> list[float, float, float]:\n",
    "    mid = (x_mass[1] + x_mass[0]) / 2\n",
    "    x_mass[2] = mid\n",
    "    if f(mid) * f(x_mass[0]) < 0:\n",
    "        x_mass[1] = mid\n",
    "    else:\n",
    "        x_mass[0] = mid\n",
    "    return x_mass\n",
    "\n",
    "\n",
    "def secant(f, x_mass: tuple[float, float, float]) -> float:\n",
    "    \"\"\"\n",
    "    Метод хорд\n",
    "\n",
    "    :param f: Функция\n",
    "    :type f: function\n",
    "    :param x_mass: Массив значений x, состоящий из левого края [0], правого края [1], и последнего значения [-1]\n",
    "\n",
    "    :return: Значение x\n",
    "\n",
    "    \"\"\"\n",
    "    x_prev = x_mass[-1]\n",
    "    x_main = x_mass[0]\n",
    "    return x_main - (f(x_main) * (x_prev - x_main)) / (f(x_prev) - f(x_main))\n",
    "\n",
    "\n",
    "def newton(f, x_mass: tuple[float, float, float]) -> float:\n",
    "    \"\"\"\n",
    "\n",
    "    :param f: Функция\n",
    "    :type f: function\n",
    "    :param x_mass: Массив значений x. Состоит из левого края [0], правого края [1], и последнего значения [-1]\n",
    "\n",
    "    :return: Значение x\n",
    "\n",
    "    \"\"\"\n",
    "    if x_mass[-1] == x_mass[1]:\n",
    "        if sign(f(x_mass[1])) == sign(f(x_mass[1], 2)):\n",
    "            x_prev = x_mass[1]\n",
    "        else:\n",
    "            x_prev = x_mass[0]\n",
    "    else:\n",
    "        x_prev = x_mass[-1]\n",
    "    return x_prev - f(x_prev) / f(x_prev, 1)\n",
    "\n",
    "\n",
    "def get_result(function, f, real_res, mass_borders, eps) -> OutputEntity:\n",
    "    \"\"\"\n",
    "    Получение результатов из функций\n",
    "\n",
    "    :param function:\n",
    "    :type function: function\n",
    "    :param mass_borders:\n",
    "    :param eps: Точность измерений\n",
    "\n",
    "    :return: Различные параметры, полученные при вычислении корня.\n",
    "\n",
    "    \"\"\"\n",
    "    mass_val = [mass_borders[0], mass_borders[1], mass_borders[-1]]\n",
    "    end_mass = []\n",
    "    delta = abs(mass_borders[0] - mass_borders[1])\n",
    "    i = 0\n",
    "    date_start = datetime.now()\n",
    "    while delta > eps:\n",
    "        x_cur = function(f, mass_val)\n",
    "        i += 1\n",
    "        # print(i := i + 1, mass_val[-1], x_cur)\n",
    "        delta = abs(x_cur - mass_val[-1])\n",
    "        mass_val[-1] = x_cur\n",
    "        end_mass.append(x_cur)\n",
    "    date_end = datetime.now()\n",
    "    # print((date_end - date_start))\n",
    "    return OutputEntity(function.__name__, real_res, mass_val[-1], i, eps, (date_end - date_start), end_mass)"
   ],
   "id": "5cdb486e5462d4e3",
   "outputs": [],
   "execution_count": 256
  },
  {
   "metadata": {
    "ExecuteTime": {
     "end_time": "2024-06-02T02:35:52.363540Z",
     "start_time": "2024-06-02T02:35:52.352016Z"
    }
   },
   "cell_type": "code",
   "source": [
    "range_mass = [1, 1.25]  # Массив границ\n",
    "eps = 1e-10\n",
    "# 1.1462\n",
    "#-1.8414\n",
    "real_result = 1.1462\n",
    "sec_res = get_result(secant, func2, real_result, range_mass, eps)\n",
    "new_res = get_result(newton, func2, real_result, range_mass, eps)\n",
    "\n",
    "delta = abs(range_mass[0] - range_mass[1])\n",
    "mass_val = [range_mass[0], range_mass[1], range_mass[-1]]\n",
    "mass_res = []\n",
    "prev_stat = 1\n",
    "i = 0\n",
    "date_start = datetime.now()\n",
    "while delta > eps:\n",
    "    mass_val = dichotomy(func2, mass_val)\n",
    "    delta = abs(mass_val[-1] - prev_stat)\n",
    "    i += 1\n",
    "    # print(i, mass_val, delta)\n",
    "    prev_stat = mass_val[-1]\n",
    "    mass_res.append(prev_stat)\n",
    "    if func2(prev_stat) == 0:\n",
    "        break\n",
    "date_end = datetime.now()\n",
    "dich_res = OutputEntity(dichotomy.__name__, real_result, prev_stat, i, eps, (date_end - date_start), mass_res)\n",
    "\n",
    "print(sec_res, new_res, dich_res)"
   ],
   "id": "deb065864ff81ffd",
   "outputs": [
    {
     "name": "stdout",
     "output_type": "stream",
     "text": [
      "\n",
      "Функция:\tsecant\n",
      "Desmos результат:\t1.1462\n",
      "Полученный результат:\t1.1461932206207923\n",
      "Разница:\t6.779379207788594e-06\n",
      "Количество итераций:\t6\n",
      "Использованная точность:\t1e-10\n",
      "Затраченное время:\t0:00:00\n",
      " \n",
      "Функция:\tnewton\n",
      "Desmos результат:\t1.1462\n",
      "Полученный результат:\t1.1461932206205825\n",
      "Разница:\t6.779379417620746e-06\n",
      "Количество итераций:\t4\n",
      "Использованная точность:\t1e-10\n",
      "Затраченное время:\t0:00:00\n",
      " \n",
      "Функция:\tdichotomy\n",
      "Desmos результат:\t1.1462\n",
      "Полученный результат:\t1.1461932205711491\n",
      "Разница:\t6.779428850967051e-06\n",
      "Количество итераций:\t32\n",
      "Использованная точность:\t1e-10\n",
      "Затраченное время:\t0:00:00\n",
      "\n"
     ]
    }
   ],
   "execution_count": 267
  },
  {
   "metadata": {
    "ExecuteTime": {
     "end_time": "2024-06-02T02:35:39.092489Z",
     "start_time": "2024-06-02T02:35:39.077960Z"
    }
   },
   "cell_type": "code",
   "source": [
    "ds = pd.DataFrame(data=sec_res.results, columns=[\"Results\"])\n",
    "dn = pd.DataFrame(data=new_res.results, columns=[\"Results\"])\n",
    "dd = pd.DataFrame(data=dich_res.results, columns=[\"Results\"])"
   ],
   "id": "81685a0ab422f0fb",
   "outputs": [],
   "execution_count": 258
  },
  {
   "metadata": {
    "ExecuteTime": {
     "end_time": "2024-06-02T02:35:39.108041Z",
     "start_time": "2024-06-02T02:35:39.093490Z"
    }
   },
   "cell_type": "code",
   "source": "ds",
   "id": "6a930a9bc6ac163",
   "outputs": [
    {
     "data": {
      "text/plain": [
       "    Results\n",
       "0  1.142565\n",
       "1  1.146234\n",
       "2  1.146193\n",
       "3  1.146193\n",
       "4  1.146193\n",
       "5  1.146193"
      ],
      "text/html": [
       "<div>\n",
       "<style scoped>\n",
       "    .dataframe tbody tr th:only-of-type {\n",
       "        vertical-align: middle;\n",
       "    }\n",
       "\n",
       "    .dataframe tbody tr th {\n",
       "        vertical-align: top;\n",
       "    }\n",
       "\n",
       "    .dataframe thead th {\n",
       "        text-align: right;\n",
       "    }\n",
       "</style>\n",
       "<table border=\"1\" class=\"dataframe\">\n",
       "  <thead>\n",
       "    <tr style=\"text-align: right;\">\n",
       "      <th></th>\n",
       "      <th>Results</th>\n",
       "    </tr>\n",
       "  </thead>\n",
       "  <tbody>\n",
       "    <tr>\n",
       "      <th>0</th>\n",
       "      <td>1.142565</td>\n",
       "    </tr>\n",
       "    <tr>\n",
       "      <th>1</th>\n",
       "      <td>1.146234</td>\n",
       "    </tr>\n",
       "    <tr>\n",
       "      <th>2</th>\n",
       "      <td>1.146193</td>\n",
       "    </tr>\n",
       "    <tr>\n",
       "      <th>3</th>\n",
       "      <td>1.146193</td>\n",
       "    </tr>\n",
       "    <tr>\n",
       "      <th>4</th>\n",
       "      <td>1.146193</td>\n",
       "    </tr>\n",
       "    <tr>\n",
       "      <th>5</th>\n",
       "      <td>1.146193</td>\n",
       "    </tr>\n",
       "  </tbody>\n",
       "</table>\n",
       "</div>"
      ]
     },
     "execution_count": 259,
     "metadata": {},
     "output_type": "execute_result"
    }
   ],
   "execution_count": 259
  },
  {
   "metadata": {
    "ExecuteTime": {
     "end_time": "2024-06-02T02:35:41.105082Z",
     "start_time": "2024-06-02T02:35:39.110041Z"
    }
   },
   "cell_type": "code",
   "source": [
    "ax = plt.gca()\n",
    "ax.axhline(y=-0.5375, color='r')\n",
    "plt.xticks([i for i in range(0, 12, 1)])\n",
    "plt.yticks([-i / 300 for i in range(0, 1000)])\n",
    "plt.title(\"Сходимость метода хорд\")\n",
    "plt.plot(ds)"
   ],
   "id": "f45d48cf47954a42",
   "outputs": [
    {
     "data": {
      "text/plain": [
       "[<matplotlib.lines.Line2D at 0x28593adf730>]"
      ]
     },
     "execution_count": 260,
     "metadata": {},
     "output_type": "execute_result"
    },
    {
     "data": {
      "text/plain": [
       "<Figure size 640x480 with 1 Axes>"
      ],
      "image/png": "[encoded data removed]"
     },
     "metadata": {},
     "output_type": "display_data"
    }
   ],
   "execution_count": 260
  },
  {
   "metadata": {
    "ExecuteTime": {
     "end_time": "2024-06-02T02:35:41.120560Z",
     "start_time": "2024-06-02T02:35:41.106038Z"
    }
   },
   "cell_type": "code",
   "source": "dn",
   "id": "bdfbe823b5b2387",
   "outputs": [
    {
     "data": {
      "text/plain": [
       "    Results\n",
       "0  1.153868\n",
       "1  1.146198\n",
       "2  1.146193\n",
       "3  1.146193"
      ],
      "text/html": [
       "<div>\n",
       "<style scoped>\n",
       "    .dataframe tbody tr th:only-of-type {\n",
       "        vertical-align: middle;\n",
       "    }\n",
       "\n",
       "    .dataframe tbody tr th {\n",
       "        vertical-align: top;\n",
       "    }\n",
       "\n",
       "    .dataframe thead th {\n",
       "        text-align: right;\n",
       "    }\n",
       "</style>\n",
       "<table border=\"1\" class=\"dataframe\">\n",
       "  <thead>\n",
       "    <tr style=\"text-align: right;\">\n",
       "      <th></th>\n",
       "      <th>Results</th>\n",
       "    </tr>\n",
       "  </thead>\n",
       "  <tbody>\n",
       "    <tr>\n",
       "      <th>0</th>\n",
       "      <td>1.153868</td>\n",
       "    </tr>\n",
       "    <tr>\n",
       "      <th>1</th>\n",
       "      <td>1.146198</td>\n",
       "    </tr>\n",
       "    <tr>\n",
       "      <th>2</th>\n",
       "      <td>1.146193</td>\n",
       "    </tr>\n",
       "    <tr>\n",
       "      <th>3</th>\n",
       "      <td>1.146193</td>\n",
       "    </tr>\n",
       "  </tbody>\n",
       "</table>\n",
       "</div>"
      ]
     },
     "execution_count": 261,
     "metadata": {},
     "output_type": "execute_result"
    }
   ],
   "execution_count": 261
  },
  {
   "metadata": {
    "ExecuteTime": {
     "end_time": "2024-06-02T02:35:42.611090Z",
     "start_time": "2024-06-02T02:35:41.121560Z"
    }
   },
   "cell_type": "code",
   "source": [
    "ax = plt.gca()\n",
    "ax.axhline(y=-0.5375, color='r')\n",
    "plt.xticks([i for i in range(0, 12, 1)])\n",
    "plt.yticks([-i / 100 for i in range(-100, 550)])\n",
    "plt.title(\"Сходимость метода касательных\")\n",
    "plt.plot(dn)"
   ],
   "id": "cf5a9a9b739acd36",
   "outputs": [
    {
     "data": {
      "text/plain": [
       "[<matplotlib.lines.Line2D at 0x28595354310>]"
      ]
     },
     "execution_count": 262,
     "metadata": {},
     "output_type": "execute_result"
    },
    {
     "data": {
      "text/plain": [
       "<Figure size 640x480 with 1 Axes>"
      ],
      "image/png": "[encoded data removed]"
     },
     "metadata": {},
     "output_type": "display_data"
    }
   ],
   "execution_count": 262
  },
  {
   "metadata": {
    "ExecuteTime": {
     "end_time": "2024-06-02T02:35:42.626606Z",
     "start_time": "2024-06-02T02:35:42.612091Z"
    }
   },
   "cell_type": "code",
   "source": "dd",
   "id": "adfb92479a9840ce",
   "outputs": [
    {
     "data": {
      "text/plain": [
       "     Results\n",
       "0   1.250000\n",
       "1   1.125000\n",
       "2   1.187500\n",
       "3   1.156250\n",
       "4   1.140625\n",
       "5   1.148438\n",
       "6   1.144531\n",
       "7   1.146484\n",
       "8   1.145508\n",
       "9   1.145996\n",
       "10  1.146240\n",
       "11  1.146118\n",
       "12  1.146179\n",
       "13  1.146210\n",
       "14  1.146194\n",
       "15  1.146187\n",
       "16  1.146191\n",
       "17  1.146193\n",
       "18  1.146194\n",
       "19  1.146193\n",
       "20  1.146193\n",
       "21  1.146193\n",
       "22  1.146193\n",
       "23  1.146193\n",
       "24  1.146193\n",
       "25  1.146193\n",
       "26  1.146193\n",
       "27  1.146193\n",
       "28  1.146193\n",
       "29  1.146193\n",
       "30  1.146193\n",
       "31  1.146193\n",
       "32  1.146193"
      ],
      "text/html": [
       "<div>\n",
       "<style scoped>\n",
       "    .dataframe tbody tr th:only-of-type {\n",
       "        vertical-align: middle;\n",
       "    }\n",
       "\n",
       "    .dataframe tbody tr th {\n",
       "        vertical-align: top;\n",
       "    }\n",
       "\n",
       "    .dataframe thead th {\n",
       "        text-align: right;\n",
       "    }\n",
       "</style>\n",
       "<table border=\"1\" class=\"dataframe\">\n",
       "  <thead>\n",
       "    <tr style=\"text-align: right;\">\n",
       "      <th></th>\n",
       "      <th>Results</th>\n",
       "    </tr>\n",
       "  </thead>\n",
       "  <tbody>\n",
       "    <tr>\n",
       "      <th>0</th>\n",
       "      <td>1.250000</td>\n",
       "    </tr>\n",
       "    <tr>\n",
       "      <th>1</th>\n",
       "      <td>1.125000</td>\n",
       "    </tr>\n",
       "    <tr>\n",
       "      <th>2</th>\n",
       "      <td>1.187500</td>\n",
       "    </tr>\n",
       "    <tr>\n",
       "      <th>3</th>\n",
       "      <td>1.156250</td>\n",
       "    </tr>\n",
       "    <tr>\n",
       "      <th>4</th>\n",
       "      <td>1.140625</td>\n",
       "    </tr>\n",
       "    <tr>\n",
       "      <th>5</th>\n",
       "      <td>1.148438</td>\n",
       "    </tr>\n",
       "    <tr>\n",
       "      <th>6</th>\n",
       "      <td>1.144531</td>\n",
       "    </tr>\n",
       "    <tr>\n",
       "      <th>7</th>\n",
       "      <td>1.146484</td>\n",
       "    </tr>\n",
       "    <tr>\n",
       "      <th>8</th>\n",
       "      <td>1.145508</td>\n",
       "    </tr>\n",
       "    <tr>\n",
       "      <th>9</th>\n",
       "      <td>1.145996</td>\n",
       "    </tr>\n",
       "    <tr>\n",
       "      <th>10</th>\n",
       "      <td>1.146240</td>\n",
       "    </tr>\n",
       "    <tr>\n",
       "      <th>11</th>\n",
       "      <td>1.146118</td>\n",
       "    </tr>\n",
       "    <tr>\n",
       "      <th>12</th>\n",
       "      <td>1.146179</td>\n",
       "    </tr>\n",
       "    <tr>\n",
       "      <th>13</th>\n",
       "      <td>1.146210</td>\n",
       "    </tr>\n",
       "    <tr>\n",
       "      <th>14</th>\n",
       "      <td>1.146194</td>\n",
       "    </tr>\n",
       "    <tr>\n",
       "      <th>15</th>\n",
       "      <td>1.146187</td>\n",
       "    </tr>\n",
       "    <tr>\n",
       "      <th>16</th>\n",
       "      <td>1.146191</td>\n",
       "    </tr>\n",
       "    <tr>\n",
       "      <th>17</th>\n",
       "      <td>1.146193</td>\n",
       "    </tr>\n",
       "    <tr>\n",
       "      <th>18</th>\n",
       "      <td>1.146194</td>\n",
       "    </tr>\n",
       "    <tr>\n",
       "      <th>19</th>\n",
       "      <td>1.146193</td>\n",
       "    </tr>\n",
       "    <tr>\n",
       "      <th>20</th>\n",
       "      <td>1.146193</td>\n",
       "    </tr>\n",
       "    <tr>\n",
       "      <th>21</th>\n",
       "      <td>1.146193</td>\n",
       "    </tr>\n",
       "    <tr>\n",
       "      <th>22</th>\n",
       "      <td>1.146193</td>\n",
       "    </tr>\n",
       "    <tr>\n",
       "      <th>23</th>\n",
       "      <td>1.146193</td>\n",
       "    </tr>\n",
       "    <tr>\n",
       "      <th>24</th>\n",
       "      <td>1.146193</td>\n",
       "    </tr>\n",
       "    <tr>\n",
       "      <th>25</th>\n",
       "      <td>1.146193</td>\n",
       "    </tr>\n",
       "    <tr>\n",
       "      <th>26</th>\n",
       "      <td>1.146193</td>\n",
       "    </tr>\n",
       "    <tr>\n",
       "      <th>27</th>\n",
       "      <td>1.146193</td>\n",
       "    </tr>\n",
       "    <tr>\n",
       "      <th>28</th>\n",
       "      <td>1.146193</td>\n",
       "    </tr>\n",
       "    <tr>\n",
       "      <th>29</th>\n",
       "      <td>1.146193</td>\n",
       "    </tr>\n",
       "    <tr>\n",
       "      <th>30</th>\n",
       "      <td>1.146193</td>\n",
       "    </tr>\n",
       "    <tr>\n",
       "      <th>31</th>\n",
       "      <td>1.146193</td>\n",
       "    </tr>\n",
       "    <tr>\n",
       "      <th>32</th>\n",
       "      <td>1.146193</td>\n",
       "    </tr>\n",
       "  </tbody>\n",
       "</table>\n",
       "</div>"
      ]
     },
     "execution_count": 263,
     "metadata": {},
     "output_type": "execute_result"
    }
   ],
   "execution_count": 263
  },
  {
   "metadata": {
    "ExecuteTime": {
     "end_time": "2024-06-02T02:35:45.128847Z",
     "start_time": "2024-06-02T02:35:42.627609Z"
    }
   },
   "cell_type": "code",
   "source": [
    "ax = plt.gca()\n",
    "ax.axhline(y=-0.5375, color='r')\n",
    "plt.xticks([i for i in range(0, 33, 2)])\n",
    "plt.yticks([-i / 100 for i in range(-5, 500)])\n",
    "plt.title(\"Сходимость метода дихотомии\")\n",
    "plt.plot(dd)"
   ],
   "id": "c5102b5a784e6873",
   "outputs": [
    {
     "data": {
      "text/plain": [
       "[<matplotlib.lines.Line2D at 0x285958170d0>]"
      ]
     },
     "execution_count": 264,
     "metadata": {},
     "output_type": "execute_result"
    },
    {
     "data": {
      "text/plain": [
       "<Figure size 640x480 with 1 Axes>"
      ],
      "image/png": "[encoded data removed]"
     },
     "metadata": {},
     "output_type": "display_data"
    }
   ],
   "execution_count": 264
  },
  {
   "metadata": {
    "ExecuteTime": {
     "end_time": "2024-06-02T02:35:45.271633Z",
     "start_time": "2024-06-02T02:35:45.129847Z"
    }
   },
   "cell_type": "code",
   "source": [
    "plt.xticks([i for i in range(0, 34 + 1, 2)])\n",
    "plt.plot(ds['Results'], 'g', label=\"Метод хорд\")\n",
    "plt.plot(ds['Results'], 'go')\n",
    "plt.plot(dn['Results'], 'r', label=\"Метод касательных\")\n",
    "plt.plot(dn['Results'], 'ro')\n",
    "plt.plot(dd['Results'], 'b', label=\"Метод дихотомии\")\n",
    "plt.plot(dd['Results'], 'bo')\n",
    "plt.legend()\n",
    "plt.show()"
   ],
   "id": "3a2caa928b4632cb",
   "outputs": [
    {
     "data": {
      "text/plain": [
       "<Figure size 640x480 with 1 Axes>"
      ],
      "image/png": "[encoded data removed]"
     },
     "metadata": {},
     "output_type": "display_data"
    }
   ],
   "execution_count": 265
  },
  {
   "metadata": {
    "ExecuteTime": {
     "end_time": "2024-06-02T02:35:45.553132Z",
     "start_time": "2024-06-02T02:35:45.272633Z"
    }
   },
   "cell_type": "code",
   "source": [
    "x = np.linspace(-2, 2, int(1e6))\n",
    "plt.grid()\n",
    "plt.xticks([i / 2 for i in range(-2 * 2, (2 + 1) * 2, 1)])\n",
    "plt.yticks([i for i in range(-20, 20 + 1, 1)])\n",
    "y = func(x)\n",
    "ax = plt.gca()\n",
    "ax.axhline(y=0, color='k')\n",
    "ax.axvline(x=0, color='k')\n",
    "ax.axvline(x=-0.75, color='r')\n",
    "ax.axvline(x=-0.25, color='r')\n",
    "plt.scatter(-0.5373, 0, color='black')\n",
    "plt.plot(x, y)"
   ],
   "id": "3281be7132484f75",
   "outputs": [
    {
     "data": {
      "text/plain": [
       "[<matplotlib.lines.Line2D at 0x2858f0600a0>]"
      ]
     },
     "execution_count": 266,
     "metadata": {},
     "output_type": "execute_result"
    },
    {
     "data": {
      "text/plain": [
       "<Figure size 640x480 with 1 Axes>"
      ],
      "image/png": "[encoded data removed]"
     },
     "metadata": {},
     "output_type": "display_data"
    }
   ],
   "execution_count": 266
  },
  {
   "metadata": {
    "ExecuteTime": {
     "end_time": "2024-06-02T02:35:45.569163Z",
     "start_time": "2024-06-02T02:35:45.554638Z"
    }
   },
   "cell_type": "code",
   "source": "",
   "id": "ac7b783d8d247046",
   "outputs": [],
   "execution_count": 266
  },
  {
   "metadata": {
    "ExecuteTime": {
     "end_time": "2024-06-02T02:35:45.585186Z",
     "start_time": "2024-06-02T02:35:45.570166Z"
    }
   },
   "cell_type": "code",
   "source": "",
   "id": "a933722a9480e1f9",
   "outputs": [],
   "execution_count": 266
  }
 ],
 "metadata": {
  "kernelspec": {
   "display_name": "Python 3",
   "language": "python",
   "name": "python3"
  },
  "language_info": {
   "codemirror_mode": {
    "name": "ipython",
    "version": 2
   },
   "file_extension": ".py",
   "mimetype": "text/x-python",
   "name": "python",
   "nbconvert_exporter": "python",
   "pygments_lexer": "ipython2",
   "version": "2.7.6"
  }
 },
 "nbformat": 4,
 "nbformat_minor": 5
}
