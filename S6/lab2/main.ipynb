{
 "cells": [
  {
   "cell_type": "markdown",
   "metadata": {},
   "source": [
    "# Условия\n",
    "Вариант 15\n",
    "\n"
   ]
  },
  {
   "cell_type": "code",
   "execution_count": null,
   "metadata": {},
   "outputs": [],
   "source": [
    "import numpy as np\n",
    "from numpy import sin, log, sqrt"
   ]
  },
  {
   "cell_type": "code",
   "execution_count": null,
   "metadata": {},
   "outputs": [],
   "source": [
    "def p(x):\n",
    "    return 2 * sqrt(x + 1)\n",
    "\n",
    "\n",
    "def q(x):\n",
    "    return -1 / sqrt(x + 1)\n",
    "\n",
    "\n",
    "def f(x):\n",
    "    return -log(x + 1) / sqrt(x + 1) + 2"
   ]
  },
  {
   "cell_type": "code",
   "execution_count": null,
   "metadata": {},
   "outputs": [],
   "source": [
    "def r(p, h):\n",
    "    return p / 2 * h\n",
    "\n",
    "\n",
    "def a_i(p, h):\n",
    "    r = r(p, h)\n",
    "    return 1 / (h**2) * (1 + r * sin(r) - r)\n",
    "\n",
    "\n",
    "def c_i(p, h):\n",
    "    r = r(p, h)\n",
    "    return 1 / (h**2) * (1 + r * sin(r) + r)"
   ]
  },
  {
   "cell_type": "code",
   "execution_count": null,
   "metadata": {},
   "outputs": [],
   "source": [
    "def prec(x):\n",
    "    return sqrt(x + 1) * log(x + 1)"
   ]
  },
  {
   "cell_type": "code",
   "execution_count": null,
   "metadata": {},
   "outputs": [],
   "source": [
    "alpha_o = 1\n",
    "beta_o = 0\n",
    "gamma_o = 0\n",
    "alpha_n = 1\n",
    "beta_n = 0\n",
    "gamma_n = 0.98025"
   ]
  },
  {
   "cell_type": "markdown",
   "metadata": {},
   "source": [
    "# Решение"
   ]
  },
  {
   "cell_type": "code",
   "execution_count": null,
   "metadata": {},
   "outputs": [
    {
     "data": {
      "text/plain": [
       "array([0. , 0.1, 0.2, 0.3, 0.4, 0.5, 0.6, 0.7, 0.8, 0.9, 1. ])"
      ]
     },
     "execution_count": 6,
     "metadata": {},
     "output_type": "execute_result"
    }
   ],
   "source": [
    "N = 10\n",
    "h = 1 / N\n",
    "\n",
    "x_mass = np.linspace(0, 1, N + 1)\n",
    "A = np.zeros((N + 1, N + 1))\n",
    "b = np.zeros(N + 1)"
   ]
  },
  {
   "cell_type": "code",
   "execution_count": null,
   "metadata": {},
   "outputs": [],
   "source": [
    "for i in range(1, N):\n",
    "    A[i][i - 1]"
   ]
  },
  {
   "cell_type": "code",
   "execution_count": null,
   "metadata": {},
   "outputs": [],
   "source": [
    "A[0][0] = "
   ]
  },
  {
   "cell_type": "code",
   "execution_count": null,
   "metadata": {},
   "outputs": [],
   "source": []
  }
 ],
 "metadata": {
  "kernelspec": {
   "display_name": "Calc_venv",
   "language": "python",
   "name": "python3"
  },
  "language_info": {
   "codemirror_mode": {
    "name": "ipython",
    "version": 3
   },
   "file_extension": ".py",
   "mimetype": "text/x-python",
   "name": "python",
   "nbconvert_exporter": "python",
   "pygments_lexer": "ipython3",
   "version": "3.11.9"
  }
 },
 "nbformat": 4,
 "nbformat_minor": 2
}
