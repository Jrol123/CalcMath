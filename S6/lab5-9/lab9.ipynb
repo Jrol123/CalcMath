{
 "cells": [
  {
   "cell_type": "markdown",
   "id": "4fefc36a",
   "metadata": {},
   "source": [
    "$$\n",
    "u(x) - \\int\\limits_{0}^{1} \\dfrac{xs}{\\sqrt{1+0.1 xs}} u(s) ds = 1 + x\n",
    "$$"
   ]
  },
  {
   "cell_type": "markdown",
   "id": "8a9a6736",
   "metadata": {},
   "source": [
    "$$\n",
    "k(x, s) = xs + \\dfrac{1}{20}x^2 s^2\n",
    "$$"
   ]
  },
  {
   "cell_type": "code",
   "execution_count": 19,
   "id": "bc651c4f",
   "metadata": {},
   "outputs": [],
   "source": [
    "import numpy as np\n",
    "from scipy.integrate import quad"
   ]
  },
  {
   "cell_type": "code",
   "execution_count": 20,
   "id": "830aa95e",
   "metadata": {},
   "outputs": [],
   "source": [
    "def alpha1(x): return x\n",
    "def alpha2(x): return -0.05 * x**2\n",
    "def beta1(s): return s\n",
    "def beta2(s): return s**2\n",
    "def f(x): return 1 + x"
   ]
  },
  {
   "cell_type": "code",
   "execution_count": 21,
   "id": "5187ea42",
   "metadata": {},
   "outputs": [],
   "source": [
    "b1, _ = quad(lambda s: beta1(s)*f(s), 0, 1)\n",
    "b2, _ = quad(lambda s: beta2(s)*f(s), 0, 1)\n",
    "\n",
    "a11, _ = quad(lambda s: beta1(s)*alpha1(s), 0, 1)\n",
    "a12, _ = quad(lambda s: beta1(s)*alpha2(s), 0, 1)\n",
    "a21, _ = quad(lambda s: beta2(s)*alpha1(s), 0, 1)\n",
    "a22, _ = quad(lambda s: beta2(s)*alpha2(s), 0, 1)"
   ]
  },
  {
   "cell_type": "code",
   "execution_count": 22,
   "id": "691eaaed",
   "metadata": {},
   "outputs": [],
   "source": [
    "A = np.array([[a11, a12], [a21, a22]])\n",
    "B = np.array([b1, b2])"
   ]
  },
  {
   "cell_type": "code",
   "execution_count": 23,
   "id": "476d8a0a",
   "metadata": {},
   "outputs": [],
   "source": [
    "I = np.eye(2)\n",
    "c = np.linalg.solve(I - A, B)"
   ]
  },
  {
   "cell_type": "code",
   "execution_count": 24,
   "id": "80d4dced",
   "metadata": {},
   "outputs": [],
   "source": [
    "def u(x):\n",
    "    return f(x) + c[0]*alpha1(x) + c[1]*alpha2(x)"
   ]
  },
  {
   "cell_type": "code",
   "execution_count": 25,
   "id": "f6c3371f",
   "metadata": {},
   "outputs": [
    {
     "data": {
      "image/png": "[encoded data removed]",
      "text/plain": [
       "<Figure size 640x480 with 1 Axes>"
      ]
     },
     "metadata": {},
     "output_type": "display_data"
    }
   ],
   "source": [
    "import matplotlib.pyplot as plt\n",
    "\n",
    "x_vals = np.linspace(0, 1, 100)\n",
    "u_vals = [u(x) for x in x_vals]\n",
    "\n",
    "plt.plot(x_vals, u_vals)\n",
    "\n",
    "plt.xlabel('x')\n",
    "plt.ylabel('u(x)')\n",
    "\n",
    "plt.show()"
   ]
  },
  {
   "cell_type": "code",
   "execution_count": 34,
   "id": "201a7f4f",
   "metadata": {},
   "outputs": [
    {
     "name": "stdout",
     "output_type": "stream",
     "text": [
      "Среднеквадратичная невязка: 2.42e-03\n"
     ]
    }
   ],
   "source": [
    "def integral_term(x):\n",
    "    integrand = lambda s: K(x, s) * u(s)\n",
    "    result, _ = quad(integrand, 0, 1)\n",
    "    return result\n",
    "\n",
    "def residual(x):\n",
    "    return u(x) - integral_term(x) - f(x)\n",
    "\n",
    "x_points = np.linspace(0, 1, 20)\n",
    "residuals = [residual(x) for x in x_points]\n",
    "\n",
    "mse = np.sqrt(np.max(np.array(residuals)**2))\n",
    "print(f\"Среднеквадратичная невязка: {mse:.2e}\")"
   ]
  }
 ],
 "metadata": {
  "kernelspec": {
   "display_name": "Python 3",
   "language": "python",
   "name": "python3"
  },
  "language_info": {
   "codemirror_mode": {
    "name": "ipython",
    "version": 3
   },
   "file_extension": ".py",
   "mimetype": "text/x-python",
   "name": "python",
   "nbconvert_exporter": "python",
   "pygments_lexer": "ipython3",
   "version": "3.12.7"
  }
 },
 "nbformat": 4,
 "nbformat_minor": 5
}
