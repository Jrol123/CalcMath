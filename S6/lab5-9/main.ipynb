{
 "cells": [
  {
   "cell_type": "markdown",
   "id": "c9ea76bf",
   "metadata": {},
   "source": [
    "# Условия и уравнения\n",
    "\n",
    "Вариант 15"
   ]
  },
  {
   "cell_type": "markdown",
   "id": "0df524f4",
   "metadata": {},
   "source": [
    "## Условия"
   ]
  },
  {
   "cell_type": "markdown",
   "id": "b4a544b2",
   "metadata": {},
   "source": [
    "$u'' - u' - u = 3\\sin(x) - \\cos(x)$\n",
    "\n",
    "$u'(0) = -1$\n",
    "\n",
    "$u(1) + 2u'(1) = -(\\cos(1) + 3\\sin(1))$\n",
    "\n",
    "$u(x) = \\cos(x) - \\sin(x)$"
   ]
  },
  {
   "cell_type": "markdown",
   "id": "6212f003",
   "metadata": {},
   "source": [
    "## Уравнения"
   ]
  },
  {
   "cell_type": "markdown",
   "id": "c4ebf427",
   "metadata": {},
   "source": [
    "$\\phi_0(x) = \\dfrac 3 4 \\cdot x^2 - x - \\cos(1) - 3\\sin(1) + 3$\n",
    "\n",
    "$\\phi_0'(x) = \\dfrac 3 2 \\cdot x - 1$\n",
    "\n",
    "$\\phi_0''(x) = \\dfrac 3 2$\n",
    "\n",
    "----\n",
    "\n",
    "$\\phi_k(x) = \\left(1 - x\\right)^{2} \\cdot x^{k + 1}$\n",
    "\n",
    "$\\phi_k'(x) = {x}^{k}\\,\\left(\\left(k+3\\right)\\,{x}^{2}+\\left(-2\\,k-4\\right)\\,x+k+1\\right)$\n",
    "\n",
    "$\\phi_k''(x) = {x}^{k-1}\\,\\left(\\left({k}^{2}+5\\,k+6\\right)\\,{x}^{2}+\\left(-2\\,{k}^{2}-6\\,k-4\\right)\\,x+{k}^{2}+k\\right)$"
   ]
  },
  {
   "cell_type": "code",
   "execution_count": 33,
   "id": "2e764d8a",
   "metadata": {},
   "outputs": [],
   "source": [
    "def phi_0(x):\n",
    "    return 3/4 * x ** 2 - x - cos(1) - 3 * sin(1) + 3"
   ]
  },
  {
   "cell_type": "code",
   "execution_count": 34,
   "id": "b9497d52",
   "metadata": {},
   "outputs": [],
   "source": [
    "def phi_0s(x):\n",
    "    return 3/2 * x - 1"
   ]
  },
  {
   "cell_type": "code",
   "execution_count": 35,
   "id": "0c5a789a",
   "metadata": {},
   "outputs": [
    {
     "data": {
      "text/plain": [
       "(np.float64(-0.06471526029182906), np.float64(-0.31471526029182906))"
      ]
     },
     "execution_count": 35,
     "metadata": {},
     "output_type": "execute_result"
    }
   ],
   "source": [
    "phi_0(0), phi_0(1)"
   ]
  },
  {
   "cell_type": "code",
   "execution_count": 36,
   "id": "1de1c2dc",
   "metadata": {},
   "outputs": [
    {
     "data": {
      "text/plain": [
       "-1.0"
      ]
     },
     "execution_count": 36,
     "metadata": {},
     "output_type": "execute_result"
    }
   ],
   "source": [
    "phi_0s(0)"
   ]
  },
  {
   "cell_type": "markdown",
   "id": "fe31d21d",
   "metadata": {},
   "source": [
    "$p(x) = e^{-x}$\n",
    "\n",
    "$q(x) = -e^{-x}$\n",
    "\n",
    "$f(x) = e^{-x} \\cdot \\left(3\\sin(x) - \\cos(x)\\right) $"
   ]
  },
  {
   "cell_type": "markdown",
   "id": "fb0dd01a",
   "metadata": {},
   "source": [
    "$a = 0$\n",
    "\n",
    "$b = 1$"
   ]
  },
  {
   "cell_type": "markdown",
   "id": "a68c8a33",
   "metadata": {},
   "source": [
    "$n = 2$"
   ]
  },
  {
   "cell_type": "markdown",
   "id": "60b5d947",
   "metadata": {},
   "source": [
    "$$\n",
    "\\sum \\limits_{k = 1}^2 \\left( C_k \\cdot {x}^{k}\\,\\left(\\left(k+3\\right)\\,{x}^{2}+\\left(-2\\,k-4\\right)\\,x+k+1\\right) \\right)\n",
    "$$"
   ]
  },
  {
   "cell_type": "markdown",
   "id": "c81b54aa",
   "metadata": {},
   "source": [
    "$$\n",
    "k_1: \\quad C_1 \\cdot \\left[4x^3 -6x^2 + 2x\\right]\n",
    "$$\n",
    "\n",
    "$$\n",
    "k_2: \\quad C_2 \\cdot \\left[5x^4 -8x^3 + 3x^2\\right]\n",
    "$$\n",
    "\n",
    "$$\n",
    "k_s: \\quad C_1 \\cdot \\left[4x^3 -6x^2 + 2x\\right] + C_2 \\cdot \\left[5x^4 -8x^3 + 3x^2\\right]\n",
    "$$"
   ]
  },
  {
   "cell_type": "markdown",
   "id": "a7df1c3b",
   "metadata": {},
   "source": [
    "$$\n",
    "J[u] = \\int \\limits_0^1 \\left\\{ e^{-x} \\cdot\\left[ \\dfrac 3 2 \\cdot x - 1 + k_s \\right]^2 + e^{-x} \\left[\\dfrac 3 4 \\cdot x^2 - x - \\cos(1) - 3\\sin(1) + 3 + k_s \\right]^2 + 2e^{-x}\\cdot\\left(3\\sin(x) - \\cos(x)\\right) \\cdot \\left[ \\dfrac 3 4 \\cdot x^2 - x - \\cos(1) - 3\\sin(1) + 3 + k_s \\right] \\right\\} dx = \n",
    "$$\n",
    "$$\n",
    "= \\Phi\\left(C_1, C_2\\right)\n",
    "$$"
   ]
  },
  {
   "cell_type": "markdown",
   "id": "c9f38335",
   "metadata": {},
   "source": [
    "$$\n",
    "J[u] = \\int \\limits_0^1 e^{-x} \\cdot \\left\\{ \\left[ \\dfrac 3 2 \\cdot x - 1 + k_s \\right]^2 + \\left[\\dfrac 3 4 \\cdot x^2 - x - \\cos(1) - 3\\sin(1) + 3 + k_s \\right]^2 + 2\\cdot\\left(3\\sin(x) - \\cos(x)\\right) \\cdot \\left[ \\dfrac 3 4 \\cdot x^2 - x - \\cos(1) - 3\\sin(1) + 3 + k_s \\right] \\right\\} dx = \n",
    "$$\n",
    "$$\n",
    "= \\Phi\\left(C_1, C_2\\right)\n",
    "$$"
   ]
  },
  {
   "cell_type": "markdown",
   "id": "c92d2331",
   "metadata": {},
   "source": [
    "$$\n",
    "\\dfrac{\\partial J[u]}{\\partial C_1} = \\int \\limits_0^1 e^{-x} \\cdot \\left\\{ 2C_1 \\cdot \\left[4x^3 - 6x^2 + 2x\\right]^2 + 2C_2\\left[4x^3 - 6x^2 + 2x\\right] \\left[5x^4 - 8x^3 + 3x^2\\right] + \\left(6\\sin(x) - 2\\cos(x) \\right) \\cdot \\left[8x^3 - 12x^2 + 4x\\right] \\right\\} = 0\n",
    "$$"
   ]
  },
  {
   "cell_type": "markdown",
   "id": "25ed5a00",
   "metadata": {},
   "source": [
    "$$\n",
    "\\dfrac{\\partial J[u]}{\\partial C_1} = 0.02407C_{1} + 0.01105C_{2} -0.2168 = 0\n",
    "$$"
   ]
  },
  {
   "cell_type": "markdown",
   "id": "aa4ebf5a",
   "metadata": {},
   "source": [
    "$$\n",
    "\\dfrac{\\partial J[u]}{\\partial C_2} = \\int\\limits_0^1 e^{-x} \\cdot \\left\\{ 2C_1 \\left[4x^3 - 6x^2 + 2x\\right]\\left[5x^4 - 8x^3 + 3x^2\\right] + 2C_2 \\left[5x^4 - 8x^3 + 3x^2\\right]^2 + \\left(6\\sin(x) - 2\\cos(x)\\right)\\left[10x^4 - 16x^3 + 6x^2\\right] \\right\\}\n",
    "$$"
   ]
  },
  {
   "cell_type": "markdown",
   "id": "32e49367",
   "metadata": {},
   "source": [
    "$$\n",
    "\\dfrac{\\partial J[u]}{\\partial C_2} = 0.01105C_1 + 0.00702C_2 - 0.0903606 = 0\n",
    "$$"
   ]
  },
  {
   "cell_type": "markdown",
   "id": "4c8ffdbc",
   "metadata": {},
   "source": [
    "$$\n",
    "\\begin{cases}\n",
    "0.02407C_{1} + 0.01105C_{2} -0.2168 = 0 \\\\\n",
    "0.01105C_1 + 0.00702C_2 - 0.0903606 = 0\n",
    "\\end{cases}\n",
    "$$"
   ]
  },
  {
   "cell_type": "markdown",
   "id": "c5973319",
   "metadata": {},
   "source": [
    "$$\n",
    "\\left\\{\\begin{gathered}C_1=-\\dfrac{4026549}{8092720} = -0.497551997351\\\\C_2=\\dfrac{10890710179}{526026800} = 20.7037173372\\end{gathered}\\right.\n",
    "$$"
   ]
  },
  {
   "cell_type": "markdown",
   "id": "1b9657b2",
   "metadata": {},
   "source": [
    "$$\n",
    "u(x) = \\dfrac 3 4 \\cdot x^2 - x - \\cos(1) - 3\\sin(1) + 3 + C_1 \\cdot \\left[4x^3 -6x^2 + 2x\\right] + C_2 \\cdot \\left[5x^4 -8x^3 + 3x^2\\right]\n",
    "$$"
   ]
  },
  {
   "cell_type": "markdown",
   "id": "d78d967a",
   "metadata": {},
   "source": [
    "# Imports"
   ]
  },
  {
   "cell_type": "code",
   "execution_count": 37,
   "id": "c1e491a8",
   "metadata": {},
   "outputs": [],
   "source": [
    "import numpy as np\n",
    "from numpy import cos, sin"
   ]
  },
  {
   "cell_type": "code",
   "execution_count": 38,
   "id": "cd409591",
   "metadata": {},
   "outputs": [],
   "source": [
    "import matplotlib.pyplot as plt"
   ]
  },
  {
   "cell_type": "code",
   "execution_count": 39,
   "id": "a11bf73e",
   "metadata": {},
   "outputs": [],
   "source": [
    "C1 = -0.497551997351"
   ]
  },
  {
   "cell_type": "code",
   "execution_count": 40,
   "id": "7b96a941",
   "metadata": {},
   "outputs": [],
   "source": [
    "C2 = 20.7037173372"
   ]
  },
  {
   "cell_type": "code",
   "execution_count": null,
   "id": "1d15b270",
   "metadata": {},
   "outputs": [],
   "source": [
    "def u(x):\n",
    "    return (\n",
    "        3 / 4 * pow(x, 2)\n",
    "        - x\n",
    "        - cos(1)\n",
    "        - 3 * sin(1)\n",
    "        + 3\n",
    "        + C1 * (4 * pow(x, 3) - 6 * pow(x, 2) + 2 * x)\n",
    "        + C2 * (5 * pow(x, 4) - 8 * pow(x, 3) + 3 * pow(x, 2))\n",
    "    )"
   ]
  },
  {
   "cell_type": "code",
   "execution_count": 54,
   "id": "7cb03788",
   "metadata": {},
   "outputs": [],
   "source": [
    "def us(x):\n",
    "    return (\n",
    "        20 * C2 * x**3\n",
    "        + (12 * C1 - 24 * C2) * x**2\n",
    "        + ((12 * C2 - 24 * C1 + 3) * x) / 2\n",
    "        + 2 * C1\n",
    "        - 1\n",
    "    )"
   ]
  },
  {
   "cell_type": "code",
   "execution_count": 56,
   "id": "524f26ac",
   "metadata": {},
   "outputs": [
    {
     "data": {
      "text/plain": [
       "-1.995103994702"
      ]
     },
     "execution_count": 56,
     "metadata": {},
     "output_type": "execute_result"
    }
   ],
   "source": [
    "us(0)"
   ]
  },
  {
   "cell_type": "code",
   "execution_count": 49,
   "id": "7f1e8201",
   "metadata": {},
   "outputs": [],
   "source": [
    "def u_t(x):\n",
    "    return cos(x) - sin(x)"
   ]
  },
  {
   "cell_type": "code",
   "execution_count": 50,
   "id": "4e847cb7",
   "metadata": {},
   "outputs": [],
   "source": [
    "x_r = np.linspace(0, 1, 100)\n",
    "\n",
    "y_p = u(x_r)\n",
    "y_t = u_t(x_r)"
   ]
  },
  {
   "cell_type": "code",
   "execution_count": 51,
   "id": "4f9d0d9d",
   "metadata": {},
   "outputs": [
    {
     "data": {
      "text/plain": [
       "np.float64(-0.06471526029182906)"
      ]
     },
     "execution_count": 51,
     "metadata": {},
     "output_type": "execute_result"
    }
   ],
   "source": [
    "u(0)"
   ]
  },
  {
   "cell_type": "code",
   "execution_count": 52,
   "id": "0ab83aac",
   "metadata": {},
   "outputs": [
    {
     "data": {
      "text/plain": [
       "[<matplotlib.lines.Line2D at 0x18f104a47d0>]"
      ]
     },
     "execution_count": 52,
     "metadata": {},
     "output_type": "execute_result"
    },
    {
     "data": {
      "image/png": "[encoded data removed]",
      "text/plain": [
       "<Figure size 640x480 with 1 Axes>"
      ]
     },
     "metadata": {},
     "output_type": "display_data"
    }
   ],
   "source": [
    "plt.plot(x_r, y_p)\n",
    "plt.plot(x_r, y_t)"
   ]
  },
  {
   "cell_type": "code",
   "execution_count": null,
   "id": "acfffba5",
   "metadata": {},
   "outputs": [],
   "source": []
  }
 ],
 "metadata": {
  "kernelspec": {
   "display_name": "Calc_venv",
   "language": "python",
   "name": "python3"
  },
  "language_info": {
   "codemirror_mode": {
    "name": "ipython",
    "version": 3
   },
   "file_extension": ".py",
   "mimetype": "text/x-python",
   "name": "python",
   "nbconvert_exporter": "python",
   "pygments_lexer": "ipython3",
   "version": "3.11.9"
  }
 },
 "nbformat": 4,
 "nbformat_minor": 5
}
