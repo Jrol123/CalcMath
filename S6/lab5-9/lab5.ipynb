{
 "cells": [
  {
   "cell_type": "markdown",
   "metadata": {},
   "source": [
    "# Условие"
   ]
  },
  {
   "cell_type": "markdown",
   "metadata": {},
   "source": [
    "$$\n",
    "u'' - 2u' - u=-2xe^{x}\n",
    "$$\n",
    "$$\n",
    "u(0)=0 \n",
    "$$\n",
    "$$\n",
    "u(1)=e \n",
    "$$\n",
    "$$\n",
    "u(x) = xe^x\n",
    "$$"
   ]
  },
  {
   "cell_type": "markdown",
   "metadata": {},
   "source": [
    "# Решение"
   ]
  },
  {
   "cell_type": "markdown",
   "metadata": {},
   "source": [
    "$$\n",
    "\\phi_0(x) = x \\cdot e ^ x\n",
    "$$\n",
    "$$\n",
    "\\phi'_0(x) = (1 + x) e^x\n",
    "$$\n",
    "$$\n",
    "\\phi''_0(x) = (2 + x) e^x\n",
    "$$\n",
    "$$\n",
    "\\phi_k(x) = x \\cdot (1 - x^k)\n",
    "$$\n",
    "$$\n",
    "\\phi'_k(x) = 1 - (1 + k) \\cdot x^k\n",
    "$$\n",
    "$$\n",
    "\\phi''_k(x) = - k \\cdot (1 + k) \\cdot x^{k - 1}\n",
    "$$"
   ]
  },
  {
   "cell_type": "markdown",
   "metadata": {},
   "source": [
    "$$\n",
    "L\\phi_k = -k(1+k)x^{k-1} - 2 + 2(1+k)x^k - x(1-x^k)\n",
    "$$"
   ]
  },
  {
   "cell_type": "markdown",
   "metadata": {},
   "source": [
    "$$\n",
    "A_{ij} = \\int\\limits_0^1 x \\cdot (1-x^i) \\cdot (-k(1+k)x^{k-1} - 2 + 2(1+k)x^k - x(1-x^k)) ~ dx = \n",
    "$$"
   ]
  },
  {
   "cell_type": "markdown",
   "metadata": {},
   "source": [
    "$$\n",
    "=-j+\\frac{2\\left(j+1\\right)}{j+2}-\\frac{4}{3}+\\frac{1}{j+3}+\\frac{j\\left(j+1\\right)}{j+i+1}+\\frac{2}{i+2}-\\frac{2\\left(j+1\\right)}{i+j+2}+\\frac{1}{i+3}-\\frac{1}{i+j+3}\n",
    "$$"
   ]
  },
  {
   "cell_type": "markdown",
   "metadata": {},
   "source": [
    "$$\n",
    "L\\phi_0 = -2xe^x\n",
    "$$"
   ]
  },
  {
   "cell_type": "markdown",
   "metadata": {},
   "source": [
    "$$\n",
    "d_i = 0\n",
    "$$"
   ]
  },
  {
   "cell_type": "markdown",
   "metadata": {},
   "source": [
    "# Funcs"
   ]
  },
  {
   "cell_type": "markdown",
   "metadata": {},
   "source": [
    "## Imports"
   ]
  },
  {
   "cell_type": "code",
   "execution_count": 12,
   "metadata": {},
   "outputs": [],
   "source": [
    "from numpy import zeros, exp, linspace, linalg\n",
    "import matplotlib.pyplot as plt"
   ]
  },
  {
   "cell_type": "markdown",
   "metadata": {},
   "source": [
    "## Variables"
   ]
  },
  {
   "cell_type": "code",
   "execution_count": 13,
   "metadata": {},
   "outputs": [],
   "source": [
    "N = 2"
   ]
  },
  {
   "cell_type": "code",
   "execution_count": 14,
   "metadata": {},
   "outputs": [],
   "source": [
    "arr = zeros((N, N))\n",
    "b = zeros(N)"
   ]
  },
  {
   "cell_type": "code",
   "execution_count": 15,
   "metadata": {},
   "outputs": [],
   "source": [
    "def A(i, j):\n",
    "    return (\n",
    "        -j\n",
    "        + 2 * (j + 1) / (j + 2)\n",
    "        - 4 / 3\n",
    "        + 1 / (j + 3)\n",
    "        + j * (j + 1) / (i + j + 1)\n",
    "        + 2 / (i + 2)\n",
    "        - 2 * (j + 1) / (i + j + 2)\n",
    "        + 1 / (i + 3)\n",
    "        - 1 / (i + j + 3)\n",
    "    )"
   ]
  },
  {
   "cell_type": "code",
   "execution_count": 16,
   "metadata": {},
   "outputs": [],
   "source": [
    "def d(i):\n",
    "    return 0"
   ]
  },
  {
   "cell_type": "code",
   "execution_count": 17,
   "metadata": {},
   "outputs": [],
   "source": [
    "for i in range(N):\n",
    "    for j in range(N):\n",
    "        arr[i, j] = A(i + 1, j + 1)\n",
    "\n",
    "    b[i] = d(i + 1)"
   ]
  },
  {
   "cell_type": "code",
   "execution_count": 18,
   "metadata": {},
   "outputs": [
    {
     "data": {
      "text/plain": [
       "array([-0.,  0.])"
      ]
     },
     "execution_count": 18,
     "metadata": {},
     "output_type": "execute_result"
    }
   ],
   "source": [
    "C = linalg.solve(arr, b)\n",
    "C"
   ]
  },
  {
   "cell_type": "markdown",
   "metadata": {},
   "source": [
    "## Functions"
   ]
  },
  {
   "cell_type": "code",
   "execution_count": 19,
   "metadata": {},
   "outputs": [],
   "source": [
    "def u0(x):\n",
    "    return x * exp(x)"
   ]
  },
  {
   "cell_type": "code",
   "execution_count": 20,
   "metadata": {},
   "outputs": [],
   "source": [
    "def phi(k, x):\n",
    "    return x * (1 - x**k)"
   ]
  },
  {
   "cell_type": "code",
   "execution_count": 21,
   "metadata": {},
   "outputs": [],
   "source": [
    "def u_approx(x):\n",
    "    res = u0(x)\n",
    "\n",
    "    for k in range(N):\n",
    "        res += C[k] * phi(k + 1, x)\n",
    "\n",
    "    return res\n",
    "\n",
    "\n",
    "def precise(x):\n",
    "    return x * exp(x)"
   ]
  },
  {
   "cell_type": "markdown",
   "metadata": {},
   "source": [
    "# Graphs"
   ]
  },
  {
   "cell_type": "code",
   "execution_count": null,
   "metadata": {},
   "outputs": [
    {
     "data": {
      "image/png": "[encoded data removed]",
      "text/plain": [
       "<Figure size 640x480 with 1 Axes>"
      ]
     },
     "metadata": {},
     "output_type": "display_data"
    }
   ],
   "source": [
    "x_r = linspace(0, 1, 100)\n",
    "\n",
    "plt.plot(x_r, u_approx(x_r), label=f\"Approx (N={N})\")\n",
    "plt.plot(x_r, precise(x_r), label=\"Precise\")\n",
    "\n",
    "plt.legend()\n",
    "\n",
    "plt.show()"
   ]
  }
 ],
 "metadata": {
  "kernelspec": {
   "display_name": "Calc",
   "language": "python",
   "name": "python3"
  },
  "language_info": {
   "codemirror_mode": {
    "name": "ipython",
    "version": 3
   },
   "file_extension": ".py",
   "mimetype": "text/x-python",
   "name": "python",
   "nbconvert_exporter": "python",
   "pygments_lexer": "ipython3",
   "version": "3.11.9"
  }
 },
 "nbformat": 4,
 "nbformat_minor": 2
}
