{
 "cells": [
  {
   "cell_type": "markdown",
   "id": "21b47ce6",
   "metadata": {},
   "source": [
    "# Условие"
   ]
  },
  {
   "cell_type": "markdown",
   "id": "b19dc027",
   "metadata": {},
   "source": [
    "Вариант — 15"
   ]
  },
  {
   "cell_type": "markdown",
   "id": "9950e8ae",
   "metadata": {},
   "source": [
    "$u'' - u' - u = 3\\sin(x) - \\cos(x)$\n",
    "\n",
    "$u'(0) = -1$\n",
    "\n",
    "$u(1) + 2u'(1) = -(\\cos(1) + 3\\sin(1))$\n",
    "\n",
    "$u(x) = \\cos(x) - \\sin(x)$"
   ]
  },
  {
   "cell_type": "markdown",
   "id": "8f66f77e",
   "metadata": {},
   "source": [
    "# Решение"
   ]
  },
  {
   "cell_type": "markdown",
   "id": "a67aa07f",
   "metadata": {},
   "source": [
    "$n=2$"
   ]
  },
  {
   "cell_type": "markdown",
   "id": "58ebb56b",
   "metadata": {},
   "source": [
    "$u(x) = w(x) + v(x)$\n",
    "\n",
    "$w(x) \\approx -0.01296 x^2 - x$\n",
    "\n",
    "$v(x) = a(x^3 - 7) + b(x^2 - 5)$"
   ]
  },
  {
   "cell_type": "markdown",
   "id": "c43cc76c",
   "metadata": {},
   "source": [
    "$\\phi_1(x) = x^3 - 7$\n",
    "\n",
    "$\\phi_1'(x) = 3x^2$\n",
    "\n",
    "$\\phi_1''(x) = 6x$\n",
    "\n",
    "---\n",
    "\n",
    "$\\phi_2(x) = x^2 - 5$\n",
    "\n",
    "$\\phi_2'(x) = 2x$\n",
    "\n",
    "$\\phi_2''(x) = 2$"
   ]
  },
  {
   "cell_type": "markdown",
   "id": "fcb89120",
   "metadata": {},
   "source": [
    "$u(x) = w(x) + A\\phi_1(x) + B \\phi_2(x) \\approx -0.01296 x^2 - x + A\\left(x^3 - 7\\right) + B\\left(x^2 - 5\\right)$"
   ]
  },
  {
   "cell_type": "markdown",
   "id": "77aebd44",
   "metadata": {},
   "source": [
    "$R = L(w) + AL(\\phi_1) + BL(\\phi_2) - f$"
   ]
  },
  {
   "cell_type": "markdown",
   "id": "8757cd2b",
   "metadata": {},
   "source": [
    "$$\n",
    "\\begin{cases}\n",
    "\\int \\limits_0^1 \\left[L(w) + AL(\\phi_1) + BL(\\phi_2) - f\\right] \\phi_1 dx = 0 \\\\\n",
    "\\int \\limits_0^1 \\left[L(w) + AL(\\phi_1) + BL(\\phi_2) - f\\right] \\phi_2 dx = 0\n",
    "\\end{cases}\n",
    "$$"
   ]
  },
  {
   "cell_type": "markdown",
   "id": "bff39cb2",
   "metadata": {},
   "source": [
    "$L(\\phi_i) = \\phi_i'' - \\phi_i' - \\phi_i$\n",
    "\n",
    "$L(\\phi_1) = 6x - 3x^2 - \\left( x^3 - 7 \\right) = -x^3 - 3x^2 + 6x + 7$\n",
    "\n",
    "$L(\\phi_2) = 2 - 2x - \\left(x^2 - 5\\right) = -x^2 - 2x + 6$"
   ]
  },
  {
   "cell_type": "markdown",
   "id": "06cec500",
   "metadata": {},
   "source": [
    "$$a_{ij} = \\int \\limits_0^1 L\\left(\\phi_j\\right)\\phi_i dx$$\n",
    "\n",
    "$$b_{i} = - \\int \\limits_0^1 \\left(L(w) - f\\right)\\phi_idx$$\n",
    "\n",
    "$$\n",
    "a_{ij} = \n",
    "\\begin{pmatrix}\n",
    "-58.9429 & -38.4834 \\\\\n",
    "-40.6834 & -26.7\n",
    "\\end{pmatrix}\n",
    "$$\n",
    "\n",
    "$$\n",
    "b_i = \n",
    "\\begin{pmatrix}\n",
    "6.592887 \\\\\n",
    "4.6082267\n",
    "\\end{pmatrix}\n",
    "$$"
   ]
  },
  {
   "cell_type": "markdown",
   "id": "832b0d06",
   "metadata": {},
   "source": [
    "$$\n",
    "\\begin{cases}\n",
    "a_{11} A + a_{12} B = b_1 \\\\\n",
    "a_{21} A + a_{22} B = b_2\n",
    "\\end{cases}\n",
    "$$\n",
    "\n",
    "$$\n",
    "\\begin{cases}\n",
    "A \\approx 0.12 \\\\\n",
    "B \\approx -0.42\n",
    "\\end{cases}\n",
    "$$"
   ]
  },
  {
   "cell_type": "markdown",
   "id": "05f6ee54",
   "metadata": {},
   "source": [
    "$u_{\\text{approx}}(x) = -0.01296x^2 - x + 0.12 \\left(x^3 - 7\\right) - 0.42 \\left(x^2 - 5 \\right) = 0.12 x^3 - 0.43296 x^2 - x + 1.26$"
   ]
  },
  {
   "cell_type": "code",
   "execution_count": 1,
   "id": "1a3fa223",
   "metadata": {},
   "outputs": [],
   "source": [
    "import numpy as np\n",
    "from numpy import cos, sin"
   ]
  },
  {
   "cell_type": "code",
   "execution_count": 2,
   "id": "9046ea4f",
   "metadata": {},
   "outputs": [],
   "source": [
    "import matplotlib.pyplot as plt"
   ]
  },
  {
   "cell_type": "code",
   "execution_count": 3,
   "id": "6958a6ec",
   "metadata": {},
   "outputs": [],
   "source": [
    "def u_approx(x):\n",
    "    return 0.12 * pow(x, 3) - 0.43296 * pow(x, 2) - x + 1.26"
   ]
  },
  {
   "cell_type": "code",
   "execution_count": 4,
   "id": "f47bc5e5",
   "metadata": {},
   "outputs": [],
   "source": [
    "def du(x):\n",
    "    return (9 / 25) * pow(x, 2) - (2706 / 3125) * x - 1"
   ]
  },
  {
   "cell_type": "code",
   "execution_count": 5,
   "id": "1eeceddf",
   "metadata": {},
   "outputs": [],
   "source": [
    "def u_precise(x):\n",
    "    return cos(x) - sin(x)"
   ]
  },
  {
   "cell_type": "code",
   "execution_count": 6,
   "id": "2f03265e",
   "metadata": {},
   "outputs": [],
   "source": [
    "x_r = np.linspace(0, 1, 100)\n",
    "\n",
    "y_approx = u_approx(x_r)\n",
    "y_precise = u_precise(x_r)"
   ]
  },
  {
   "cell_type": "code",
   "execution_count": 7,
   "id": "7cbdafa5",
   "metadata": {},
   "outputs": [
    {
     "data": {
      "text/plain": [
       "(1.26, -1.0)"
      ]
     },
     "execution_count": 7,
     "metadata": {},
     "output_type": "execute_result"
    }
   ],
   "source": [
    "u_approx(0), du(0)"
   ]
  },
  {
   "cell_type": "code",
   "execution_count": 8,
   "id": "6372438c",
   "metadata": {},
   "outputs": [
    {
     "data": {
      "text/plain": [
       "<matplotlib.legend.Legend at 0x22224df1510>"
      ]
     },
     "execution_count": 8,
     "metadata": {},
     "output_type": "execute_result"
    },
    {
     "data": {
      "image/png": "[encoded data removed]",
      "text/plain": [
       "<Figure size 640x480 with 1 Axes>"
      ]
     },
     "metadata": {},
     "output_type": "display_data"
    }
   ],
   "source": [
    "plt.plot(x_r, y_approx, label=\"approx\")\n",
    "plt.plot(x_r, y_precise, label=\"precise\")\n",
    "\n",
    "plt.legend()"
   ]
  },
  {
   "cell_type": "code",
   "execution_count": null,
   "id": "47fa04a0",
   "metadata": {},
   "outputs": [],
   "source": []
  }
 ],
 "metadata": {
  "kernelspec": {
   "display_name": "Calc",
   "language": "python",
   "name": "python3"
  },
  "language_info": {
   "codemirror_mode": {
    "name": "ipython",
    "version": 3
   },
   "file_extension": ".py",
   "mimetype": "text/x-python",
   "name": "python",
   "nbconvert_exporter": "python",
   "pygments_lexer": "ipython3",
   "version": "3.11.9"
  }
 },
 "nbformat": 4,
 "nbformat_minor": 5
}
