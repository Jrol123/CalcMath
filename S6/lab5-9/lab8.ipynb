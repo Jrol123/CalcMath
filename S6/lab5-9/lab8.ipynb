{
 "cells": [
  {
   "cell_type": "code",
   "execution_count": 714,
   "metadata": {},
   "outputs": [],
   "source": [
    "import numpy as np\n",
    "import matplotlib.pyplot as plt"
   ]
  },
  {
   "cell_type": "markdown",
   "metadata": {},
   "source": [
    "$$\n",
    "u'' - 2u' - u=-2xe^{x}\n",
    "$$\n",
    "$$\n",
    "u(0)=0 \n",
    "$$\n",
    "$$\n",
    "u(1)=e \n",
    "$$\n",
    "$$\n",
    "u(x) = xe^x\n",
    "$$"
   ]
  },
  {
   "cell_type": "code",
   "execution_count": 715,
   "metadata": {},
   "outputs": [],
   "source": [
    "a0, b0 = 0, 1\n",
    "alpha1, alpha2 = 1, 1\n",
    "gamma1, gamma2 = 0, np.e"
   ]
  },
  {
   "cell_type": "code",
   "execution_count": 716,
   "metadata": {},
   "outputs": [],
   "source": [
    "N = 2"
   ]
  },
  {
   "cell_type": "code",
   "execution_count": 717,
   "metadata": {},
   "outputs": [
    {
     "data": {
      "text/plain": [
       "0.5"
      ]
     },
     "execution_count": 717,
     "metadata": {},
     "output_type": "execute_result"
    }
   ],
   "source": [
    "h = (b0 - a0) / N\n",
    "h"
   ]
  },
  {
   "cell_type": "code",
   "execution_count": 718,
   "metadata": {},
   "outputs": [
    {
     "data": {
      "text/plain": [
       "{-3: np.float64(-1.5),\n",
       " -2: np.float64(-1.0),\n",
       " -1: np.float64(-0.5),\n",
       " 0: np.float64(0.0),\n",
       " 1: np.float64(0.5),\n",
       " 2: np.float64(1.0),\n",
       " 3: np.float64(1.5),\n",
       " 4: np.float64(2.0),\n",
       " 5: np.float64(2.5)}"
      ]
     },
     "execution_count": 718,
     "metadata": {},
     "output_type": "execute_result"
    }
   ],
   "source": [
    "X = dict((i - 3, val) for i, val in enumerate(np.linspace(a0 - 3 * h, b0 + 3 * h, N + 7)))\n",
    "X"
   ]
  },
  {
   "cell_type": "code",
   "execution_count": 719,
   "metadata": {},
   "outputs": [],
   "source": [
    "def p(x):\n",
    "    return -2\n",
    "\n",
    "def q(x):\n",
    "    return -1\n",
    "\n",
    "def f(x):\n",
    "    return -2 * x * np.exp(x)"
   ]
  },
  {
   "cell_type": "code",
   "execution_count": 720,
   "metadata": {},
   "outputs": [],
   "source": [
    "A = np.zeros((N + 3, N + 3))\n",
    "b = np.zeros(N + 3)"
   ]
  },
  {
   "cell_type": "code",
   "execution_count": 721,
   "metadata": {},
   "outputs": [],
   "source": [
    "for k in range(0, N + 1):\n",
    "    A[k + 1, k] = Ak = (1 - p(X[k]) * h / 2 + q(X[k]) * (h ** 2) / 6) / (3 * h)\n",
    "\n",
    "    A[k + 1, k + 2] = Dk = (1 + p(X[k]) * h / 2 + q(X[k]) * (h ** 2) / 6) / (3 * h)\n",
    "\n",
    "    A[k + 1, k + 1] = -Ak -Dk + q(X[k]) * h / 3\n",
    "\n",
    "    b[k + 1] = h * f(X[k]) / 3"
   ]
  },
  {
   "cell_type": "code",
   "execution_count": 722,
   "metadata": {},
   "outputs": [],
   "source": [
    "b[0] = 6 * h * gamma1\n",
    "b[-1] = 6 * h * gamma2"
   ]
  },
  {
   "cell_type": "code",
   "execution_count": 723,
   "metadata": {},
   "outputs": [],
   "source": [
    "A[0, 0] = h * alpha1\n",
    "A[0, 1] = 4 * h * alpha1\n",
    "A[0, 2] = h * alpha1\n",
    "\n",
    "A[-1, -1] = h * alpha2\n",
    "A[-1, -2] = 4 * h * alpha2\n",
    "A[-1, -3] = h * alpha2"
   ]
  },
  {
   "cell_type": "code",
   "execution_count": null,
   "metadata": {},
   "outputs": [
    {
     "data": {
      "text/plain": [
       "{-1: np.float64(-0.3187596407091233),\n",
       " 0: np.float64(-0.07968991017728085),\n",
       " 1: np.float64(0.6375192814182468),\n",
       " 2: np.float64(2.3679838059775355),\n",
       " 3: np.float64(6.20023646542588)}"
      ]
     },
     "execution_count": 726,
     "metadata": {},
     "output_type": "execute_result"
    }
   ],
   "source": [
    "C = np.linalg.solve(A, b)\n",
    "C = dict((i - 1, val) for i, val in enumerate(C))\n",
    "C"
   ]
  },
  {
   "cell_type": "code",
   "execution_count": 727,
   "metadata": {},
   "outputs": [],
   "source": [
    "def B(x, i, X):\n",
    "    t = (x - X[i]) / h\n",
    "\n",
    "    if -2 <= t < -1:\n",
    "        return (t + 2) ** 3\n",
    "    elif -1 <= t < 0:\n",
    "        return 1 + 3 * (t + 1) + 3 * (t + 1) ** 2 - 3 * (t + 1) ** 3\n",
    "    elif 0 <= t < 1:\n",
    "        return 1 + 3 * (1 - t) + 3 * (1 - t) ** 2 - 3 * (1 - t) ** 3\n",
    "    elif 1 <= t < 2:\n",
    "        return (2 - t) ** 3\n",
    "    \n",
    "    return 0"
   ]
  },
  {
   "cell_type": "code",
   "execution_count": 728,
   "metadata": {},
   "outputs": [],
   "source": [
    "def u_approx(x):\n",
    "    res = 0\n",
    "\n",
    "    for k in range(-1, N + 2):\n",
    "        res += C[k] * B(x, k, X)\n",
    "\n",
    "    return res / 6\n",
    "\n",
    "def exact_solution(x):\n",
    "    return x * np.exp(x)"
   ]
  },
  {
   "cell_type": "code",
   "execution_count": 729,
   "metadata": {},
   "outputs": [
    {
     "data": {
      "text/plain": [
       "[np.float64(1.850371707708594e-17),\n",
       " np.float64(0.8063951702455402),\n",
       " np.float64(2.7182818284590446)]"
      ]
     },
     "execution_count": 729,
     "metadata": {},
     "output_type": "execute_result"
    }
   ],
   "source": [
    "[u_approx(_) for _ in [0, 0.5, 1]]"
   ]
  },
  {
   "cell_type": "code",
   "execution_count": 730,
   "metadata": {},
   "outputs": [
    {
     "data": {
      "image/png": "[encoded data removed]",
      "text/plain": [
       "<Figure size 1000x600 with 1 Axes>"
      ]
     },
     "metadata": {},
     "output_type": "display_data"
    }
   ],
   "source": [
    "x = np.linspace(0, 1, 100)\n",
    "\n",
    "plt.figure(figsize=(10, 6))\n",
    "\n",
    "plt.plot(x, [u_approx(_) for _ in x], label=f\"Приближённое решение (N={N})\")\n",
    "plt.plot(x, exact_solution(x), label=\"Точное решение\")\n",
    "\n",
    "plt.legend()\n",
    "\n",
    "plt.show()"
   ]
  }
 ],
 "metadata": {
  "kernelspec": {
   "display_name": "Python 3",
   "language": "python",
   "name": "python3"
  },
  "language_info": {
   "codemirror_mode": {
    "name": "ipython",
    "version": 3
   },
   "file_extension": ".py",
   "mimetype": "text/x-python",
   "name": "python",
   "nbconvert_exporter": "python",
   "pygments_lexer": "ipython3",
   "version": "3.12.7"
  }
 },
 "nbformat": 4,
 "nbformat_minor": 2
}
