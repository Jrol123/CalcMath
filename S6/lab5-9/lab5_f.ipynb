{
 "cells": [
  {
   "cell_type": "markdown",
   "id": "c0b4bd9c",
   "metadata": {},
   "source": [
    "# Условие"
   ]
  },
  {
   "cell_type": "markdown",
   "id": "2a0d8fc4",
   "metadata": {},
   "source": [
    "Вариант — 15"
   ]
  },
  {
   "cell_type": "markdown",
   "id": "7a12eda0",
   "metadata": {},
   "source": [
    "$u'' - u' - u = 3\\sin(x) - \\cos(x)$\n",
    "\n",
    "$u'(0) = -1$\n",
    "\n",
    "$u(1) + 2u'(1) = -(\\cos(1) + 3\\sin(1))$\n",
    "\n",
    "$u(x) = \\cos(x) - \\sin(x)$"
   ]
  },
  {
   "cell_type": "markdown",
   "id": "65e34fec",
   "metadata": {},
   "source": [
    "# Решение"
   ]
  },
  {
   "cell_type": "markdown",
   "id": "87f3f669",
   "metadata": {},
   "source": [
    "$n = 2$"
   ]
  },
  {
   "cell_type": "markdown",
   "id": "61d2a609",
   "metadata": {},
   "source": [
    "$\\phi_0(x) = \\dfrac 3 4 \\cdot x^2 - x - \\dfrac 3 4 - \\cos(1) - 3\\sin(1)$\n",
    "\n",
    "$\\phi_0'(x) = \\dfrac 3 2 \\cdot x - 1$\n",
    "\n",
    "$\\phi_0''(x) = \\dfrac 3 2$\n",
    "\n",
    "----\n",
    "\n",
    "$\\phi_k(x) = \\left(1 - x\\right)^{2} \\cdot x^{k + 1}$\n",
    "\n",
    "$\\phi_k'(x) = {x}^{k}\\,\\left(\\left(k+3\\right)\\,{x}^{2}+\\left(-2\\,k-4\\right)\\,x+k+1\\right)$\n",
    "\n",
    "$\\phi_k''(x) = {x}^{k-1}\\,\\left(\\left({k}^{2}+5\\,k+6\\right)\\,{x}^{2}+\\left(-2\\,{k}^{2}-6\\,k-4\\right)\\,x+{k}^{2}+k\\right)$"
   ]
  },
  {
   "cell_type": "markdown",
   "id": "3dec966d",
   "metadata": {},
   "source": [
    "$p(x) = e^{-x}$\n",
    "\n",
    "$q(x) = -e^{-x}$\n",
    "\n",
    "$f(x) = e^{-x} \\cdot \\left(3\\sin(x) - \\cos(x)\\right) $"
   ]
  },
  {
   "cell_type": "markdown",
   "id": "914f08b3",
   "metadata": {},
   "source": [
    "$a = 0$\n",
    "\n",
    "$b = 1$"
   ]
  },
  {
   "cell_type": "markdown",
   "id": "466ccda6",
   "metadata": {},
   "source": [
    "$$\n",
    "J \\left[ u \\right] = \\int \\limits_0^1 e^{-x} \\left[ \\left(u'\\right)^2 + u^2 + 2 \\left( 3 \\sin(x) - \\cos(x) \\right) \\cdot u \\right]\n",
    "$$"
   ]
  },
  {
   "cell_type": "markdown",
   "id": "eb7f74b0",
   "metadata": {},
   "source": [
    "$$\n",
    "u = \\phi_0 + \\sum \\limits_{k = 1}^2 C_k \\cdot \\phi_k\n",
    "$$"
   ]
  },
  {
   "cell_type": "markdown",
   "id": "b0bf0aeb",
   "metadata": {},
   "source": [
    "$$\n",
    "k_1: \\quad C_1 \\cdot \\left[(1 - x)^2 \\cdot x^2\\right]\n",
    "$$\n",
    "\n",
    "$$\n",
    "k_2: \\quad C_2 \\cdot \\left[(1 - x)^2 \\cdot x^3\\right]\n",
    "$$\n",
    "\n",
    "$$\n",
    "k_s: \\quad C_1 \\cdot \\left[(1 - x)^2 \\cdot x^2\\right] + C_2 \\cdot \\left[(1 - x)^2 \\cdot x^3\\right]\n",
    "$$"
   ]
  },
  {
   "cell_type": "markdown",
   "id": "a98df16f",
   "metadata": {},
   "source": [
    "$$\n",
    "u = (1 - x)^2 \\cdot x^{k + 1} + C_1 \\cdot \\left[(1 - x)^2 \\cdot x^2\\right] + C_2 \\cdot \\left[(1 - x)^2 \\cdot x^3\\right]\n",
    "$$\n",
    "\n",
    "$$\n",
    "u' = {x}^{2}\\,\\left(\\left(k+3\\right)\\,{x}^{k}+3\\,C_{2}-6\\,C_{1}\\right)+2\\,x\\,\\left(\\left(-k-2\\right)\\,{x}^{k}+C_{1}\\right)+\\left(k+1\\right)\\,{x}^{k}+5\\,C_{2}\\,{x}^{4}+\\left(4\\,C_{1}-8\\,C_{2}\\right)\\,{x}^{3}\n",
    "$$"
   ]
  },
  {
   "cell_type": "markdown",
   "id": "254692b9",
   "metadata": {},
   "source": [
    "$$\n",
    "u'_{C_k} = \\phi_k\n",
    "$$"
   ]
  },
  {
   "cell_type": "markdown",
   "id": "b55da697",
   "metadata": {},
   "source": [
    "$$\n",
    "\\dfrac{\\partial J}{\\partial C_1} = 2 \\int \\limits_0^1 e^{-x} \\left[ u' \\phi_1' + u \\phi_1 + (3 \\sin(x) - \\cos(x)) \\phi_1 \\right] dx = 0\n",
    "$$\n",
    "\n",
    "$$\n",
    "\\dfrac{\\partial J}{\\partial C_2} = 2 \\int \\limits_0^1 e^{-x} \\left[ u' \\phi_2' + u \\phi_2 + (3 \\sin(x) - \\cos(x)) \\phi_2 \\right] dx = 0\n",
    "$$"
   ]
  },
  {
   "cell_type": "markdown",
   "id": "db7c9997",
   "metadata": {},
   "source": [
    "$$\n",
    "u' \\cdot \\phi_{1}' = x\\,\\left(4\\,x^{2}-6\\,x+2\\right)\\,\\left(5\\,c_{2}\\,x^{4}+\\left(4\\,c_{1}-8\\,c_{2}\\right)\\,x^{3}+\\left(4\\,x+3\\,c_{2}-6\\,c_{1}\\right)\\,x^{2}+2\\,\\left(c_{1}-3\\,x\\right)\\,x+2\\,x\\right)\n",
    "$$\n",
    "\n",
    "$$\n",
    "u' \\cdot \\phi_2' = x^{2}\\,\\left(5\\,x^{2}-8\\,x+3\\right)\\,\\left(5\\,c_{2}\\,x^{4}+\\left(4\\,c_{1}-8\\,c_{2}\\right)\\,x^{3}+\\left(4\\,x+3\\,c_{2}-6\\,c_{1}\\right)\\,x^{2}+2\\,\\left(c_{1}-3\\,x\\right)\\,x+2\\,x\\right)\n",
    "$$"
   ]
  },
  {
   "cell_type": "markdown",
   "id": "0b4fc7d2",
   "metadata": {},
   "source": [
    "# Графики"
   ]
  },
  {
   "cell_type": "markdown",
   "id": "d7d555f0",
   "metadata": {},
   "source": [
    "## Imports"
   ]
  },
  {
   "cell_type": "code",
   "execution_count": 37,
   "id": "5e94dd4d",
   "metadata": {},
   "outputs": [],
   "source": [
    "from numpy import linspace, cos, sin, exp"
   ]
  },
  {
   "cell_type": "code",
   "execution_count": 38,
   "id": "5ff8ddec",
   "metadata": {},
   "outputs": [],
   "source": [
    "import matplotlib.pyplot as plt"
   ]
  },
  {
   "cell_type": "code",
   "execution_count": 48,
   "id": "5f6ec1c4",
   "metadata": {},
   "outputs": [],
   "source": [
    "import sympy as sp"
   ]
  },
  {
   "cell_type": "code",
   "execution_count": 50,
   "id": "1a66b56b",
   "metadata": {},
   "outputs": [],
   "source": [
    "x = sp.symbols('x')"
   ]
  },
  {
   "cell_type": "code",
   "execution_count": null,
   "id": "bff370be",
   "metadata": {},
   "outputs": [
    {
     "ename": "NameError",
     "evalue": "name 'c2' is not defined",
     "output_type": "error",
     "traceback": [
      "\u001b[31m---------------------------------------------------------------------------\u001b[39m",
      "\u001b[31mNameError\u001b[39m                                 Traceback (most recent call last)",
      "\u001b[36mCell\u001b[39m\u001b[36m \u001b[39m\u001b[32mIn[51]\u001b[39m\u001b[32m, line 1\u001b[39m\n\u001b[32m----> \u001b[39m\u001b[32m1\u001b[39m sp.Eq(x**\u001b[32m2\u001b[39m*(\u001b[32m5\u001b[39m*x**\u001b[32m2\u001b[39m-\u001b[32m8\u001b[39m*x+\u001b[32m3\u001b[39m)*(\u001b[32m5\u001b[39m*\u001b[43mc2\u001b[49m*x**\u001b[32m4\u001b[39m+(\u001b[32m4\u001b[39m*c1-\u001b[32m8\u001b[39m*c2)*x**\u001b[32m3\u001b[39m+(\u001b[32m4\u001b[39m*x+\u001b[32m3\u001b[39m*c2-\u001b[32m6\u001b[39m*c1)*x**\u001b[32m2\u001b[39m+\u001b[32m2\u001b[39m*(c1-\u001b[32m3\u001b[39m*x)*x+\u001b[32m2\u001b[39m*x))\n",
      "\u001b[31mNameError\u001b[39m: name 'c2' is not defined"
     ]
    }
   ],
   "source": [
    "sp.Eq(x^2*(5*x^2-8*x+3)*(5*c2*x^4+(4*c1-8*c2)*x^+(4*x+3*c2-6*c1)*x^2+2*(c1-3*x)*x+2*x))"
   ]
  },
  {
   "cell_type": "markdown",
   "id": "af61813d",
   "metadata": {},
   "source": [
    "## Funcs"
   ]
  },
  {
   "cell_type": "code",
   "execution_count": 39,
   "id": "e049977f",
   "metadata": {},
   "outputs": [],
   "source": [
    "def phi0(x):\n",
    "    return 3/4 * x ** 2 - x - 3/4 - cos(1) - 3 * sin(1)\n",
    "def dphi0(x):\n",
    "    return 3/2 * x - 1\n",
    "def phik(x, k):\n",
    "    return (1 - x) ** 2 * x ** (k + 1)\n",
    "def dphik(x, k):\n",
    "    return x** k * ((k + 3) * x ** 2 + (-2 * k - 4) * x + k + 1)\n",
    "\n",
    "def u_approx2(x, c1, c2):\n",
    "    return phi0(x) + c1 * phik(x, 1) + c2 * phik(x, 2)\n",
    "def du_approx2(x, c1, c2):\n",
    "    return dphi0(x) + c1 * dphik(x, 1) + c2 * dphik(x, 2)"
   ]
  },
  {
   "cell_type": "code",
   "execution_count": 40,
   "id": "53d3ec14",
   "metadata": {},
   "outputs": [],
   "source": [
    "def u_precise(x: float) -> float:\n",
    "    return cos(x) - sin(x)"
   ]
  },
  {
   "cell_type": "markdown",
   "id": "1ade1489",
   "metadata": {},
   "source": [
    "## Graphs"
   ]
  },
  {
   "cell_type": "code",
   "execution_count": 41,
   "id": "4e0e3fbc",
   "metadata": {},
   "outputs": [],
   "source": [
    "def t_approx(x):\n",
    "    return -3.8148 - x + 3.2 * x ** 2 - 8.07 * x ** 3 + 8.79 * x ** 4 - 3.17 * x ** 5"
   ]
  },
  {
   "cell_type": "code",
   "execution_count": 42,
   "id": "9a331a7b",
   "metadata": {},
   "outputs": [],
   "source": [
    "\n",
    "x_r = linspace(0, 1, 100)\n",
    "\n",
    "y_p = u_approx(x_r)\n",
    "# y_pp = u_approx2(x_r)\n",
    "y_ppp = t_approx(x_r)\n",
    "y_t = u_precise(x_r)"
   ]
  },
  {
   "cell_type": "code",
   "execution_count": 43,
   "id": "8c397b12",
   "metadata": {},
   "outputs": [
    {
     "data": {
      "text/plain": [
       "(1.26, np.float64(1.0))"
      ]
     },
     "execution_count": 43,
     "metadata": {},
     "output_type": "execute_result"
    }
   ],
   "source": [
    "u_approx(0), u_precise(0)"
   ]
  },
  {
   "cell_type": "code",
   "execution_count": 47,
   "id": "830fd7f3",
   "metadata": {},
   "outputs": [
    {
     "data": {
      "text/plain": [
       "-4.0732375"
      ]
     },
     "execution_count": 47,
     "metadata": {},
     "output_type": "execute_result"
    }
   ],
   "source": [
    "t_approx(0.5)"
   ]
  },
  {
   "cell_type": "code",
   "execution_count": 45,
   "id": "f713f3fd",
   "metadata": {},
   "outputs": [
    {
     "data": {
      "text/plain": [
       "<matplotlib.legend.Legend at 0x1457f69cdd0>"
      ]
     },
     "execution_count": 45,
     "metadata": {},
     "output_type": "execute_result"
    },
    {
     "data": {
      "image/png": "[encoded data removed]",
      "text/plain": [
       "<Figure size 640x480 with 1 Axes>"
      ]
     },
     "metadata": {},
     "output_type": "display_data"
    }
   ],
   "source": [
    "plt.plot(x_r, y_t, label=\"precise\")\n",
    "plt.plot(x_r, y_p, label=\"predicted\")\n",
    "# plt.plot(x_r, y_pp, label=\"predicted2\")\n",
    "plt.plot(x_r, y_ppp, label=\"predicted3\")\n",
    "\n",
    "\n",
    "plt.legend()"
   ]
  },
  {
   "cell_type": "code",
   "execution_count": null,
   "id": "4fc8e9f1",
   "metadata": {},
   "outputs": [],
   "source": []
  }
 ],
 "metadata": {
  "kernelspec": {
   "display_name": "Calc",
   "language": "python",
   "name": "python3"
  },
  "language_info": {
   "codemirror_mode": {
    "name": "ipython",
    "version": 3
   },
   "file_extension": ".py",
   "mimetype": "text/x-python",
   "name": "python",
   "nbconvert_exporter": "python",
   "pygments_lexer": "ipython3",
   "version": "3.11.9"
  }
 },
 "nbformat": 4,
 "nbformat_minor": 5
}
