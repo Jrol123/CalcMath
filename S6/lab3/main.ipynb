{
 "cells": [
  {
   "cell_type": "markdown",
   "metadata": {},
   "source": [
    "# Вариант 15"
   ]
  },
  {
   "cell_type": "code",
   "execution_count": 110,
   "metadata": {},
   "outputs": [],
   "source": [
    "import numpy as np\n",
    "import matplotlib.pyplot as plt\n",
    "import seaborn as sns"
   ]
  },
  {
   "cell_type": "code",
   "execution_count": 111,
   "metadata": {},
   "outputs": [],
   "source": [
    "N = 6\n",
    "M = 100\n",
    "T = 1\n",
    "L = 1\n",
    "a = 0.01\n",
    "\n",
    "h = L / M\n",
    "tau = T / N\n",
    "t = N * tau\n",
    "x = M * h\n",
    "\n",
    "X_l = np.linspace(0, L, M)\n",
    "T_l = np.linspace(0, T, N)"
   ]
  },
  {
   "cell_type": "code",
   "execution_count": 112,
   "metadata": {},
   "outputs": [
    {
     "data": {
      "text/plain": [
       "0.16666666666666666"
      ]
     },
     "execution_count": 112,
     "metadata": {},
     "output_type": "execute_result"
    }
   ],
   "source": [
    "a*tau/h"
   ]
  },
  {
   "cell_type": "markdown",
   "metadata": {},
   "source": [
    "# P1"
   ]
  },
  {
   "cell_type": "markdown",
   "metadata": {},
   "source": [
    "## T1"
   ]
  },
  {
   "cell_type": "markdown",
   "metadata": {},
   "source": [
    "$$\n",
    "\\dfrac{u_i^{j + 1} - u_i^j}{\\tau} = a^2 \\cdot \\dfrac{u^j_{i+1} + 1 - 2u^j_{i} + u^j_{i-1} - 1}{h^2} + \\phi(x, t)\n",
    "$$\n",
    "\n",
    "$$\n",
    "u_i^{j + 1} = \\tau\\left(a^2 \\cdot \\dfrac{u^j_{i+1} + 1 - 2u^j_{i} + u^j_{i-1} - 1}{h^2} + \\phi(x, t)\\right) + u_i^j\n",
    "$$"
   ]
  },
  {
   "cell_type": "code",
   "execution_count": 113,
   "metadata": {},
   "outputs": [],
   "source": [
    "gamma_0 = gamma_1 = 0"
   ]
  },
  {
   "cell_type": "code",
   "execution_count": 114,
   "metadata": {},
   "outputs": [],
   "source": [
    "def phi(x, t):\n",
    "    return x ** 2 * (1 - x)\n",
    "\n",
    "def ddphi(x, t):\n",
    "    return 0\n",
    "\n",
    "def psi(x):\n",
    "    return x * (x ** 2 - x)"
   ]
  },
  {
   "cell_type": "code",
   "execution_count": 115,
   "metadata": {},
   "outputs": [],
   "source": [
    "U = np.zeros((N, M))"
   ]
  },
  {
   "cell_type": "code",
   "execution_count": 116,
   "metadata": {},
   "outputs": [],
   "source": [
    "def u_0(psi):\n",
    "    return psi(X_l)\n",
    "\n",
    "def u_j1(u_im, u_i, u_ip, x, t):\n",
    "    aboba = phi(x, t)\n",
    "    return tau * ((a ** 2 / h ** 2)*(u_ip + 1 - 2 * u_i + u_im - 1) + aboba) + u_i\n",
    "\n"
   ]
  },
  {
   "cell_type": "code",
   "execution_count": 117,
   "metadata": {},
   "outputs": [],
   "source": [
    "U[0] = u_0(psi)"
   ]
  },
  {
   "cell_type": "code",
   "execution_count": 118,
   "metadata": {},
   "outputs": [],
   "source": [
    "for index in range(N):\n",
    "    U[index][0] = gamma_0\n",
    "    U[index][-1] = gamma_1"
   ]
  },
  {
   "cell_type": "code",
   "execution_count": 120,
   "metadata": {},
   "outputs": [],
   "source": [
    "for t_index in range(1, N):\n",
    "    for l_index in range(1, M - 1):\n",
    "        u_im, u_i, u_ip = U[t_index - 1][l_index - 1 : l_index + 1 + 1]\n",
    "        U[t_index][l_index] = u_j1(u_im, u_i, u_ip, X_l[l_index], T_l[t_index])"
   ]
  },
  {
   "cell_type": "code",
   "execution_count": 123,
   "metadata": {},
   "outputs": [
    {
     "data": {
      "text/plain": [
       "<Axes: >"
      ]
     },
     "execution_count": 123,
     "metadata": {},
     "output_type": "execute_result"
    },
    {
     "data": {
      "image/png": "[encoded data removed]",
      "text/plain": [
       "<Figure size 640x480 with 2 Axes>"
      ]
     },
     "metadata": {},
     "output_type": "display_data"
    }
   ],
   "source": [
    "sns.heatmap(U)"
   ]
  },
  {
   "cell_type": "markdown",
   "metadata": {},
   "source": [
    "## T2\n",
    "$$\n",
    "\\dfrac{u_i^{j+1} - u_i^j}{\\tau} = a^2\\dfrac{u^{j+1}_{i + 1} - 2u_{i}^{j+1} + u_{i - 1}^{j+1}}{h^2} + \\phi(x, t)\n",
    "$$\n",
    "\n",
    "$$\n",
    "h^2 \\cdot u_i^{j + 1} - u^{j + 1}_{i + 1} + 2u^{j + 1}_i -u^{j + 1}_{i - 1} = \\tau \\cdot a^2 + u^j_i \\cdot h^2 + \\phi(x, t)\\cdot h^2 \\cdot \\tau\n",
    "$$"
   ]
  },
  {
   "cell_type": "code",
   "execution_count": null,
   "metadata": {},
   "outputs": [],
   "source": [
    "def u_j1(u_im, u_i, u_ip, x, t):\n",
    "    aboba = phi(x, t)\n",
    "    return tau * ((a ** 2 / h ** 2)*(u_ip + 1 - 2 * u_i + u_im - 1) + aboba) + u_i"
   ]
  },
  {
   "cell_type": "code",
   "execution_count": 153,
   "metadata": {},
   "outputs": [
    {
     "data": {
      "text/plain": [
       "array([[ 2.0001,  1.    ,  0.    , ...,  0.    ,  0.    ,  0.    ],\n",
       "       [-1.    ,  2.0001,  1.    , ...,  0.    ,  0.    ,  0.    ],\n",
       "       [ 0.    , -1.    ,  2.0001, ...,  0.    ,  0.    ,  0.    ],\n",
       "       ...,\n",
       "       [ 0.    ,  0.    ,  0.    , ...,  2.0001,  1.    ,  0.    ],\n",
       "       [ 0.    ,  0.    ,  0.    , ..., -1.    ,  2.0001,  1.    ],\n",
       "       [ 0.    ,  0.    ,  0.    , ...,  0.    , -1.    ,  2.0001]],\n",
       "      shape=(100, 100))"
      ]
     },
     "execution_count": 153,
     "metadata": {},
     "output_type": "execute_result"
    }
   ],
   "source": [
    "Y = np.zeros((M, M))\n",
    "Y[0][1] = 1\n",
    "Y[-1][-2] = -1\n",
    "np.fill_diagonal(Y, h ** 2 + 2)\n",
    "for row in range(1, M - 1):\n",
    "    Y[row][row - 1] = -1\n",
    "    Y[row][row + 1] = 1\n",
    "Y"
   ]
  },
  {
   "cell_type": "code",
   "execution_count": null,
   "metadata": {},
   "outputs": [],
   "source": [
    "U[0] = u_0(psi)"
   ]
  },
  {
   "cell_type": "code",
   "execution_count": null,
   "metadata": {},
   "outputs": [],
   "source": [
    "for index in range(N):\n",
    "    U[index][0] = gamma_0\n",
    "    U[index][-1] = gamma_1"
   ]
  },
  {
   "cell_type": "code",
   "execution_count": null,
   "metadata": {},
   "outputs": [],
   "source": []
  }
 ],
 "metadata": {
  "kernelspec": {
   "display_name": "Calc_venv",
   "language": "python",
   "name": "python3"
  },
  "language_info": {
   "codemirror_mode": {
    "name": "ipython",
    "version": 3
   },
   "file_extension": ".py",
   "mimetype": "text/x-python",
   "name": "python",
   "nbconvert_exporter": "python",
   "pygments_lexer": "ipython3",
   "version": "3.11.9"
  }
 },
 "nbformat": 4,
 "nbformat_minor": 2
}
