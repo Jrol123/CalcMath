{
 "cells": [
  {
   "cell_type": "code",
   "id": "initial_id",
   "metadata": {
    "collapsed": true,
    "ExecuteTime": {
     "end_time": "2024-11-13T04:44:06.548997Z",
     "start_time": "2024-11-13T04:44:05.940016Z"
    }
   },
   "source": "import numpy as np\n",
   "outputs": [],
   "execution_count": 1
  },
  {
   "metadata": {},
   "cell_type": "code",
   "outputs": [],
   "execution_count": null,
   "source": [
    "def holetskiy(original: np.matrix) -> (np.matrix, np.matrix):\n",
    "    matrixU = np.matrix(np.zeros(original.shape))\n",
    "    matrixU[0][0] = np.sqrt(original[0][0])\n",
    "    \n",
    "    for i in range(original.shape[0]):\n",
    "        matrixU[0][i] = original[0][1] / matrixU[0][0]\n",
    "    \n",
    "    for i in range(0, original.shape[0]):\n",
    "        for j in range(0, original.shape[1]):\n",
    "            if i == j:\n",
    "                matrixU[i][j] = np.sqrt(original[i][j] - sum())"
   ],
   "id": "3ee1f4138b91f0f"
  }
 ],
 "metadata": {
  "kernelspec": {
   "display_name": "Python 3",
   "language": "python",
   "name": "python3"
  },
  "language_info": {
   "codemirror_mode": {
    "name": "ipython",
    "version": 2
   },
   "file_extension": ".py",
   "mimetype": "text/x-python",
   "name": "python",
   "nbconvert_exporter": "python",
   "pygments_lexer": "ipython2",
   "version": "2.7.6"
  }
 },
 "nbformat": 4,
 "nbformat_minor": 5
}
