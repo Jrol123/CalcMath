{
 "cells": [
  {
   "cell_type": "code",
   "id": "initial_id",
   "metadata": {
    "collapsed": true,
    "ExecuteTime": {
     "end_time": "2024-11-13T10:15:34.211547Z",
     "start_time": "2024-11-13T10:15:34.201524Z"
    }
   },
   "source": [
    "import numpy as np\n",
    "from numpy.linalg import solve"
   ],
   "outputs": [],
   "execution_count": 63
  },
  {
   "metadata": {
    "ExecuteTime": {
     "end_time": "2024-11-13T10:15:34.227093Z",
     "start_time": "2024-11-13T10:15:34.221576Z"
    }
   },
   "cell_type": "code",
   "source": [
    "def holetskiy(original: np.matrix) -> np.matrix:\n",
    "    matrixU = np.matrix(np.zeros(original.shape))\n",
    "    matrixU[0, 0] = np.sqrt(original[0, 0])\n",
    "    \n",
    "    for i in range(1, original.shape[0]):\n",
    "        matrixU[0, i] = original[0, 1] / matrixU[0, 0]\n",
    "    \n",
    "    for i in range(0, original.shape[0]):\n",
    "        for j in range(0, original.shape[1]):\n",
    "            if i == j:\n",
    "                matrixU[i, j] = np.sqrt(original[i, j] - sum(matrixU[k, i] ** 2 for k in range(i - 1 + 1)))\n",
    "            elif i < j:\n",
    "                matrixU[i, j] = (original[i, j] - sum(matrixU[k, i] * matrixU[k, j] for k in range(i - 1 + 1))) / matrixU[i, i]\n",
    "    return matrixU"
   ],
   "id": "3ee1f4138b91f0f",
   "outputs": [],
   "execution_count": 64
  },
  {
   "metadata": {
    "ExecuteTime": {
     "end_time": "2024-11-13T10:15:34.257641Z",
     "start_time": "2024-11-13T10:15:34.244121Z"
    }
   },
   "cell_type": "code",
   "source": [
    "def solution(matrix, b):\n",
    "    hM = holetskiy(matrix)\n",
    "    y = solve(hM.T, b)\n",
    "    x = solve(hM, y)\n",
    "    return x"
   ],
   "id": "d9b622548d172f2f",
   "outputs": [],
   "execution_count": 65
  },
  {
   "metadata": {},
   "cell_type": "markdown",
   "source": "# Тестовые номера",
   "id": "922c8d50f8bdca9f"
  },
  {
   "metadata": {},
   "cell_type": "markdown",
   "source": "## №1",
   "id": "5bc6fa0a3b1864cc"
  },
  {
   "metadata": {
    "ExecuteTime": {
     "end_time": "2024-11-13T10:15:34.289192Z",
     "start_time": "2024-11-13T10:15:34.274672Z"
    }
   },
   "cell_type": "code",
   "source": [
    "mA1 = np.matrix(\"81 -45 45;\"\n",
    "                \"-45 50 -15;\"\n",
    "                \"45 -15 38\")\n",
    "b1 = np.matrix(\"531;\"\n",
    "               \"-460;\"\n",
    "               \"193\")\n",
    "x1 = np.matrix(\"6;\"\n",
    "               \"-5;\"\n",
    "               \"-4\")\n",
    "\n",
    "x_c1 = solution(mA1, b1)\n",
    "x_c1, x1 - x_c1"
   ],
   "id": "a01382556d330f5",
   "outputs": [
    {
     "data": {
      "text/plain": [
       "(matrix([[ 6.],\n",
       "         [-5.],\n",
       "         [-4.]]),\n",
       " matrix([[0.],\n",
       "         [0.],\n",
       "         [0.]]))"
      ]
     },
     "execution_count": 66,
     "metadata": {},
     "output_type": "execute_result"
    }
   ],
   "execution_count": 66
  },
  {
   "metadata": {},
   "cell_type": "markdown",
   "source": "## №2",
   "id": "d1c95a5f8baccd76"
  },
  {
   "metadata": {
    "ExecuteTime": {
     "end_time": "2024-11-13T10:15:34.336805Z",
     "start_time": "2024-11-13T10:15:34.325280Z"
    }
   },
   "cell_type": "code",
   "source": [
    "mA2 = np.matrix(\"6.25 -1 0.5;\"\n",
    "                \"-1 5 2.12;\"\n",
    "                \"0.5 2.12 3.6\")\n",
    "b2 = np.matrix(\"7.5;\"\n",
    "               \"-8.68;\"\n",
    "               \"-0.24\")\n",
    "x2 = np.matrix(\"0.8;\"\n",
    "               \"-2;\"\n",
    "               \"1\")\n",
    "\n",
    "x_c2 = solution(mA2, b2)\n",
    "x_c2, x2 - x_c2"
   ],
   "id": "a2f6c0ba5246caed",
   "outputs": [
    {
     "data": {
      "text/plain": [
       "(matrix([[ 0.8],\n",
       "         [-2. ],\n",
       "         [ 1. ]]),\n",
       " matrix([[ 0.00000000e+00],\n",
       "         [-4.44089210e-16],\n",
       "         [ 2.22044605e-16]]))"
      ]
     },
     "execution_count": 67,
     "metadata": {},
     "output_type": "execute_result"
    }
   ],
   "execution_count": 67
  },
  {
   "metadata": {},
   "cell_type": "markdown",
   "source": [
    "## №3\n",
    "\n",
    "Проблемы из-за того, что матрица не положительно-определённая"
   ],
   "id": "cd1eec037100c8ac"
  },
  {
   "metadata": {
    "ExecuteTime": {
     "end_time": "2024-11-13T10:15:34.368368Z",
     "start_time": "2024-11-13T10:15:34.353840Z"
    }
   },
   "cell_type": "code",
   "source": [
    "mA3 = np.matrix(\"1 3 -2 0 -2;\"\n",
    "                \"3 4 -5 1 -3;\"\n",
    "                \"-2 -5 3 -2 2;\"\n",
    "                \"0 1 -2 5 3;\"\n",
    "                \"-2 -3 2 3 4\")\n",
    "b3 = np.matrix(\"0.5;\"\n",
    "               \"5.4;\"\n",
    "               \"5.0;\"\n",
    "               \"7.5;\"\n",
    "               \"3.3\")\n",
    "x3 = np.matrix(\"-6.0978;\"\n",
    "               \"-2.2016;\"\n",
    "               \"-6.8011;\"\n",
    "               \"-8.8996;\"\n",
    "               \"0.1998\")\n",
    "\n",
    "x_c3 = solution(mA3, b3)\n",
    "x_c3, x3 - x_c3"
   ],
   "id": "f80505850e7e0874",
   "outputs": [
    {
     "name": "stderr",
     "output_type": "stream",
     "text": [
      "C:\\Users\\artem\\AppData\\Local\\Temp\\ipykernel_14484\\560422138.py:11: RuntimeWarning: invalid value encountered in sqrt\n",
      "  matrixU[i, j] = np.sqrt(original[i, j] - sum(matrixU[k, i] ** 2 for k in range(i - 1 + 1)))\n"
     ]
    },
    {
     "data": {
      "text/plain": [
       "(matrix([[nan],\n",
       "         [nan],\n",
       "         [nan],\n",
       "         [nan],\n",
       "         [nan]]),\n",
       " matrix([[nan],\n",
       "         [nan],\n",
       "         [nan],\n",
       "         [nan],\n",
       "         [nan]]))"
      ]
     },
     "execution_count": 68,
     "metadata": {},
     "output_type": "execute_result"
    }
   ],
   "execution_count": 68
  },
  {
   "metadata": {},
   "cell_type": "markdown",
   "source": "## №4",
   "id": "3f4129242abda707"
  },
  {
   "metadata": {
    "ExecuteTime": {
     "end_time": "2024-11-13T10:15:34.399927Z",
     "start_time": "2024-11-13T10:15:34.385408Z"
    }
   },
   "cell_type": "code",
   "source": [
    "mA4 = np.matrix(\"1 2 4;\"\n",
    "                \"2 13 23;\"\n",
    "                \"4 23 77\")\n",
    "b4 = np.matrix(\"10;\"\n",
    "               \"50;\"\n",
    "               \"150\")\n",
    "x4 = np.matrix(\"2.22;\"\n",
    "               \"0.55;\"\n",
    "               \"1.67\")\n",
    "\n",
    "x_c4 = solution(mA4, b4)\n",
    "x_c4, x4 - x_c4"
   ],
   "id": "a437d4be220e21e2",
   "outputs": [
    {
     "data": {
      "text/plain": [
       "(matrix([[2.22222222],\n",
       "         [0.55555556],\n",
       "         [1.66666667]]),\n",
       " matrix([[-0.00222222],\n",
       "         [-0.00555556],\n",
       "         [ 0.00333333]]))"
      ]
     },
     "execution_count": 69,
     "metadata": {},
     "output_type": "execute_result"
    }
   ],
   "execution_count": 69
  },
  {
   "metadata": {},
   "cell_type": "markdown",
   "source": "# СЛАУ",
   "id": "3dd1312bbdfb3841"
  },
  {
   "metadata": {},
   "cell_type": "markdown",
   "source": "## №1",
   "id": "52fb43ccf466286c"
  },
  {
   "metadata": {
    "ExecuteTime": {
     "end_time": "2024-11-13T10:15:34.493084Z",
     "start_time": "2024-11-13T10:15:34.481052Z"
    }
   },
   "cell_type": "code",
   "source": [
    "mA5 = np.matrix(\"5.9 0.3 -0.2;\"\n",
    "                \"0.3 4 -0.7;\"\n",
    "                \"-0.2 -0.7 6.7\")\n",
    "b5 = np.matrix(\"3.1;\"\n",
    "               \"-1.7;\"\n",
    "               \"1.1\")\n",
    "\n",
    "x_c5 = solution(mA5, b5)\n",
    "x_c5"
   ],
   "id": "67d738128a276e06",
   "outputs": [
    {
     "data": {
      "text/plain": [
       "matrix([[ 0.55250081],\n",
       "        [-0.44291815],\n",
       "        [ 0.13439664]])"
      ]
     },
     "execution_count": 70,
     "metadata": {},
     "output_type": "execute_result"
    }
   ],
   "execution_count": 70
  },
  {
   "metadata": {},
   "cell_type": "markdown",
   "source": "## №2",
   "id": "99c08ab5e2170520"
  },
  {
   "metadata": {
    "ExecuteTime": {
     "end_time": "2024-11-13T10:15:34.601762Z",
     "start_time": "2024-11-13T10:15:34.585242Z"
    }
   },
   "cell_type": "code",
   "source": [
    "mA6 = np.matrix(\"4.12 0.42 1.34 0.88;\"\n",
    "                \"0.42 3.95 1.87 0.43;\"\n",
    "                \"1.34 1.87 3.2 0.31;\"\n",
    "                \"0.88 0.43 0.31 5.17\")\n",
    "b6 = np.matrix(\"11.17;\"\n",
    "               \"0.115;\"\n",
    "               \"9.909;\"\n",
    "               \"9.349\")\n",
    "\n",
    "x_c6 = solution(mA6, b6)\n",
    "x_c6"
   ],
   "id": "f4a8308bdadd679d",
   "outputs": [
    {
     "data": {
      "text/plain": [
       "matrix([[ 1.45653917],\n",
       "        [-1.93309996],\n",
       "        [ 3.46970779],\n",
       "        [ 1.51312749]])"
      ]
     },
     "execution_count": 71,
     "metadata": {},
     "output_type": "execute_result"
    }
   ],
   "execution_count": 71
  },
  {
   "metadata": {
    "ExecuteTime": {
     "end_time": "2024-11-13T10:15:34.648879Z",
     "start_time": "2024-11-13T10:15:34.635362Z"
    }
   },
   "cell_type": "code",
   "source": "",
   "id": "88c7910d99dc06a5",
   "outputs": [],
   "execution_count": null
  }
 ],
 "metadata": {
  "kernelspec": {
   "display_name": "Python 3",
   "language": "python",
   "name": "python3"
  },
  "language_info": {
   "codemirror_mode": {
    "name": "ipython",
    "version": 2
   },
   "file_extension": ".py",
   "mimetype": "text/x-python",
   "name": "python",
   "nbconvert_exporter": "python",
   "pygments_lexer": "ipython2",
   "version": "2.7.6"
  }
 },
 "nbformat": 4,
 "nbformat_minor": 5
}
