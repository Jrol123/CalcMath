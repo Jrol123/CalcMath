{
 "cells": [
  {
   "cell_type": "code",
   "id": "initial_id",
   "metadata": {
    "collapsed": true,
    "ExecuteTime": {
     "end_time": "2024-11-13T06:30:00.529988Z",
     "start_time": "2024-11-13T06:30:00.278896Z"
    }
   },
   "source": "import numpy as np\n",
   "outputs": [],
   "execution_count": 1
  },
  {
   "metadata": {
    "ExecuteTime": {
     "end_time": "2024-11-13T06:30:53.813030Z",
     "start_time": "2024-11-13T06:30:53.793855Z"
    }
   },
   "cell_type": "code",
   "source": [
    "def holetskiy(original: np.matrix) -> np.matrix:\n",
    "    matrixU = np.matrix(np.zeros(original.shape))\n",
    "    print(original)\n",
    "    matrixU[0][0] = np.sqrt(original[0][0])\n",
    "    \n",
    "    for i in range(original.shape[0]):\n",
    "        matrixU[0][i] = original[0][1] / matrixU[0][0]\n",
    "    \n",
    "    for i in range(0, original.shape[0]):\n",
    "        for j in range(0, original.shape[1]):\n",
    "            if i == j:\n",
    "                matrixU[i][j] = np.sqrt(original[i][j] - sum(matrixU[k][i] for k in range(i - 1)))\n",
    "            elif i < j:\n",
    "                matrixU[i][j] = 1/matrixU[i][i] * (original[i][j] - sum(matrixU[k][i] * matrixU[k][j] for k in range(i - 1)))\n",
    "    return matrixU"
   ],
   "id": "3ee1f4138b91f0f",
   "outputs": [],
   "execution_count": 4
  },
  {
   "metadata": {
    "ExecuteTime": {
     "end_time": "2024-11-13T06:30:54.739729Z",
     "start_time": "2024-11-13T06:30:54.565132Z"
    }
   },
   "cell_type": "code",
   "source": [
    "mA1 = np.matrix(\"81 -45 45;\"\n",
    "                \"-45 50 -15;\"\n",
    "                \"45 -15 38\")\n",
    "hA1 = holetskiy(mA1)\n",
    "hA1"
   ],
   "id": "a01382556d330f5",
   "outputs": [
    {
     "name": "stdout",
     "output_type": "stream",
     "text": [
      "[[ 81 -45  45]\n",
      " [-45  50 -15]\n",
      " [ 45 -15  38]]\n"
     ]
    },
    {
     "name": "stderr",
     "output_type": "stream",
     "text": [
      "C:\\Users\\artem\\AppData\\Local\\Temp\\ipykernel_34636\\3738220214.py:4: RuntimeWarning: invalid value encountered in sqrt\n",
      "  matrixU[0][0] = np.sqrt(original[0][0])\n"
     ]
    },
    {
     "ename": "IndexError",
     "evalue": "index 1 is out of bounds for axis 0 with size 1",
     "output_type": "error",
     "traceback": [
      "\u001B[1;31m---------------------------------------------------------------------------\u001B[0m",
      "\u001B[1;31mIndexError\u001B[0m                                Traceback (most recent call last)",
      "Cell \u001B[1;32mIn[5], line 4\u001B[0m\n\u001B[0;32m      1\u001B[0m mA1 \u001B[38;5;241m=\u001B[39m np\u001B[38;5;241m.\u001B[39mmatrix(\u001B[38;5;124m\"\u001B[39m\u001B[38;5;124m81 -45 45;\u001B[39m\u001B[38;5;124m\"\u001B[39m\n\u001B[0;32m      2\u001B[0m                 \u001B[38;5;124m\"\u001B[39m\u001B[38;5;124m-45 50 -15;\u001B[39m\u001B[38;5;124m\"\u001B[39m\n\u001B[0;32m      3\u001B[0m                 \u001B[38;5;124m\"\u001B[39m\u001B[38;5;124m45 -15 38\u001B[39m\u001B[38;5;124m\"\u001B[39m)\n\u001B[1;32m----> 4\u001B[0m hA1 \u001B[38;5;241m=\u001B[39m \u001B[43mholetskiy\u001B[49m\u001B[43m(\u001B[49m\u001B[43mmA1\u001B[49m\u001B[43m)\u001B[49m\n\u001B[0;32m      5\u001B[0m hA1\n",
      "Cell \u001B[1;32mIn[4], line 7\u001B[0m, in \u001B[0;36mholetskiy\u001B[1;34m(original)\u001B[0m\n\u001B[0;32m      4\u001B[0m matrixU[\u001B[38;5;241m0\u001B[39m][\u001B[38;5;241m0\u001B[39m] \u001B[38;5;241m=\u001B[39m np\u001B[38;5;241m.\u001B[39msqrt(original[\u001B[38;5;241m0\u001B[39m][\u001B[38;5;241m0\u001B[39m])\n\u001B[0;32m      6\u001B[0m \u001B[38;5;28;01mfor\u001B[39;00m i \u001B[38;5;129;01min\u001B[39;00m \u001B[38;5;28mrange\u001B[39m(original\u001B[38;5;241m.\u001B[39mshape[\u001B[38;5;241m0\u001B[39m]):\n\u001B[1;32m----> 7\u001B[0m     matrixU[\u001B[38;5;241m0\u001B[39m][i] \u001B[38;5;241m=\u001B[39m \u001B[43moriginal\u001B[49m\u001B[43m[\u001B[49m\u001B[38;5;241;43m0\u001B[39;49m\u001B[43m]\u001B[49m\u001B[43m[\u001B[49m\u001B[38;5;241;43m1\u001B[39;49m\u001B[43m]\u001B[49m \u001B[38;5;241m/\u001B[39m matrixU[\u001B[38;5;241m0\u001B[39m][\u001B[38;5;241m0\u001B[39m]\n\u001B[0;32m      9\u001B[0m \u001B[38;5;28;01mfor\u001B[39;00m i \u001B[38;5;129;01min\u001B[39;00m \u001B[38;5;28mrange\u001B[39m(\u001B[38;5;241m0\u001B[39m, original\u001B[38;5;241m.\u001B[39mshape[\u001B[38;5;241m0\u001B[39m]):\n\u001B[0;32m     10\u001B[0m     \u001B[38;5;28;01mfor\u001B[39;00m j \u001B[38;5;129;01min\u001B[39;00m \u001B[38;5;28mrange\u001B[39m(\u001B[38;5;241m0\u001B[39m, original\u001B[38;5;241m.\u001B[39mshape[\u001B[38;5;241m1\u001B[39m]):\n",
      "File \u001B[1;32mC:\\Utilities\\IDLE\\lib\\site-packages\\numpy\\matrixlib\\defmatrix.py:196\u001B[0m, in \u001B[0;36mmatrix.__getitem__\u001B[1;34m(self, index)\u001B[0m\n\u001B[0;32m    193\u001B[0m \u001B[38;5;28mself\u001B[39m\u001B[38;5;241m.\u001B[39m_getitem \u001B[38;5;241m=\u001B[39m \u001B[38;5;28;01mTrue\u001B[39;00m\n\u001B[0;32m    195\u001B[0m \u001B[38;5;28;01mtry\u001B[39;00m:\n\u001B[1;32m--> 196\u001B[0m     out \u001B[38;5;241m=\u001B[39m \u001B[43mN\u001B[49m\u001B[38;5;241;43m.\u001B[39;49m\u001B[43mndarray\u001B[49m\u001B[38;5;241;43m.\u001B[39;49m\u001B[38;5;21;43m__getitem__\u001B[39;49m\u001B[43m(\u001B[49m\u001B[38;5;28;43mself\u001B[39;49m\u001B[43m,\u001B[49m\u001B[43m \u001B[49m\u001B[43mindex\u001B[49m\u001B[43m)\u001B[49m\n\u001B[0;32m    197\u001B[0m \u001B[38;5;28;01mfinally\u001B[39;00m:\n\u001B[0;32m    198\u001B[0m     \u001B[38;5;28mself\u001B[39m\u001B[38;5;241m.\u001B[39m_getitem \u001B[38;5;241m=\u001B[39m \u001B[38;5;28;01mFalse\u001B[39;00m\n",
      "\u001B[1;31mIndexError\u001B[0m: index 1 is out of bounds for axis 0 with size 1"
     ]
    }
   ],
   "execution_count": 5
  },
  {
   "metadata": {},
   "cell_type": "code",
   "outputs": [],
   "execution_count": null,
   "source": "",
   "id": "a2f6c0ba5246caed"
  }
 ],
 "metadata": {
  "kernelspec": {
   "display_name": "Python 3",
   "language": "python",
   "name": "python3"
  },
  "language_info": {
   "codemirror_mode": {
    "name": "ipython",
    "version": 2
   },
   "file_extension": ".py",
   "mimetype": "text/x-python",
   "name": "python",
   "nbconvert_exporter": "python",
   "pygments_lexer": "ipython2",
   "version": "2.7.6"
  }
 },
 "nbformat": 4,
 "nbformat_minor": 5
}
