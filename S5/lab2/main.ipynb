{
 "cells": [
  {
   "metadata": {},
   "cell_type": "markdown",
   "source": [
    "В-18\n",
    "\n",
    "18 % 5 = 3 => 4"
   ],
   "id": "18515000e002ea55"
  },
  {
   "cell_type": "code",
   "id": "initial_id",
   "metadata": {
    "collapsed": true,
    "ExecuteTime": {
     "end_time": "2024-10-21T12:38:28.299365Z",
     "start_time": "2024-10-21T12:38:28.283739Z"
    }
   },
   "source": [
    "import numpy as np\n",
    "import numpy.linalg as LA"
   ],
   "outputs": [],
   "execution_count": 260
  },
  {
   "metadata": {},
   "cell_type": "markdown",
   "source": "# Метод",
   "id": "8f5246347034ba8e"
  },
  {
   "metadata": {
    "ExecuteTime": {
     "end_time": "2024-10-21T12:38:28.325693Z",
     "start_time": "2024-10-21T12:38:28.299365Z"
    }
   },
   "cell_type": "code",
   "source": [
    "def calc_LU(original: np.matrix) -> (np.matrix, np.matrix):\n",
    "    matrixU = np.matrix(np.zeros(original.shape))\n",
    "    matrixU[0] = original[0]\n",
    "\n",
    "    matrixL = np.diag(np.ones((original.shape[0])))\n",
    "    for i in range(original.shape[1]):\n",
    "        matrixL[i, 0] = original[i, 0] / original[0, 0]\n",
    "\n",
    "    for row in range(1, original.shape[0]):\n",
    "        for column in range(1, original.shape[1]):\n",
    "            if row <= column:\n",
    "                elem_sum = sum(matrixL[row, i] * matrixU[i, column] for i in range(0, row - 1 + 1))\n",
    "                matrixU[row, column] = original[row, column] - elem_sum\n",
    "                continue\n",
    "            elem_sum = sum(matrixL[row, i] * matrixU[i, column] for i in range(0, column - 1 + 1))\n",
    "            matrixL[row, column] = (original[row, column] - elem_sum) / matrixU[column, column]\n",
    "    return matrixL, matrixU"
   ],
   "id": "f813399455031299",
   "outputs": [],
   "execution_count": 261
  },
  {
   "metadata": {
    "ExecuteTime": {
     "end_time": "2024-10-21T12:38:28.357329Z",
     "start_time": "2024-10-21T12:38:28.341823Z"
    }
   },
   "cell_type": "code",
   "source": [
    "def solver(matrix, b):\n",
    "    ML, MU = calc_LU(matrix)\n",
    "    y = LA.solve(ML, b)\n",
    "    x = LA.solve(MU, y)\n",
    "    return x"
   ],
   "id": "7032d3afab0fa0d2",
   "outputs": [],
   "execution_count": 262
  },
  {
   "metadata": {},
   "cell_type": "markdown",
   "source": "# Проверка метода",
   "id": "6c4ef3bdab086088"
  },
  {
   "metadata": {
    "ExecuteTime": {
     "end_time": "2024-10-21T12:38:28.388587Z",
     "start_time": "2024-10-21T12:38:28.372963Z"
    }
   },
   "cell_type": "code",
   "source": [
    "mAt1 = np.matrix('2.1 -4.5 -2.0;'\n",
    "                 '3.0 2.5 4.3;'\n",
    "                 '-6.0 3.5 2.5')\n",
    "\n",
    "vecbt1 = np.matrix('19.07;'\n",
    "                   '3.21;'\n",
    "                   '-18.25')\n",
    "\n",
    "precise_res_t1 = np.matrix('1.34025;'\n",
    "                           '-4.75798;'\n",
    "                           '2.5771')\n",
    "rest1 = solver(mAt1, vecbt1)\n",
    "rest1, precise_res_t1 - rest1"
   ],
   "id": "58fbf464efd65d34",
   "outputs": [
    {
     "data": {
      "text/plain": [
       "(matrix([[ 1.34022645],\n",
       "         [-4.75800672],\n",
       "         [ 2.57775289]]),\n",
       " matrix([[ 2.35473435e-05],\n",
       "         [ 2.67189250e-05],\n",
       "         [-6.52892870e-04]]))"
      ]
     },
     "execution_count": 263,
     "metadata": {},
     "output_type": "execute_result"
    }
   ],
   "execution_count": 263
  },
  {
   "metadata": {
    "ExecuteTime": {
     "end_time": "2024-10-21T12:38:28.561015Z",
     "start_time": "2024-10-21T12:38:28.545637Z"
    }
   },
   "cell_type": "code",
   "source": [
    "mAt2 = np.matrix('5 -1 5;'\n",
    "                 '-3 6 2;'\n",
    "                 '10 -7 0')\n",
    "\n",
    "vecbt2 = np.matrix('3.2;'\n",
    "                   '5.4;'\n",
    "                   '-1.2')\n",
    "\n",
    "precise_res_t2 = np.matrix('0.7297;'\n",
    "                           '1.2138;'\n",
    "                           '0.1531')\n",
    "rest2 = solver(mAt2, vecbt2)\n",
    "rest2, precise_res_t2 - rest2"
   ],
   "id": "20ab7c924d280a79",
   "outputs": [
    {
     "data": {
      "text/plain": [
       "(matrix([[0.72965517],\n",
       "         [1.2137931 ],\n",
       "         [0.15310345]]),\n",
       " matrix([[ 4.48275862e-05],\n",
       "         [ 6.89655172e-06],\n",
       "         [-3.44827586e-06]]))"
      ]
     },
     "execution_count": 264,
     "metadata": {},
     "output_type": "execute_result"
    }
   ],
   "execution_count": 264
  },
  {
   "metadata": {
    "ExecuteTime": {
     "end_time": "2024-10-21T12:38:28.608124Z",
     "start_time": "2024-10-21T12:38:28.596125Z"
    }
   },
   "cell_type": "code",
   "source": [
    "mAt3 = np.matrix('5 2 3;'\n",
    "                '1 6 1;'\n",
    "                '3 -4 -2')\n",
    "\n",
    "vecbt3 = np.matrix('3;'\n",
    "                  '5;'\n",
    "                  '8')\n",
    "\n",
    "precise_res_t3 = np.matrix('2;'\n",
    "                          '1;'\n",
    "                          '-3')\n",
    "\n",
    "rest3 = solver(mAt3, vecbt3)\n",
    "rest3, precise_res_t3 - rest3"
   ],
   "id": "1dc4b2417e950589",
   "outputs": [
    {
     "data": {
      "text/plain": [
       "(matrix([[ 2.],\n",
       "         [ 1.],\n",
       "         [-3.]]),\n",
       " matrix([[-4.44089210e-16],\n",
       "         [-2.22044605e-16],\n",
       "         [ 4.44089210e-16]]))"
      ]
     },
     "execution_count": 265,
     "metadata": {},
     "output_type": "execute_result"
    }
   ],
   "execution_count": 265
  },
  {
   "metadata": {
    "ExecuteTime": {
     "end_time": "2024-10-21T12:38:28.638827Z",
     "start_time": "2024-10-21T12:38:28.623198Z"
    }
   },
   "cell_type": "code",
   "source": [
    "matrixAt4 = [[1, 2, 1, 4],\n",
    "             [2, 0, 4, 3],\n",
    "             [4, 2, 2, 1],\n",
    "             [-3, 1, 3, 2]]\n",
    "matrixAt4 = np.matrix(matrixAt4)\n",
    "vecbt4 = np.matrix('13;'\n",
    "                   '28;'\n",
    "                   '20;'\n",
    "                   '6')\n",
    "precise_res_t4 = np.matrix('3;'\n",
    "                           '-1;'\n",
    "                           '4;'\n",
    "                           '2')\n",
    "\n",
    "rest4 = solver(matrixAt4, vecbt4)\n",
    "rest4, precise_res_t4 - rest4"
   ],
   "id": "565f597cac46a164",
   "outputs": [
    {
     "data": {
      "text/plain": [
       "(matrix([[ 3.],\n",
       "         [-1.],\n",
       "         [ 4.],\n",
       "         [ 2.]]),\n",
       " matrix([[ 1.77635684e-15],\n",
       "         [-5.77315973e-15],\n",
       "         [ 8.88178420e-16],\n",
       "         [ 4.44089210e-16]]))"
      ]
     },
     "execution_count": 266,
     "metadata": {},
     "output_type": "execute_result"
    }
   ],
   "execution_count": 266
  },
  {
   "metadata": {
    "ExecuteTime": {
     "end_time": "2024-10-21T12:38:28.670485Z",
     "start_time": "2024-10-21T12:38:28.654846Z"
    }
   },
   "cell_type": "code",
   "source": [
    "mAt5 = np.matrix('2 1 3;'\n",
    "                 '11 7 5;'\n",
    "                 '9 8 4')\n",
    "\n",
    "vecbt5 = np.matrix('1;'\n",
    "                   '-6;'\n",
    "                   '-5')\n",
    "\n",
    "precise_res_t5 = np.matrix('-1;'\n",
    "                           '0;'\n",
    "                           '1')\n",
    "\n",
    "rest5 = solver(mAt5, vecbt5)\n",
    "rest5, precise_res_t5 - rest5"
   ],
   "id": "615628b8ce931ba3",
   "outputs": [
    {
     "data": {
      "text/plain": [
       "(matrix([[-1.],\n",
       "         [ 0.],\n",
       "         [ 1.]]),\n",
       " matrix([[-2.22044605e-16],\n",
       "         [ 0.00000000e+00],\n",
       "         [ 2.22044605e-16]]))"
      ]
     },
     "execution_count": 267,
     "metadata": {},
     "output_type": "execute_result"
    }
   ],
   "execution_count": 267
  },
  {
   "metadata": {},
   "cell_type": "markdown",
   "source": "Как видим, всё хорошо!",
   "id": "19f73e40fadf08c2"
  },
  {
   "metadata": {},
   "cell_type": "markdown",
   "source": "# Решим уравнения",
   "id": "1dd75bdc9e126814"
  },
  {
   "metadata": {},
   "cell_type": "markdown",
   "source": "## №1",
   "id": "54830b983e649a0d"
  },
  {
   "metadata": {
    "ExecuteTime": {
     "end_time": "2024-10-21T12:38:28.743883Z",
     "start_time": "2024-10-21T12:38:28.730373Z"
    }
   },
   "cell_type": "code",
   "source": [
    "matA1 = np.matrix('13.14 -2.12 1.17;'\n",
    "                  '-2.12 6.3 -2.45;'\n",
    "                  '1.17 -2.45 4.6')\n",
    "b1 = np.matrix('1.27;'\n",
    "               '2.13;'\n",
    "               '3.14')\n",
    "\n",
    "res1 = solver(matA1, b1)\n",
    "res1, matA1 @ res1"
   ],
   "id": "ddaaec72432939ed",
   "outputs": [
    {
     "data": {
      "text/plain": [
       "(matrix([[0.12996615],\n",
       "         [0.80016894],\n",
       "         [1.07572903]]),\n",
       " matrix([[1.27],\n",
       "         [2.13],\n",
       "         [3.14]]))"
      ]
     },
     "execution_count": 268,
     "metadata": {},
     "output_type": "execute_result"
    }
   ],
   "execution_count": 268
  },
  {
   "metadata": {},
   "cell_type": "markdown",
   "source": "## №2",
   "id": "8d8bad050b05ec86"
  },
  {
   "metadata": {
    "ExecuteTime": {
     "end_time": "2024-10-21T12:38:28.842451Z",
     "start_time": "2024-10-21T12:38:28.828943Z"
    }
   },
   "cell_type": "code",
   "source": [
    "matA2 = np.matrix('4.31 0.26 0.61 0.27;'\n",
    "                  '0.26 2.32 0.18 0.34;'\n",
    "                  '0.61 0.18 3.2 0.31;'\n",
    "                  '0.27 0.34 0.31 5.17')\n",
    "b2 = np.matrix('1.02;'\n",
    "               '1;'\n",
    "               '1.34;'\n",
    "               '1.27')\n",
    "\n",
    "res2 = solver(matA2, b2)\n",
    "res1, matA2 @ res2"
   ],
   "id": "ada331307cff9722",
   "outputs": [
    {
     "data": {
      "text/plain": [
       "(matrix([[0.12996615],\n",
       "         [0.80016894],\n",
       "         [1.07572903]]),\n",
       " matrix([[1.02],\n",
       "         [1.  ],\n",
       "         [1.34],\n",
       "         [1.27]]))"
      ]
     },
     "execution_count": 269,
     "metadata": {},
     "output_type": "execute_result"
    }
   ],
   "execution_count": 269
  }
 ],
 "metadata": {
  "kernelspec": {
   "display_name": "Python 3",
   "language": "python",
   "name": "python3"
  },
  "language_info": {
   "codemirror_mode": {
    "name": "ipython",
    "version": 2
   },
   "file_extension": ".py",
   "mimetype": "text/x-python",
   "name": "python",
   "nbconvert_exporter": "python",
   "pygments_lexer": "ipython2",
   "version": "2.7.6"
  }
 },
 "nbformat": 4,
 "nbformat_minor": 5
}
