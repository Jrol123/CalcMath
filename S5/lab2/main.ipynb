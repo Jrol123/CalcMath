{
 "cells": [
  {
   "metadata": {},
   "cell_type": "markdown",
   "source": [
    "В-18\n",
    "\n",
    "18 % 5 = 3 => 4"
   ],
   "id": "18515000e002ea55"
  },
  {
   "cell_type": "code",
   "id": "initial_id",
   "metadata": {
    "collapsed": true,
    "ExecuteTime": {
     "end_time": "2024-10-21T09:49:26.227640Z",
     "start_time": "2024-10-21T09:49:26.216120Z"
    }
   },
   "source": [
    "import pandas as pd\n",
    "import numpy as np"
   ],
   "outputs": [],
   "execution_count": 48
  },
  {
   "metadata": {
    "ExecuteTime": {
     "end_time": "2024-10-21T09:49:26.259208Z",
     "start_time": "2024-10-21T09:49:26.241176Z"
    }
   },
   "cell_type": "code",
   "source": [
    "matrixA = [[1, 2, 1, 4],\n",
    "           [2, 0, 4, 3],\n",
    "           [4, 2, 2, 1],\n",
    "           [-3, 1, 3, 2]]\n",
    "vecb = [[13],\n",
    "        [28],\n",
    "        [20],\n",
    "        [6]]\n",
    "precise_res = [[3],\n",
    "               [-1],\n",
    "               [4],\n",
    "               [2]]\n",
    "matrixA, vecb, precise_res"
   ],
   "id": "9be5958e762e27b9",
   "outputs": [
    {
     "data": {
      "text/plain": [
       "([[1, 2, 1, 4], [2, 0, 4, 3], [4, 2, 2, 1], [-3, 1, 3, 2]],\n",
       " [[13], [28], [20], [6]],\n",
       " [[3], [-1], [4], [2]])"
      ]
     },
     "execution_count": 49,
     "metadata": {},
     "output_type": "execute_result"
    }
   ],
   "execution_count": 49
  },
  {
   "metadata": {
    "ExecuteTime": {
     "end_time": "2024-10-21T09:49:26.337830Z",
     "start_time": "2024-10-21T09:49:26.333318Z"
    }
   },
   "cell_type": "code",
   "source": "matrixA[1][0]",
   "id": "178de86f57aa7ea4",
   "outputs": [
    {
     "data": {
      "text/plain": [
       "2"
      ]
     },
     "execution_count": 50,
     "metadata": {},
     "output_type": "execute_result"
    }
   ],
   "execution_count": 50
  },
  {
   "metadata": {
    "ExecuteTime": {
     "end_time": "2024-10-21T09:49:26.447008Z",
     "start_time": "2024-10-21T09:49:26.436485Z"
    }
   },
   "cell_type": "code",
   "source": "matrixA[1][0] / matrixA[0][0]",
   "id": "5795a520d70aa4ed",
   "outputs": [
    {
     "data": {
      "text/plain": [
       "2.0"
      ]
     },
     "execution_count": 51,
     "metadata": {},
     "output_type": "execute_result"
    }
   ],
   "execution_count": 51
  },
  {
   "metadata": {
    "ExecuteTime": {
     "end_time": "2024-10-21T09:51:56.190311Z",
     "start_time": "2024-10-21T09:51:56.174272Z"
    }
   },
   "cell_type": "code",
   "source": [
    "def calc_LU(original: np.matrix, shape) -> (np.matrix, np.matrix):\n",
    "    matrixL = [[0] * shape[0]] * shape[1]\n",
    "    matrixL[0] = original[0]\n",
    "    print(matrixL)\n",
    "    matrixU = [[0] * shape[0]] * shape[1]\n",
    "    for i in range(shape[1]):\n",
    "        matrixU[i][0] = original[i][0] / original[0][0] \n",
    "    print(matrixU)\n",
    "    for row in range(1, shape[0]):\n",
    "        for column in range(1, shape[1]):\n",
    "            if row <= column:\n",
    "                pass\n",
    "                "
   ],
   "id": "f813399455031299",
   "outputs": [],
   "execution_count": 58
  },
  {
   "metadata": {
    "ExecuteTime": {
     "end_time": "2024-10-21T09:51:56.584481Z",
     "start_time": "2024-10-21T09:51:56.572955Z"
    }
   },
   "cell_type": "code",
   "source": "calc_LU(matrixA, (4, 4))",
   "id": "6a7f0cff6af9dcef",
   "outputs": [
    {
     "name": "stdout",
     "output_type": "stream",
     "text": [
      "[[1, 2, 1, 4], [0, 0, 0, 0], [0, 0, 0, 0], [0, 0, 0, 0]]\n",
      "[[-3.0, 0, 0, 0], [-3.0, 0, 0, 0], [-3.0, 0, 0, 0], [-3.0, 0, 0, 0]]\n"
     ]
    }
   ],
   "execution_count": 59
  },
  {
   "metadata": {
    "ExecuteTime": {
     "end_time": "2024-10-21T09:49:26.634381Z",
     "start_time": "2024-10-21T09:49:26.620861Z"
    }
   },
   "cell_type": "code",
   "source": "",
   "id": "7cd23c069ed946df",
   "outputs": [],
   "execution_count": null
  }
 ],
 "metadata": {
  "kernelspec": {
   "display_name": "Python 3",
   "language": "python",
   "name": "python3"
  },
  "language_info": {
   "codemirror_mode": {
    "name": "ipython",
    "version": 2
   },
   "file_extension": ".py",
   "mimetype": "text/x-python",
   "name": "python",
   "nbconvert_exporter": "python",
   "pygments_lexer": "ipython2",
   "version": "2.7.6"
  }
 },
 "nbformat": 4,
 "nbformat_minor": 5
}
