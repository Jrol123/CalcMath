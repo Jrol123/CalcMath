{
 "cells": [
  {
   "cell_type": "code",
   "execution_count": 139,
   "metadata": {},
   "outputs": [],
   "source": [
    "import numpy as np\n",
    "import warnings\n",
    "\n",
    "# warnings.simplefilter(\"ignore\", category=RuntimeWarning)\n",
    "\n",
    "PRINT = False"
   ]
  },
  {
   "cell_type": "code",
   "execution_count": 140,
   "metadata": {},
   "outputs": [],
   "source": [
    "def check_closure(x1, x2, eps):\n",
    "    return np.linalg.norm(x1 - x2) <= eps"
   ]
  },
  {
   "cell_type": "markdown",
   "metadata": {},
   "source": [
    "# Метод Якоби\n",
    "$a_{ii}x_i^{(k+1)}=f_i-\\sum\\limits_{j=1,i\\neq j}^n a_{ij}x_j^{(k)}$"
   ]
  },
  {
   "cell_type": "code",
   "execution_count": 141,
   "metadata": {},
   "outputs": [],
   "source": [
    "def get_yakobi_iter(prev_res, anti_diag_matrix, inv_diagonal_matrix,  f):\n",
    "    if PRINT:\n",
    "        print(\"Data:\\n\", anti_diag_matrix, \"\\n\", prev_res)\n",
    "        print(\"Mult res:\\n\", anti_diag_matrix @ prev_res)\n",
    "        print(\"Sub:\\n\", f - anti_diag_matrix @ prev_res)\n",
    "    return inv_diagonal_matrix @ (f - anti_diag_matrix @ prev_res)"
   ]
  },
  {
   "cell_type": "markdown",
   "metadata": {},
   "source": [
    "# Метод последовательной верхней релаксации\n",
    "\n",
    "$\\left( D + \\omega A_{L} \\right)\\dfrac{x^{(k + 1)} - x^{(k)}}{\\omega} + Ax^{(k)} = f$"
   ]
  },
  {
   "cell_type": "code",
   "execution_count": 142,
   "metadata": {},
   "outputs": [],
   "source": [
    "def get_upper_relax_iter(prev_res, omega, matrix, f):\n",
    "    if PRINT:\n",
    "        print(\"Data:\\n\", prev_res)\n",
    "    x1 = np.zeros(prev_res.shape)\n",
    "    for i in range(prev_res.shape[0]):\n",
    "        s = 0\n",
    "        for j in range(i):\n",
    "            s += matrix[i, j] * x1[j]\n",
    "        x1[i] -= omega * s\n",
    "\n",
    "        s = 0\n",
    "        for j in range(i + 1, prev_res.shape[0]):\n",
    "            s += matrix[i, j] * prev_res[j]\n",
    "        x1[i] -= omega * s\n",
    "\n",
    "        x1[i] += (1 - omega) * prev_res[i] * matrix[i, i]\n",
    "\n",
    "        x1[i] /= matrix[i, i]\n",
    "    return x1"
   ]
  },
  {
   "cell_type": "markdown",
   "metadata": {},
   "source": [
    "# Проверка"
   ]
  },
  {
   "cell_type": "code",
   "execution_count": 143,
   "metadata": {},
   "outputs": [],
   "source": [
    "def main_cycle(method, eps, main_shape, *args):\n",
    "    iter = 1\n",
    "    prev_iter = np.ones(main_shape)\n",
    "    cur_iter = prev_iter\n",
    "    if PRINT:\n",
    "        print(args)\n",
    "    while True:\n",
    "        prev_iter = cur_iter\n",
    "        cur_iter = method(prev_iter, *args)\n",
    "        if PRINT:\n",
    "            print(\"cur_iter:\\n\",cur_iter)\n",
    "        if check_closure(cur_iter, prev_iter, eps):\n",
    "            break;\n",
    "        iter += 1\n",
    "    \n",
    "    return cur_iter, iter"
   ]
  },
  {
   "cell_type": "markdown",
   "metadata": {},
   "source": [
    "## Входные данные"
   ]
  },
  {
   "cell_type": "code",
   "execution_count": 144,
   "metadata": {},
   "outputs": [],
   "source": [
    "A = np.matrix(\n",
    "    \"6.22 1.42 -1.72 1.91;\"\n",
    "    \"1.42 5.33 1.11 -1.82;\"\n",
    "    \"-1.72 1.11 5.24 1.42;\"\n",
    "    \"1.91 -1.82 1.42 6.55\"\n",
    ")\n",
    "\n",
    "f = np.matrix(\"7.53;\"\n",
    "              \"6.06;\"\n",
    "              \"8.05;\"\n",
    "              \"8.06\")\n",
    "\n",
    "\n",
    "D = np.diag(np.diag(A))\n",
    "\n",
    "anti_D = A - D\n",
    "inv_D = np.linalg.inv(D)\n",
    "\n",
    "eps = pow(10, -4)"
   ]
  },
  {
   "cell_type": "markdown",
   "metadata": {},
   "source": [
    "## Якоби"
   ]
  },
  {
   "cell_type": "code",
   "execution_count": 145,
   "metadata": {},
   "outputs": [
    {
     "data": {
      "text/plain": [
       "(matrix([[1.28737763],\n",
       "         [0.69362225],\n",
       "         [1.62325748],\n",
       "         [0.69598733]]),\n",
       " matrix([[1.28757167],\n",
       "         [0.69342757],\n",
       "         [1.62345151],\n",
       "         [0.69579773]]),\n",
       " 35)"
      ]
     },
     "execution_count": 145,
     "metadata": {},
     "output_type": "execute_result"
    }
   ],
   "source": [
    "cur_iter, iter = main_cycle(get_yakobi_iter, eps, f.shape, anti_D, inv_D, f)\n",
    "\n",
    "\n",
    "cur_iter, np.linalg.solve(A, f), iter"
   ]
  },
  {
   "cell_type": "markdown",
   "metadata": {},
   "source": [
    "## Метод последовательной верхней релаксации"
   ]
  },
  {
   "cell_type": "code",
   "execution_count": 146,
   "metadata": {},
   "outputs": [
    {
     "data": {
      "text/html": [
       "<div>\n",
       "<style scoped>\n",
       "    .dataframe tbody tr th:only-of-type {\n",
       "        vertical-align: middle;\n",
       "    }\n",
       "\n",
       "    .dataframe tbody tr th {\n",
       "        vertical-align: top;\n",
       "    }\n",
       "\n",
       "    .dataframe thead th {\n",
       "        text-align: right;\n",
       "    }\n",
       "</style>\n",
       "<table border=\"1\" class=\"dataframe\">\n",
       "  <thead>\n",
       "    <tr style=\"text-align: right;\">\n",
       "      <th></th>\n",
       "      <th>f</th>\n",
       "      <th>omg</th>\n",
       "      <th>iter</th>\n",
       "    </tr>\n",
       "  </thead>\n",
       "  <tbody>\n",
       "    <tr>\n",
       "      <th>0</th>\n",
       "      <td>[[-0.00010732358242283858], [9.694449489366695...</td>\n",
       "      <td>1.00</td>\n",
       "      <td>20</td>\n",
       "    </tr>\n",
       "    <tr>\n",
       "      <th>1</th>\n",
       "      <td>[[-8.991362755044057e-05], [8.100965409856096e...</td>\n",
       "      <td>1.01</td>\n",
       "      <td>20</td>\n",
       "    </tr>\n",
       "    <tr>\n",
       "      <th>2</th>\n",
       "      <td>[[-7.483337010268691e-05], [6.724362849332976e...</td>\n",
       "      <td>1.02</td>\n",
       "      <td>20</td>\n",
       "    </tr>\n",
       "    <tr>\n",
       "      <th>3</th>\n",
       "      <td>[[-9.775541004308709e-05], [8.759916126725104e...</td>\n",
       "      <td>1.03</td>\n",
       "      <td>19</td>\n",
       "    </tr>\n",
       "    <tr>\n",
       "      <th>4</th>\n",
       "      <td>[[-8.112494180208714e-05], [7.24891048955723e-...</td>\n",
       "      <td>1.04</td>\n",
       "      <td>19</td>\n",
       "    </tr>\n",
       "    <tr>\n",
       "      <th>...</th>\n",
       "      <td>...</td>\n",
       "      <td>...</td>\n",
       "      <td>...</td>\n",
       "    </tr>\n",
       "    <tr>\n",
       "      <th>95</th>\n",
       "      <td>[[2.1817599281194186e-07], [-2.491960766292057...</td>\n",
       "      <td>1.95</td>\n",
       "      <td>241</td>\n",
       "    </tr>\n",
       "    <tr>\n",
       "      <th>96</th>\n",
       "      <td>[[-3.2741566568484e-05], [-2.7295977901724836e...</td>\n",
       "      <td>1.96</td>\n",
       "      <td>302</td>\n",
       "    </tr>\n",
       "    <tr>\n",
       "      <th>97</th>\n",
       "      <td>[[3.18853417280147e-06], [2.73541810570092e-05...</td>\n",
       "      <td>1.97</td>\n",
       "      <td>406</td>\n",
       "    </tr>\n",
       "    <tr>\n",
       "      <th>98</th>\n",
       "      <td>[[-5.808294051427803e-06], [-3.041406791471035...</td>\n",
       "      <td>1.98</td>\n",
       "      <td>612</td>\n",
       "    </tr>\n",
       "    <tr>\n",
       "      <th>99</th>\n",
       "      <td>[[-1.329557918879423e-05], [-3.389212932660022...</td>\n",
       "      <td>1.99</td>\n",
       "      <td>1229</td>\n",
       "    </tr>\n",
       "  </tbody>\n",
       "</table>\n",
       "<p>100 rows × 3 columns</p>\n",
       "</div>"
      ],
      "text/plain": [
       "                                                    f   omg  iter\n",
       "0   [[-0.00010732358242283858], [9.694449489366695...  1.00    20\n",
       "1   [[-8.991362755044057e-05], [8.100965409856096e...  1.01    20\n",
       "2   [[-7.483337010268691e-05], [6.724362849332976e...  1.02    20\n",
       "3   [[-9.775541004308709e-05], [8.759916126725104e...  1.03    19\n",
       "4   [[-8.112494180208714e-05], [7.24891048955723e-...  1.04    19\n",
       "..                                                ...   ...   ...\n",
       "95  [[2.1817599281194186e-07], [-2.491960766292057...  1.95   241\n",
       "96  [[-3.2741566568484e-05], [-2.7295977901724836e...  1.96   302\n",
       "97  [[3.18853417280147e-06], [2.73541810570092e-05...  1.97   406\n",
       "98  [[-5.808294051427803e-06], [-3.041406791471035...  1.98   612\n",
       "99  [[-1.329557918879423e-05], [-3.389212932660022...  1.99  1229\n",
       "\n",
       "[100 rows x 3 columns]"
      ]
     },
     "execution_count": 146,
     "metadata": {},
     "output_type": "execute_result"
    }
   ],
   "source": [
    "import pandas as pd\n",
    "\n",
    "df = pd.DataFrame(columns=[\"f\", \"omg\", \"iter\"])\n",
    "\n",
    "for omg in range(100, 199 + 1):\n",
    "    omg /= 100\n",
    "    cur_iter, iter = main_cycle(get_upper_relax_iter, eps, f.shape, omg, A, f)\n",
    "    \n",
    "    df.loc[len(df)] = [cur_iter, omg, iter]\n",
    "\n",
    "df"
   ]
  },
  {
   "cell_type": "markdown",
   "metadata": {},
   "source": [
    "Как видим, метод последовательной верхней релаксации может быть как гораздо быстрее метода Якоби, так и сильно медленнее, если не повезёт взять неправильную $\\omega$"
   ]
  },
  {
   "cell_type": "code",
   "execution_count": null,
   "metadata": {},
   "outputs": [],
   "source": []
  }
 ],
 "metadata": {
  "kernelspec": {
   "display_name": "Calc_math",
   "language": "python",
   "name": "python3"
  },
  "language_info": {
   "codemirror_mode": {
    "name": "ipython",
    "version": 3
   },
   "file_extension": ".py",
   "mimetype": "text/x-python",
   "name": "python",
   "nbconvert_exporter": "python",
   "pygments_lexer": "ipython3",
   "version": "3.10.2"
  }
 },
 "nbformat": 4,
 "nbformat_minor": 2
}
