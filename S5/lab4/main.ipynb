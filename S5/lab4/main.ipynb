{
 "cells": [
  {
   "cell_type": "markdown",
   "metadata": {},
   "source": [
    "# Начало работы"
   ]
  },
  {
   "cell_type": "code",
   "execution_count": 20,
   "metadata": {},
   "outputs": [],
   "source": [
    "import numpy as np"
   ]
  },
  {
   "cell_type": "code",
   "execution_count": null,
   "metadata": {},
   "outputs": [],
   "source": [
    "def qr(A: np.matrix) -> tuple[np.matrix, np.matrix]:\n",
    "    \"\"\"\n",
    "    QR метод через матрицы отражения\n",
    "\n",
    "    Args:\n",
    "        A (np.matrix): Матрица A\n",
    "\n",
    "    Returns:\n",
    "        (Q, R) (tuple[np.matrix, np.matrix]): Матрицы Q и R\n",
    "\n",
    "    \"\"\"\n",
    "    \n",
    "    n = A.shape[0]\n",
    "    Q = np.eye(n)\n",
    "    \n",
    "    for k in range(n):\n",
    "        # Вычисление нормали\n",
    "        p = np.zeros((n, 1))\n",
    "        a_kk = A[k, k]\n",
    "        if a_kk != 0:\n",
    "            a_kk_n = (1 if a_kk >= 0 else -1) * np.sqrt(sum(elem ** 2 for elem in A[k:, k]))\n",
    "            \n",
    "        else:\n",
    "            a_kk_n = np.sqrt(2)\n",
    "            \n",
    "        p[k] = a_kk + a_kk_n\n",
    "        p[k+1:] = A[k+1:, k]\n",
    "        \n",
    "        A[k,k]= a_kk_n\n",
    "        A[k+1:, k]=0\n",
    "        \n",
    "        for j in range(k + 1, n):\n",
    "            # print(np.vdot(p, p))\n",
    "            old_a = A[:, j]\n",
    "            m1 = sum(p[l] * old_a[l] for l in range(n))\n",
    "            # m1 = np.dot(p, old_a)\n",
    "            m2 = sum(p[l] * p[l] for l in range(n))\n",
    "            # m2 = np.dot(p, p)\n",
    "            dv = float(m1/m2)\n",
    "            # print(m1, m2, dv, p)\n",
    "            mult = 2 * dv * p\n",
    "            A[:, j] = old_a - mult\n",
    "        \n",
    "        # print(p)\n",
    "        # print(A)\n",
    "        # print()\n",
    "        \n",
    " \n",
    "    R = Q.T @ A\n",
    "        \n",
    "    return Q, R"
   ]
  },
  {
   "cell_type": "markdown",
   "metadata": {},
   "source": [
    "# Тестирование"
   ]
  },
  {
   "cell_type": "code",
   "execution_count": 105,
   "metadata": {},
   "outputs": [
    {
     "name": "stdout",
     "output_type": "stream",
     "text": [
      "\n",
      "[[1. 0. 0.]\n",
      " [0. 1. 0.]\n",
      " [0. 0. 1.]]\n",
      "[[  9. -10.  -3.]\n",
      " [  0.   1.  -6.]\n",
      " [  0.   0.   2.]]\n",
      "[[  9. -10.  -3.]\n",
      " [  0.   1.  -6.]\n",
      " [  0.   0.   2.]]\n"
     ]
    },
    {
     "name": "stderr",
     "output_type": "stream",
     "text": [
      "C:\\Users\\artem\\AppData\\Local\\Temp\\ipykernel_17132\\2515003761.py:29: DeprecationWarning: Conversion of an array with ndim > 0 to a scalar is deprecated, and will error in future. Ensure you extract a single element from your array before performing this operation. (Deprecated NumPy 1.25.)\n",
      "  A[k,k]= a_kk_n\n",
      "C:\\Users\\artem\\AppData\\Local\\Temp\\ipykernel_17132\\2515003761.py:39: DeprecationWarning: Conversion of an array with ndim > 0 to a scalar is deprecated, and will error in future. Ensure you extract a single element from your array before performing this operation. (Deprecated NumPy 1.25.)\n",
      "  dv = float(m1/m2)\n"
     ]
    }
   ],
   "source": [
    "A1 = np.matrix(\"1 2 3;\"\n",
    "               \"4 6 7;\"\n",
    "               \"8 9 0\")\n",
    "b1 = np.matrix(\"6;\"\n",
    "               \"12;\"\n",
    "               \"24\")\n",
    "\n",
    "Q1, R1 = qr(A1)\n",
    "print()\n",
    "print(Q1)\n",
    "print(R1)\n",
    "print(Q1 @ R1)\n"
   ]
  },
  {
   "cell_type": "code",
   "execution_count": null,
   "metadata": {},
   "outputs": [
    {
     "name": "stdout",
     "output_type": "stream",
     "text": [
      "[[  0.]\n",
      " [ 13.]\n",
      " [-17.]]\n",
      "[[  0.]\n",
      " [  0.]\n",
      " [-38.]]\n",
      "[[0.]\n",
      " [0.]\n",
      " [0.]]\n",
      "[[1. 0. 0.]\n",
      " [0. 1. 0.]\n",
      " [0. 0. 1.]]\n",
      "[[  6.03  13.   -17.  ]\n",
      " [ 13.    29.03 -38.  ]\n",
      " [-17.   -38.    50.03]]\n",
      "[[  6.03  13.   -17.  ]\n",
      " [ 13.    29.03 -38.  ]\n",
      " [-17.   -38.    50.03]]\n"
     ]
    }
   ],
   "source": [
    "A2= np.matrix(\"6.03 13 -17;\"\n",
    "              \"13 29.03 -38;\"\n",
    "              \"-17 -38 50.03\")\n",
    "b2 = np.matrix(\"2.0909;\"\n",
    "               \"4.1509;\"\n",
    "               \"-5.1191\")\n",
    "\n",
    "Q2, R2 = qr(A2)\n",
    "print(Q2)\n",
    "print(R2)\n",
    "print(Q2 @ R2)"
   ]
  }
 ],
 "metadata": {
  "kernelspec": {
   "display_name": "Calc_math",
   "language": "python",
   "name": "python3"
  },
  "language_info": {
   "codemirror_mode": {
    "name": "ipython",
    "version": 3
   },
   "file_extension": ".py",
   "mimetype": "text/x-python",
   "name": "python",
   "nbconvert_exporter": "python",
   "pygments_lexer": "ipython3",
   "version": "3.10.2"
  }
 },
 "nbformat": 4,
 "nbformat_minor": 2
}
