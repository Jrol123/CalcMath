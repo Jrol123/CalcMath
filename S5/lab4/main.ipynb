{
 "cells": [
  {
   "cell_type": "markdown",
   "metadata": {},
   "source": [
    "# Начало работы"
   ]
  },
  {
   "cell_type": "code",
   "execution_count": 267,
   "metadata": {},
   "outputs": [],
   "source": [
    "import numpy as np\n",
    "debug_print = False"
   ]
  },
  {
   "cell_type": "code",
   "execution_count": 268,
   "metadata": {},
   "outputs": [],
   "source": [
    "def qr(A_orig: np.matrix) -> tuple[np.matrix, np.matrix]:\n",
    "    \"\"\"\n",
    "    QR метод через матрицы отражения\n",
    "\n",
    "    Args:\n",
    "        A (np.matrix): Матрица A\n",
    "\n",
    "    Returns:\n",
    "        (Q, R) (tuple[np.matrix, np.matrix]): Матрицы Q и R\n",
    "\n",
    "    \"\"\"\n",
    "    \n",
    "    \n",
    "    \n",
    "    n = A_orig.shape[0]\n",
    "    Q = np.eye(n)\n",
    "    \n",
    "    A = A_orig.copy()\n",
    "    \n",
    "    for k in range(n - 1):\n",
    "        # Вычисление нормали\n",
    "        p = np.zeros((n, 1))\n",
    "        a_kk = A[k, k]\n",
    "        if a_kk != 0:\n",
    "            a_kk_n = (1 if a_kk >= 0 else -1) * np.sqrt(sum(elem ** 2 for elem in A[k:, k]))\n",
    "            \n",
    "        else:\n",
    "            a_kk_n = np.sqrt(2)\n",
    "            \n",
    "        p[k] = a_kk + a_kk_n\n",
    "        p[k+1:] = A[k+1:, k]\n",
    "        \n",
    "        # print(np.eye(n) - p * p.T, \"ss\")\n",
    "        \n",
    "        P = np.eye(n) - 2 / float(sum(p[l] * p[l] for l in range(n))) * p * p.T\n",
    "        \n",
    "        Q = Q @ P\n",
    "        A = P @ A\n",
    "\n",
    "        if debug_print:\n",
    "            print(f\"p_{k + 1} = \", p)\n",
    "            print(f\"P_{k + 1} = \", P)\n",
    "            print(f\"P_{k + 1} @ A_{k - 1 + 1} = \", A)\n",
    "            print()\n",
    "        \n",
    "        \n",
    "        \n",
    " \n",
    "    R = Q.T @ A_orig\n",
    "        \n",
    "    return Q, R"
   ]
  },
  {
   "cell_type": "markdown",
   "metadata": {},
   "source": [
    "# Тестирование"
   ]
  },
  {
   "cell_type": "code",
   "execution_count": 269,
   "metadata": {},
   "outputs": [],
   "source": [
    "def calc_solve(A: np.matrix, b: np.matrix) -> np.matrix:\n",
    "    Q, R = qr(A)\n",
    "    y = Q.T @ b\n",
    "    x = np.linalg.solve(R, y)\n",
    "    return x"
   ]
  },
  {
   "cell_type": "markdown",
   "metadata": {},
   "source": [
    "## №1"
   ]
  },
  {
   "cell_type": "code",
   "execution_count": 270,
   "metadata": {},
   "outputs": [
    {
     "name": "stderr",
     "output_type": "stream",
     "text": [
      "C:\\Users\\artem\\AppData\\Local\\Temp\\ipykernel_17132\\2403654919.py:35: DeprecationWarning: Conversion of an array with ndim > 0 to a scalar is deprecated, and will error in future. Ensure you extract a single element from your array before performing this operation. (Deprecated NumPy 1.25.)\n",
      "  P = np.eye(n) - 2 / float(sum(p[l] * p[l] for l in range(n))) * p * p.T\n"
     ]
    }
   ],
   "source": [
    "A1 = np.matrix(\"1 2 3;\"\n",
    "               \"4 6 7;\"\n",
    "               \"8 9 0\")\n",
    "b1 = np.matrix(\"6;\"\n",
    "               \"12;\"\n",
    "               \"24\")\n",
    "x1 = np.matrix(\"-11.538;\"\n",
    "               \"12.923;\"\n",
    "               \"-2.769\")\n",
    "\n",
    "Q1, R1 = qr(A1)"
   ]
  },
  {
   "cell_type": "code",
   "execution_count": 271,
   "metadata": {},
   "outputs": [
    {
     "name": "stdout",
     "output_type": "stream",
     "text": [
      "A =  [[1 2 3]\n",
      " [4 6 7]\n",
      " [8 9 0]]\n",
      "Q =  [[-0.11111111 -0.50664569 -0.8549646 ]\n",
      " [-0.44444444 -0.74413586  0.49872935]\n",
      " [-0.88888889  0.43539864 -0.1424941 ]]\n",
      "R =  [[-9.00000000e+00 -1.08888889e+01 -3.44444444e+00]\n",
      " [ 0.00000000e+00 -1.55951876e+00 -6.72888805e+00]\n",
      " [-2.22044605e-16  2.49800181e-16  9.26211650e-01]]\n",
      "Q @ R =  [[1.00000000e+00 2.00000000e+00 3.00000000e+00]\n",
      " [4.00000000e+00 6.00000000e+00 7.00000000e+00]\n",
      " [8.00000000e+00 9.00000000e+00 7.85678349e-16]]\n"
     ]
    }
   ],
   "source": [
    "print(\"A = \", A1)\n",
    "print(\"Q = \", Q1)\n",
    "print(\"R = \", R1)\n",
    "print(\"Q @ R = \", Q1 @ R1)"
   ]
  },
  {
   "cell_type": "code",
   "execution_count": 272,
   "metadata": {},
   "outputs": [
    {
     "name": "stderr",
     "output_type": "stream",
     "text": [
      "C:\\Users\\artem\\AppData\\Local\\Temp\\ipykernel_17132\\2403654919.py:35: DeprecationWarning: Conversion of an array with ndim > 0 to a scalar is deprecated, and will error in future. Ensure you extract a single element from your array before performing this operation. (Deprecated NumPy 1.25.)\n",
      "  P = np.eye(n) - 2 / float(sum(p[l] * p[l] for l in range(n))) * p * p.T\n"
     ]
    },
    {
     "data": {
      "text/plain": [
       "(matrix([[-11.53846154],\n",
       "         [ 12.92307692],\n",
       "         [ -2.76923077]]),\n",
       " matrix([[-4.61538462e-04],\n",
       "         [ 7.69230769e-05],\n",
       "         [-2.30769231e-04]]))"
      ]
     },
     "execution_count": 272,
     "metadata": {},
     "output_type": "execute_result"
    }
   ],
   "source": [
    "x1_r = calc_solve(A1, b1)\n",
    "x1_r, x1_r - x1"
   ]
  },
  {
   "cell_type": "code",
   "execution_count": 273,
   "metadata": {},
   "outputs": [
    {
     "data": {
      "text/plain": [
       "(matrix([[1, 2, 3],\n",
       "         [4, 6, 7],\n",
       "         [8, 9, 0]]),\n",
       " matrix([[-0.11111111, -0.50664569, -0.8549646 ],\n",
       "         [-0.44444444, -0.74413586,  0.49872935],\n",
       "         [-0.88888889,  0.43539864, -0.1424941 ]]),\n",
       " matrix([[ -9.        , -10.88888889,  -3.44444444],\n",
       "         [  0.        ,  -1.55951876,  -6.72888805],\n",
       "         [  0.        ,   0.        ,   0.92621165]]),\n",
       " matrix([[1.00000000e+00, 2.00000000e+00, 3.00000000e+00],\n",
       "         [4.00000000e+00, 6.00000000e+00, 7.00000000e+00],\n",
       "         [8.00000000e+00, 9.00000000e+00, 9.41120157e-16]]))"
      ]
     },
     "execution_count": 273,
     "metadata": {},
     "output_type": "execute_result"
    }
   ],
   "source": [
    "res = np.linalg.qr(A1)\n",
    "A1, res.Q, res.R, res.Q @ res.R"
   ]
  },
  {
   "cell_type": "markdown",
   "metadata": {},
   "source": [
    "## №2"
   ]
  },
  {
   "cell_type": "code",
   "execution_count": 274,
   "metadata": {},
   "outputs": [
    {
     "name": "stderr",
     "output_type": "stream",
     "text": [
      "C:\\Users\\artem\\AppData\\Local\\Temp\\ipykernel_17132\\2403654919.py:35: DeprecationWarning: Conversion of an array with ndim > 0 to a scalar is deprecated, and will error in future. Ensure you extract a single element from your array before performing this operation. (Deprecated NumPy 1.25.)\n",
      "  P = np.eye(n) - 2 / float(sum(p[l] * p[l] for l in range(n))) * p * p.T\n"
     ]
    }
   ],
   "source": [
    "A2= np.matrix(\"6.03 13 -17;\"\n",
    "              \"13 29.03 -38;\"\n",
    "              \"-17 -38 50.03\")\n",
    "b2 = np.matrix(\"2.0909;\"\n",
    "               \"4.1509;\"\n",
    "               \"-5.1191\")\n",
    "x2 = np.matrix(\"1.03;\"\n",
    "               \"1.03;\"\n",
    "               \"1.03\")\n",
    "\n",
    "Q2, R2 = qr(A2)"
   ]
  },
  {
   "cell_type": "code",
   "execution_count": 275,
   "metadata": {},
   "outputs": [
    {
     "name": "stdout",
     "output_type": "stream",
     "text": [
      "[[  6.03  13.   -17.  ]\n",
      " [ 13.    29.03 -38.  ]\n",
      " [-17.   -38.    50.03]]\n",
      "[[-0.27120348  0.96131169 -0.04825465]\n",
      " [-0.58468412 -0.12471144  0.80161808]\n",
      " [ 0.76458692  0.24561534  0.59588585]]\n",
      "[[-2.22342281e+01 -4.95533281e+01  6.50807391e+01]\n",
      " [-1.38777878e-16 -4.56704032e-01  6.84871421e-01]\n",
      " [ 1.88737914e-15  6.66133815e-16  1.71011233e-01]]\n",
      "[[  6.03  13.   -17.  ]\n",
      " [ 13.    29.03 -38.  ]\n",
      " [-17.   -38.    50.03]]\n"
     ]
    }
   ],
   "source": [
    "print(A2)\n",
    "print(Q2)\n",
    "print(R2)\n",
    "print(Q2 @ R2)\n"
   ]
  },
  {
   "cell_type": "code",
   "execution_count": 276,
   "metadata": {},
   "outputs": [
    {
     "data": {
      "text/plain": [
       "(matrix([[  6.03,  13.  , -17.  ],\n",
       "         [ 13.  ,  29.03, -38.  ],\n",
       "         [-17.  , -38.  ,  50.03]]),\n",
       " matrix([[-0.27120348,  0.96131169, -0.04825465],\n",
       "         [-0.58468412, -0.12471144,  0.80161808],\n",
       "         [ 0.76458692,  0.24561534,  0.59588585]]),\n",
       " matrix([[-22.23422812, -49.55332806,  65.08073913],\n",
       "         [  0.        ,  -0.45670403,   0.68487142],\n",
       "         [  0.        ,   0.        ,   0.17101123]]),\n",
       " matrix([[  6.03,  13.  , -17.  ],\n",
       "         [ 13.  ,  29.03, -38.  ],\n",
       "         [-17.  , -38.  ,  50.03]]))"
      ]
     },
     "execution_count": 276,
     "metadata": {},
     "output_type": "execute_result"
    }
   ],
   "source": [
    "res = np.linalg.qr(A2)\n",
    "A2, res.Q, res.R, res.Q @ res.R"
   ]
  },
  {
   "cell_type": "code",
   "execution_count": 277,
   "metadata": {},
   "outputs": [
    {
     "name": "stderr",
     "output_type": "stream",
     "text": [
      "C:\\Users\\artem\\AppData\\Local\\Temp\\ipykernel_17132\\2403654919.py:35: DeprecationWarning: Conversion of an array with ndim > 0 to a scalar is deprecated, and will error in future. Ensure you extract a single element from your array before performing this operation. (Deprecated NumPy 1.25.)\n",
      "  P = np.eye(n) - 2 / float(sum(p[l] * p[l] for l in range(n))) * p * p.T\n"
     ]
    },
    {
     "data": {
      "text/plain": [
       "(matrix([[1.03],\n",
       "         [1.03],\n",
       "         [1.03]]),\n",
       " matrix([[ 7.99360578e-15],\n",
       "         [-3.48610030e-14],\n",
       "         [-2.39808173e-14]]))"
      ]
     },
     "execution_count": 277,
     "metadata": {},
     "output_type": "execute_result"
    }
   ],
   "source": [
    "x2_r = calc_solve(A2, b2)\n",
    "x2_r, x2_r - x2"
   ]
  },
  {
   "cell_type": "markdown",
   "metadata": {},
   "source": [
    "## №3 (СЛАУ)"
   ]
  },
  {
   "cell_type": "code",
   "execution_count": 278,
   "metadata": {},
   "outputs": [
    {
     "name": "stderr",
     "output_type": "stream",
     "text": [
      "C:\\Users\\artem\\AppData\\Local\\Temp\\ipykernel_17132\\2403654919.py:35: DeprecationWarning: Conversion of an array with ndim > 0 to a scalar is deprecated, and will error in future. Ensure you extract a single element from your array before performing this operation. (Deprecated NumPy 1.25.)\n",
      "  P = np.eye(n) - 2 / float(sum(p[l] * p[l] for l in range(n))) * p * p.T\n"
     ]
    },
    {
     "data": {
      "text/plain": [
       "matrix([[1.],\n",
       "        [1.],\n",
       "        [1.]])"
      ]
     },
     "execution_count": 278,
     "metadata": {},
     "output_type": "execute_result"
    }
   ],
   "source": [
    "A3 = np.matrix(\"2 0 1;\"\n",
    "               \"0 1 -1;\"\n",
    "               \"1 1 1\")\n",
    "b3 = np.matrix(\"3;\"\n",
    "               \"0;\"\n",
    "               \"3\")\n",
    "\n",
    "calc_solve(A3, b3)"
   ]
  }
 ],
 "metadata": {
  "kernelspec": {
   "display_name": "Calc_math",
   "language": "python",
   "name": "python3"
  },
  "language_info": {
   "codemirror_mode": {
    "name": "ipython",
    "version": 3
   },
   "file_extension": ".py",
   "mimetype": "text/x-python",
   "name": "python",
   "nbconvert_exporter": "python",
   "pygments_lexer": "ipython3",
   "version": "3.10.2"
  }
 },
 "nbformat": 4,
 "nbformat_minor": 2
}
