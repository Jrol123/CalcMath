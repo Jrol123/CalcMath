{
 "cells": [
  {
   "cell_type": "markdown",
   "id": "9ac347be",
   "metadata": {},
   "source": [
    "# Импорты"
   ]
  },
  {
   "cell_type": "code",
   "execution_count": 8,
   "id": "a62b2716",
   "metadata": {},
   "outputs": [],
   "source": [
    "import numpy as np"
   ]
  },
  {
   "cell_type": "markdown",
   "id": "a002c84d",
   "metadata": {},
   "source": [
    "# Условия"
   ]
  },
  {
   "cell_type": "markdown",
   "id": "e672a1d3",
   "metadata": {},
   "source": [
    "Построить интерполяционный кубический сплайн класса $C^2$\n",
    "\n",
    "2-е гр. усл. Представление сплайна по наклонам"
   ]
  },
  {
   "cell_type": "markdown",
   "id": "ece479e7",
   "metadata": {},
   "source": [
    "$S''(a)=f''_0, S''(b)=f''_N$\n",
    "$S'(x_i) = m_i$"
   ]
  },
  {
   "cell_type": "code",
   "execution_count": 9,
   "id": "fc5e74e5",
   "metadata": {},
   "outputs": [],
   "source": [
    "h_r = np.arange(0.1, 0.0001)\n"
   ]
  },
  {
   "cell_type": "code",
   "execution_count": 10,
   "id": "c5cac83c",
   "metadata": {},
   "outputs": [],
   "source": [
    "def f_1(x, a):\n",
    "    return np.sin(a * x)\n",
    "\n",
    "\n",
    "def f_2(x, a):\n",
    "    return a / (1 + 9 * pow(x, 2))"
   ]
  },
  {
   "cell_type": "markdown",
   "id": "55618e83",
   "metadata": {},
   "source": [
    "# Код"
   ]
  },
  {
   "cell_type": "code",
   "execution_count": 11,
   "id": "ec8a120a",
   "metadata": {},
   "outputs": [],
   "source": [
    "for h in h_r:\n",
    "    a = [i for i in range(1, 10 + 1)]\n",
    "    x_1 = np.arange(0, np.pi, h)\n",
    "    x_1 = np.arange(-1, 1, h)"
   ]
  }
 ],
 "metadata": {
  "kernelspec": {
   "display_name": "Calc_venv",
   "language": "python",
   "name": "python3"
  },
  "language_info": {
   "codemirror_mode": {
    "name": "ipython",
    "version": 3
   },
   "file_extension": ".py",
   "mimetype": "text/x-python",
   "name": "python",
   "nbconvert_exporter": "python",
   "pygments_lexer": "ipython3",
   "version": "3.11.9"
  }
 },
 "nbformat": 4,
 "nbformat_minor": 5
}
