{
 "cells": [
  {
   "cell_type": "code",
   "metadata": {
    "ExecuteTime": {
     "end_time": "2024-05-30T06:12:50.113958Z",
     "start_time": "2024-05-30T06:12:50.095951Z"
    }
   },
   "source": [
    "import matplotlib.pyplot as plt\n",
    "import pandas as pd\n",
    "from math import cos, sin ,pi"
   ],
   "outputs": [],
   "execution_count": 7
  },
  {
   "cell_type": "code",
   "metadata": {
    "ExecuteTime": {
     "end_time": "2024-05-30T06:12:50.145958Z",
     "start_time": "2024-05-30T06:12:50.121961Z"
    }
   },
   "source": [
    "# В - 15\n",
    "def func(x: float, deriv_s: int = 0):\n",
    "    \"\"\"\n",
    "    Функция y = 2x− cos(x)\n",
    "\n",
    "    При вводе аргумента deriv_s можно выбрать степень производной\n",
    "\n",
    "    :param x: Точка\n",
    "    :param deriv_s: Степень производной\n",
    "\n",
    "    :return: Значение функции в точке x\n",
    "    :rtype: float\n",
    "\n",
    "    \"\"\"\n",
    "    if deriv_s == 0:\n",
    "        return 2 * x - cos(x)\n",
    "    elif deriv_s == 1:\n",
    "        return 2 + sin(x)\n",
    "    return cos(x + ((deriv_s - 2) * pi) / 2)\n",
    "\n",
    "\n",
    "a, b = 0.1, 0.6"
   ],
   "outputs": [],
   "execution_count": 8
  },
  {
   "cell_type": "code",
   "metadata": {
    "ExecuteTime": {
     "end_time": "2024-05-30T06:12:50.177448Z",
     "start_time": "2024-05-30T06:12:50.152865Z"
    }
   },
   "source": [
    "def get_moments(x_coords: list[float], y_coords: list[float]) -> list[float]:\n",
    "    \"\"\"\n",
    "    Вычисление моментов через обратный ход метода прогонки (с конца)\n",
    "    \"\"\"\n",
    "    count_diap = len(x_coords) - 1\n",
    "    moments = [func(b, 2)] # Моменты со 2-м краевым условием\n",
    "    result_list = [func(a, 2)] \\\n",
    "    + [6 * ((y_coords[i + 1] - y_coords[i]) / (x_coords[i + 1] - x_coords[i]) - (y_coords[i] - y_coords[i - 1]) / (x_coords[i] - x_coords[i - 1])) \\\n",
    "       / (x_coords[i + 1] - x_coords[i - 1]) for i in range(1, count_diap)] \\\n",
    "    + [func(b, 2)] # F_i\n",
    "    matrix = [[0, 1, 0]] \\\n",
    "    + [[(x_coords[i + 1] - x_coords[i]) / (x_coords[i + 1] - x_coords[i - 1]), 2,\n",
    "        (x_coords[i] - x_coords[i - 1]) / (x_coords[i + 1] - x_coords[i - 1])] \n",
    "        for i in range(1, count_diap)] \\\n",
    "    + [[0, 1, 0]] # Матрица\n",
    "\n",
    "    alpha, beta = [-matrix[0][2] / matrix[0][1]], [result_list[0] / matrix[0][1]] # Коэффициенты\n",
    "    for i in range(count_diap - 1):\n",
    "        alpha.append(-matrix[i][2] / (alpha[i] * matrix[i][0] + matrix[i][1]))\n",
    "        beta.append((result_list[i] - beta[i] * matrix[i][0]) / (alpha[i] * matrix[i][0] + matrix[i][1]))\n",
    "    \n",
    "    for i in range(count_diap - 1, 0, -1):\n",
    "        moments.append(alpha[i] * moments[count_diap - i - 1] + beta[i]) # Моменты по формуле прогонки\n",
    "\n",
    "    moments.append(func(a, 2)) # Второе краевое условие\n",
    "    moments.reverse()\n",
    "    return moments\n",
    "\n",
    "\n",
    "def get_moment_cubic_splines(moments: list[float], x_coords: list[float], y_coords: list[float]):\n",
    "    \"\"\"\n",
    "    Вычисление коэффициентов кубического сплайна через найденные моменты \n",
    "    \"\"\"\n",
    "    count_diap = len(x_coords) - 1\n",
    "    parameters = []\n",
    "    for i in range(count_diap):\n",
    "        parameters.append(\n",
    "            [\n",
    "                (moments[i + 1] - moments[i]) / (x_coords[i + 1] - x_coords[i]), \n",
    "                moments[i],\n",
    "                (y_coords[i + 1] - y_coords[i]) / (x_coords[i + 1] - x_coords[i]) \\\n",
    "                - (x_coords[i + 1] - x_coords[i]) * (2 * moments[i] + moments[i + 1]) / 6,\n",
    "                y_coords[i]\n",
    "            ]\n",
    "        )\n",
    "    \n",
    "    return parameters\n"
   ],
   "outputs": [],
   "execution_count": 9
  },
  {
   "cell_type": "code",
   "metadata": {
    "ExecuteTime": {
     "end_time": "2024-05-30T06:12:50.443120Z",
     "start_time": "2024-05-30T06:12:50.239116Z"
    }
   },
   "source": [
    "ns = [n for n in range(2,100 + 1)]\n",
    "maxf = max(abs(func(a + i*(b - a)/999)) for i in range(1000))\n",
    "delta_f = []\n",
    "relative_f = []\n",
    "# Для каждого n вычисляем абсолютную и относительную ошибку сплайна \n",
    "for n in ns:\n",
    "    maxs = 0\n",
    "    x = [a + i*(b - a)/n for i in range(n + 1)]\n",
    "    y = [func(x[i]) for i in range(n + 1)]\n",
    "\n",
    "    M = get_moments(x, y)\n",
    "    params = get_moment_cubic_splines(M, x, y)\n",
    "    for i in range(n):\n",
    "        subx = [x[i] + j*(x[i + 1] - x[i])/9 for j in range(10)]\n",
    "        suby = [(subx[j] - x[i])**3 * params[i][0]/6 \\\n",
    "                        + (subx[j] - x[i])**2 * params[i][1]/2 \\\n",
    "                        + (subx[j] - x[i]) * params[i][2] \\\n",
    "                        + params[i][3] \n",
    "                        for j in range(10)]\n",
    "        maxsn = max(abs(func(subx[j]) - suby[j]) for j in range(10)) \n",
    "        maxs = maxs if maxs > maxsn else maxsn\n",
    "\n",
    "    delta_f.append(maxs)\n",
    "    relative_f.append(maxs / maxf * 100)\n",
    "\n",
    "\n",
    "pd.DataFrame({\"n\": ns, \"delta f_n\": delta_f, \"relative f_n, %\": relative_f})"
   ],
   "outputs": [
    {
     "data": {
      "text/plain": [
       "      n     delta f_n  relative f_n, %\n",
       "0     2  1.780491e-04         0.022396\n",
       "1     3  1.848194e-04         0.023248\n",
       "2     4  9.609730e-05         0.012088\n",
       "3     5  5.482595e-05         0.006896\n",
       "4     6  3.397079e-05         0.004273\n",
       "..  ...           ...              ...\n",
       "94   96  1.072281e-08         0.000001\n",
       "95   97  1.039613e-08         0.000001\n",
       "96   98  1.008258e-08         0.000001\n",
       "97   99  9.781516e-09         0.000001\n",
       "98  100  9.492320e-09         0.000001\n",
       "\n",
       "[99 rows x 3 columns]"
      ],
      "text/html": [
       "<div>\n",
       "<style scoped>\n",
       "    .dataframe tbody tr th:only-of-type {\n",
       "        vertical-align: middle;\n",
       "    }\n",
       "\n",
       "    .dataframe tbody tr th {\n",
       "        vertical-align: top;\n",
       "    }\n",
       "\n",
       "    .dataframe thead th {\n",
       "        text-align: right;\n",
       "    }\n",
       "</style>\n",
       "<table border=\"1\" class=\"dataframe\">\n",
       "  <thead>\n",
       "    <tr style=\"text-align: right;\">\n",
       "      <th></th>\n",
       "      <th>n</th>\n",
       "      <th>delta f_n</th>\n",
       "      <th>relative f_n, %</th>\n",
       "    </tr>\n",
       "  </thead>\n",
       "  <tbody>\n",
       "    <tr>\n",
       "      <th>0</th>\n",
       "      <td>2</td>\n",
       "      <td>1.780491e-04</td>\n",
       "      <td>0.022396</td>\n",
       "    </tr>\n",
       "    <tr>\n",
       "      <th>1</th>\n",
       "      <td>3</td>\n",
       "      <td>1.848194e-04</td>\n",
       "      <td>0.023248</td>\n",
       "    </tr>\n",
       "    <tr>\n",
       "      <th>2</th>\n",
       "      <td>4</td>\n",
       "      <td>9.609730e-05</td>\n",
       "      <td>0.012088</td>\n",
       "    </tr>\n",
       "    <tr>\n",
       "      <th>3</th>\n",
       "      <td>5</td>\n",
       "      <td>5.482595e-05</td>\n",
       "      <td>0.006896</td>\n",
       "    </tr>\n",
       "    <tr>\n",
       "      <th>4</th>\n",
       "      <td>6</td>\n",
       "      <td>3.397079e-05</td>\n",
       "      <td>0.004273</td>\n",
       "    </tr>\n",
       "    <tr>\n",
       "      <th>...</th>\n",
       "      <td>...</td>\n",
       "      <td>...</td>\n",
       "      <td>...</td>\n",
       "    </tr>\n",
       "    <tr>\n",
       "      <th>94</th>\n",
       "      <td>96</td>\n",
       "      <td>1.072281e-08</td>\n",
       "      <td>0.000001</td>\n",
       "    </tr>\n",
       "    <tr>\n",
       "      <th>95</th>\n",
       "      <td>97</td>\n",
       "      <td>1.039613e-08</td>\n",
       "      <td>0.000001</td>\n",
       "    </tr>\n",
       "    <tr>\n",
       "      <th>96</th>\n",
       "      <td>98</td>\n",
       "      <td>1.008258e-08</td>\n",
       "      <td>0.000001</td>\n",
       "    </tr>\n",
       "    <tr>\n",
       "      <th>97</th>\n",
       "      <td>99</td>\n",
       "      <td>9.781516e-09</td>\n",
       "      <td>0.000001</td>\n",
       "    </tr>\n",
       "    <tr>\n",
       "      <th>98</th>\n",
       "      <td>100</td>\n",
       "      <td>9.492320e-09</td>\n",
       "      <td>0.000001</td>\n",
       "    </tr>\n",
       "  </tbody>\n",
       "</table>\n",
       "<p>99 rows × 3 columns</p>\n",
       "</div>"
      ]
     },
     "execution_count": 10,
     "metadata": {},
     "output_type": "execute_result"
    }
   ],
   "execution_count": 10
  },
  {
   "cell_type": "code",
   "metadata": {
    "ExecuteTime": {
     "end_time": "2024-05-30T06:12:50.880304Z",
     "start_time": "2024-05-30T06:12:50.450054Z"
    }
   },
   "source": [
    "plt.plot(ns, delta_f)\n",
    "plt.xlabel('n')\n",
    "plt.ylabel(\"$\\Delta f_n$\")\n",
    "plt.title(\"График зависимости абсолютной ошибки от n\")"
   ],
   "outputs": [
    {
     "data": {
      "text/plain": [
       "Text(0.5, 1.0, 'График зависимости абсолютной ошибки от n')"
      ]
     },
     "execution_count": 11,
     "metadata": {},
     "output_type": "execute_result"
    },
    {
     "data": {
      "text/plain": [
       "<Figure size 640x480 with 1 Axes>"
      ],
      "image/png": "[encoded data removed]"
     },
     "metadata": {},
     "output_type": "display_data"
    }
   ],
   "execution_count": 11
  },
  {
   "cell_type": "code",
   "metadata": {
    "ExecuteTime": {
     "end_time": "2024-05-30T06:12:50.911139Z",
     "start_time": "2024-05-30T06:12:50.883506Z"
    }
   },
   "source": [
    "n = 5\n",
    "fl = [6, 8, 3, 6, 2, 6 - 14/9]\n",
    "matrix = [[0, 9, 9], [7, 11, 4], [7, 1, -6], [-10, 20, -10], \n",
    "          [-9, 5, 4], [0, 9 - 35/9, 3 - 28/9]]\n",
    "\n",
    "alpha, beta = [-matrix[0][2] / matrix[0][1]], [fl[0] / matrix[0][1]]\n",
    "for i in range(n - 1):\n",
    "    alpha.append(-matrix[i][2] / (alpha[i] * matrix[i][0] + matrix[i][1]))\n",
    "    beta.append((fl[i] - beta[i] * matrix[i][0]) / (alpha[i] * matrix[i][0] + matrix[i][1]))\n",
    "\n",
    "print(alpha)\n",
    "print(beta)\n",
    "\n",
    "M = [(fl[n] - beta[n - 1]*matrix[n][0]) / (matrix[n][1] + alpha[n - 1]*matrix[n][0])]\n",
    "for i in range(n - 1, -1, -1):\n",
    "    M.append(alpha[i] * M[n - i - 1] + beta[i])\n",
    "\n",
    "\n",
    "M.reverse()\n",
    "print(sum(M))\n",
    "M"
   ],
   "outputs": [
    {
     "name": "stdout",
     "output_type": "stream",
     "text": [
      "[-1.0, -1.0, -1.0, -1.0, 0.3333333333333333]\n",
      "[0.6666666666666666, 0.6666666666666666, 0.8333333333333335, 0.4722222222222223, 0.35740740740740745]\n",
      "3.01682769726248\n"
     ]
    },
    {
     "data": {
      "text/plain": [
       "[1.0083735909822868,\n",
       " -0.3417069243156202,\n",
       " 1.0083735909822868,\n",
       " -0.17504025764895326,\n",
       " 0.6472624798711756,\n",
       " 0.8695652173913044]"
      ]
     },
     "execution_count": 12,
     "metadata": {},
     "output_type": "execute_result"
    }
   ],
   "execution_count": 12
  },
  {
   "metadata": {
    "ExecuteTime": {
     "end_time": "2024-05-30T06:12:50.927101Z",
     "start_time": "2024-05-30T06:12:50.915860Z"
    }
   },
   "cell_type": "code",
   "source": "",
   "outputs": [],
   "execution_count": 12
  }
 ],
 "metadata": {
  "kernelspec": {
   "display_name": "Python 3",
   "language": "python",
   "name": "python3"
  },
  "language_info": {
   "codemirror_mode": {
    "name": "ipython",
    "version": 3
   },
   "file_extension": ".py",
   "mimetype": "text/x-python",
   "name": "python",
   "nbconvert_exporter": "python",
   "pygments_lexer": "ipython3",
   "version": "3.10.7"
  }
 },
 "nbformat": 4,
 "nbformat_minor": 2
}
