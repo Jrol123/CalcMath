{
 "cells": [
  {
   "cell_type": "code",
   "execution_count": 68,
   "metadata": {},
   "outputs": [],
   "source": [
    "import numpy as np\n",
    "import pandas as pd\n",
    "\n",
    "SIZE = 1000\n",
    "ITERS = 10000"
   ]
  },
  {
   "cell_type": "code",
   "execution_count": 69,
   "metadata": {},
   "outputs": [],
   "source": [
    "def M(mat):\n",
    "    return mat.shape[0] * np.max(np.abs(mat))"
   ]
  },
  {
   "cell_type": "code",
   "execution_count": 70,
   "metadata": {},
   "outputs": [],
   "source": [
    "# TODO: Добавить график\n",
    "\n",
    "def test_M(m_A, m_B):\n",
    "    M_A = M(m_A)\n",
    "    M_B = M(m_B)\n",
    "    M_AB = M(m_A @ m_B)\n",
    "    \n",
    "    return M_A, M_B, M_AB, M_AB <= M_A * M_B\n",
    "    \n",
    "    print(f\"M(A): {M_A}, M(B): {M_B}, M(AB): {M_AB}\")\n",
    "    print(f\"M(AB) <= M(A) * M(B): {M_AB <= M_A * M_B}\")"
   ]
  },
  {
   "cell_type": "code",
   "execution_count": 71,
   "metadata": {},
   "outputs": [
    {
     "data": {
      "text/html": [
       "<div>\n",
       "<style scoped>\n",
       "    .dataframe tbody tr th:only-of-type {\n",
       "        vertical-align: middle;\n",
       "    }\n",
       "\n",
       "    .dataframe tbody tr th {\n",
       "        vertical-align: top;\n",
       "    }\n",
       "\n",
       "    .dataframe thead th {\n",
       "        text-align: right;\n",
       "    }\n",
       "</style>\n",
       "<table border=\"1\" class=\"dataframe\">\n",
       "  <thead>\n",
       "    <tr style=\"text-align: right;\">\n",
       "      <th></th>\n",
       "      <th>M(A)</th>\n",
       "      <th>M(B)</th>\n",
       "      <th>M(AB)</th>\n",
       "      <th>M(AB) &lt;= M(A) * M(B)</th>\n",
       "    </tr>\n",
       "  </thead>\n",
       "  <tbody>\n",
       "    <tr>\n",
       "      <th>0</th>\n",
       "      <td>999.999982</td>\n",
       "      <td>999.998617</td>\n",
       "      <td>282590.38132</td>\n",
       "      <td>True</td>\n",
       "    </tr>\n",
       "    <tr>\n",
       "      <th>1</th>\n",
       "      <td>999.999259</td>\n",
       "      <td>999.998659</td>\n",
       "      <td>283030.153455</td>\n",
       "      <td>True</td>\n",
       "    </tr>\n",
       "    <tr>\n",
       "      <th>2</th>\n",
       "      <td>999.999332</td>\n",
       "      <td>999.999826</td>\n",
       "      <td>281248.837257</td>\n",
       "      <td>True</td>\n",
       "    </tr>\n",
       "    <tr>\n",
       "      <th>3</th>\n",
       "      <td>999.998435</td>\n",
       "      <td>999.997913</td>\n",
       "      <td>282379.803031</td>\n",
       "      <td>True</td>\n",
       "    </tr>\n",
       "    <tr>\n",
       "      <th>4</th>\n",
       "      <td>999.997211</td>\n",
       "      <td>999.998441</td>\n",
       "      <td>282935.697274</td>\n",
       "      <td>True</td>\n",
       "    </tr>\n",
       "    <tr>\n",
       "      <th>...</th>\n",
       "      <td>...</td>\n",
       "      <td>...</td>\n",
       "      <td>...</td>\n",
       "      <td>...</td>\n",
       "    </tr>\n",
       "    <tr>\n",
       "      <th>9995</th>\n",
       "      <td>999.999625</td>\n",
       "      <td>999.999362</td>\n",
       "      <td>284791.344209</td>\n",
       "      <td>True</td>\n",
       "    </tr>\n",
       "    <tr>\n",
       "      <th>9996</th>\n",
       "      <td>999.999611</td>\n",
       "      <td>999.997371</td>\n",
       "      <td>280167.199778</td>\n",
       "      <td>True</td>\n",
       "    </tr>\n",
       "    <tr>\n",
       "      <th>9997</th>\n",
       "      <td>999.996547</td>\n",
       "      <td>999.998663</td>\n",
       "      <td>284422.232425</td>\n",
       "      <td>True</td>\n",
       "    </tr>\n",
       "    <tr>\n",
       "      <th>9998</th>\n",
       "      <td>999.999758</td>\n",
       "      <td>999.999718</td>\n",
       "      <td>282545.348629</td>\n",
       "      <td>True</td>\n",
       "    </tr>\n",
       "    <tr>\n",
       "      <th>9999</th>\n",
       "      <td>999.998728</td>\n",
       "      <td>999.999734</td>\n",
       "      <td>284048.18666</td>\n",
       "      <td>True</td>\n",
       "    </tr>\n",
       "  </tbody>\n",
       "</table>\n",
       "<p>10000 rows × 4 columns</p>\n",
       "</div>"
      ],
      "text/plain": [
       "            M(A)        M(B)          M(AB) M(AB) <= M(A) * M(B)\n",
       "0     999.999982  999.998617   282590.38132                 True\n",
       "1     999.999259  999.998659  283030.153455                 True\n",
       "2     999.999332  999.999826  281248.837257                 True\n",
       "3     999.998435  999.997913  282379.803031                 True\n",
       "4     999.997211  999.998441  282935.697274                 True\n",
       "...          ...         ...            ...                  ...\n",
       "9995  999.999625  999.999362  284791.344209                 True\n",
       "9996  999.999611  999.997371  280167.199778                 True\n",
       "9997  999.996547  999.998663  284422.232425                 True\n",
       "9998  999.999758  999.999718  282545.348629                 True\n",
       "9999  999.998728  999.999734   284048.18666                 True\n",
       "\n",
       "[10000 rows x 4 columns]"
      ]
     },
     "execution_count": 71,
     "metadata": {},
     "output_type": "execute_result"
    }
   ],
   "source": [
    "df = pd.DataFrame(columns=[\"M(A)\", \"M(B)\", \"M(AB)\", \"M(AB) <= M(A) * M(B)\"], index=range(ITERS))\n",
    "\n",
    "for index in range(ITERS):\n",
    "    A = np.random.rand(SIZE, SIZE)\n",
    "    B = np.random.rand(SIZE, SIZE)\n",
    "    \n",
    "    df.loc[index] = test_M(A, B)\n",
    "\n",
    "df"
   ]
  },
  {
   "cell_type": "code",
   "execution_count": 73,
   "metadata": {},
   "outputs": [
    {
     "data": {
      "text/plain": [
       "M(A)                    0\n",
       "M(B)                    0\n",
       "M(AB)                   0\n",
       "M(AB) <= M(A) * M(B)    0\n",
       "dtype: int64"
      ]
     },
     "execution_count": 73,
     "metadata": {},
     "output_type": "execute_result"
    }
   ],
   "source": [
    "df[df[\"M(AB) <= M(A) * M(B)\"] == False].count()\n",
    "# Везде неравенство выполняется"
   ]
  },
  {
   "cell_type": "code",
   "execution_count": null,
   "metadata": {},
   "outputs": [],
   "source": []
  }
 ],
 "metadata": {
  "kernelspec": {
   "display_name": "Calc_math",
   "language": "python",
   "name": "python3"
  },
  "language_info": {
   "codemirror_mode": {
    "name": "ipython",
    "version": 3
   },
   "file_extension": ".py",
   "mimetype": "text/x-python",
   "name": "python",
   "nbconvert_exporter": "python",
   "pygments_lexer": "ipython3",
   "version": "3.10.2"
  }
 },
 "nbformat": 4,
 "nbformat_minor": 2
}
