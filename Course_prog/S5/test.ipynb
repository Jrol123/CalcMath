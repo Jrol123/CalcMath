{
 "cells": [
  {
   "cell_type": "markdown",
   "metadata": {},
   "source": [
    "# Степенной метод"
   ]
  },
  {
   "cell_type": "code",
   "execution_count": 1,
   "metadata": {},
   "outputs": [],
   "source": [
    "import numpy as np"
   ]
  },
  {
   "cell_type": "code",
   "execution_count": 2,
   "metadata": {},
   "outputs": [],
   "source": [
    "def power_iteration(A: np.matrix, num_iterations: int) -> np.matrix:\n",
    "    print(\"POWER:\\n\")\n",
    "    # Ideally choose a random vector\n",
    "    # To decrease the chance that our vector\n",
    "    # Is orthogonal to the eigenvector\n",
    "    b_k = np.random.rand(A.shape[1], 1)\n",
    "    print(b_k)\n",
    "    # b_k = np.matrix(\"1;\"\n",
    "    #                 \"1\")\n",
    "\n",
    "    # print(A, \"\\n\", b_k)\n",
    "\n",
    "    for _ in range(num_iterations):\n",
    "        # calculate the matrix-by-vector product Ab\n",
    "        b_k1 = np.dot(A, b_k)\n",
    "\n",
    "        # calculate the norm\n",
    "        b_k1_norm = np.linalg.norm(b_k1)\n",
    "\n",
    "        # re normalize the vector\n",
    "        b_k = b_k1 / b_k1_norm\n",
    "    \n",
    "    print(\"\\n\", b_k)\n",
    "\n",
    "    return b_k"
   ]
  },
  {
   "cell_type": "code",
   "execution_count": 3,
   "metadata": {},
   "outputs": [],
   "source": [
    "def calc(A: np.matrix, b: np.matrix) -> np.matrix:\n",
    "    return float((b.T @ A @ b) \n",
    "                 / \n",
    "                 (b.T @ b))"
   ]
  },
  {
   "cell_type": "code",
   "execution_count": null,
   "metadata": {},
   "outputs": [],
   "source": [
    "A: np.matrix = np.matrix(\"2 1 0;\"\n",
    "              \"0 2 1;\"\n",
    "              \"0 0 2\")\n",
    "r_k1 = power_iteration(A, 100000)"
   ]
  },
  {
   "cell_type": "code",
   "execution_count": null,
   "metadata": {},
   "outputs": [],
   "source": [
    "mu_k1: float = float((r_k1.T @ A @ r_k1) / (r_k1.T @ r_k1))\n",
    "mu_k1"
   ]
  },
  {
   "cell_type": "code",
   "execution_count": null,
   "metadata": {},
   "outputs": [],
   "source": [
    "A: np.matrix = np.matrix(\"1 2;\"\n",
    "                         \"1 0\")\n",
    "r_k1 = power_iteration(A, 100000)\n",
    "mu_k1: float = calc(A, r_k1)\n",
    "mu_k1"
   ]
  },
  {
   "cell_type": "markdown",
   "metadata": {},
   "source": [
    "# Обратный степенной"
   ]
  },
  {
   "cell_type": "code",
   "execution_count": 7,
   "metadata": {},
   "outputs": [],
   "source": [
    "def inverse_power_iteration(A: np.matrix, num_iterations: int, b_k: np.matrix = None) -> np.matrix:\n",
    "    print(\"INV:\\n\")\n",
    "    if b_k is None:\n",
    "        b_k = np.random.rand(A.shape[1], 1) # Попробовать близкий к настоящему собственный вектор\n",
    "    print(b_k, \"\\n\")\n",
    "\n",
    "\n",
    "    # print(A, \"\\n\", b_k)\n",
    "    E = np.eye(A.shape[0], dtype=int)\n",
    "    mu = 0 # попробовать float\n",
    "    for iter_index in range(num_iterations):\n",
    "\n",
    "        # print(A - mu * E)\n",
    "        inv = np.invert(A - mu * E)\n",
    "\n",
    "        b_top = inv @ b_k\n",
    "        # print(b_top)\n",
    "        c_k = np.linalg.norm(b_top)\n",
    "        # print(b_top, c_k, b_top / c_k)\n",
    "        # print(b_top / c_k)\n",
    "\n",
    "        b_k = b_top / c_k\n",
    "        # c_k не становится меньше 1\n",
    "        if c_k < 1:\n",
    "            break\n",
    "        \n",
    "        # if iter_index % 100 == 0:\n",
    "        #     print(b_k)\n",
    "\n",
    "    print(\"\\n\", b_k)\n",
    "    return b_k"
   ]
  },
  {
   "cell_type": "code",
   "execution_count": null,
   "metadata": {},
   "outputs": [],
   "source": [
    "A: np.matrix = np.matrix(\"1 3 -2 0;\"\n",
    "                         \"1 1 4 7;\"\n",
    "                         \"4 7 11 23;\"\n",
    "                         \"52 66 2 0\")  # -0.65\n",
    "A, calc(A, power_iteration(A, 1000)), calc(A, inverse_power_iteration(A, 10))"
   ]
  },
  {
   "cell_type": "code",
   "execution_count": null,
   "metadata": {},
   "outputs": [],
   "source": [
    "A: np.matrix = np.matrix(\"1 -2 -1;\"\n",
    "                         \"-1 1 1;\"\n",
    "                         \"1 0 -1\")  # 2 - 0\n",
    "\n",
    "\n",
    "A,\n",
    "calc(A, power_iteration(A, 1000)),\n",
    "calc(A, inverse_power_iteration(A, 1000, np.matrix(\"1;\"\n",
    "                                                    \"0;\"\n",
    "                                                    \"1\")))  # При увеличении итераций всё меняется # 10000 - самое оптимальное"
   ]
  },
  {
   "cell_type": "markdown",
   "metadata": {},
   "source": [
    "## Модификация Рэлэя"
   ]
  },
  {
   "cell_type": "code",
   "execution_count": 10,
   "metadata": {},
   "outputs": [],
   "source": [
    "import random\n",
    "\n",
    "\n",
    "def rayleigh(A, epsilon, mu = None, x = None):\n",
    "  if x is None:\n",
    "      x = np.random.rand(A.shape[1], 1) # Попробовать близкий к настоящему собственный вектор\n",
    "  if mu is None:\n",
    "    mu = random.randint(1, 19) / 10\n",
    "  print(\"R:\\n\", mu, \" \", x, \"\\n\")\n",
    "  \n",
    "  x = x / np.linalg.norm(x)\n",
    "  y = np.linalg.solve(A - mu * np.eye(A.shape[0]), x)\n",
    "  # print(y)\n",
    "  # print(x)\n",
    "  lambda_ = float(np.dot(y.T, x))\n",
    "  # print(lambda_, lambda_ * x)\n",
    "  mu = mu + 1 / lambda_\n",
    "  err = np.linalg.norm(y - lambda_ * x) / np.linalg.norm(y)\n",
    "\n",
    "  while err > epsilon:\n",
    "    x = y / np.linalg.norm(y)\n",
    "    y = np.linalg.solve(A - mu * np.eye(A.shape[0]), x)\n",
    "    lambda_ = float(np.dot(y.T, x))\n",
    "    mu = mu + 1 / lambda_\n",
    "    err = np.linalg.norm(y - lambda_ * x) / np.linalg.norm(y)\n",
    "\n",
    "  return float(mu), x\n"
   ]
  },
  {
   "cell_type": "code",
   "execution_count": null,
   "metadata": {},
   "outputs": [],
   "source": [
    "A: np.matrix = np.matrix(\"1 -2 -1;\"\n",
    "                         \"-1 1 1;\"\n",
    "                         \"1 0 -1\")  # 2 - 0\n",
    "\n",
    "pmp = calc(A, power_iteration(A, 1000))\n",
    "\n",
    "mu_r, egg = rayleigh(A, 0.001, 0.5)\n",
    "\n",
    "A,\n",
    "calc(A, power_iteration(A, 1000)),\n",
    "# calc(A, inverse_power_iteration(A, 10000, np.matrix(\"0.5;\"\n",
    "#                                                     \"0;\"\n",
    "#                                                     \"1\")))  # При увеличении итераций всё меняется # 10000 - самое оптимальное\n",
    "\n",
    "mu_r, egg"
   ]
  },
  {
   "cell_type": "markdown",
   "metadata": {},
   "source": [
    " [[0.00783384]\n",
    " [0.78547974]\n",
    " [0.22700223]]"
   ]
  },
  {
   "cell_type": "markdown",
   "metadata": {},
   "source": [
    "[[0.0689996 ]\n",
    " [0.96630791]\n",
    " [0.79137762]] "
   ]
  },
  {
   "cell_type": "markdown",
   "metadata": {},
   "source": [
    "[[1][0][1]]"
   ]
  },
  {
   "cell_type": "markdown",
   "metadata": {},
   "source": [
    "[[3][2][-1]]"
   ]
  },
  {
   "cell_type": "code",
   "execution_count": null,
   "metadata": {},
   "outputs": [],
   "source": [
    "import pandas as pd\n",
    "\n",
    "df = pd.DataFrame(columns = [\"start_x\", \"mu\", \"|mu|\", \"egg\"])\n",
    "# df.loc[len(df)] = [0, 1123]\n",
    "\n",
    "df"
   ]
  },
  {
   "cell_type": "code",
   "execution_count": null,
   "metadata": {},
   "outputs": [],
   "source": [
    "A: np.matrix = np.matrix(\"1 -2 -1;\"\n",
    "                         \"-1 1 1;\"\n",
    "                         \"1 0 -1\")  # 2 - 0\n",
    "\n",
    "for _ in range(10000):\n",
    "    start_x = np.random.rand(A.shape[1], 1)\n",
    "    mu, egg = rayleigh(A, 0.0001, x=start_x)\n",
    "    df.loc[len(df)] = [start_x, mu, abs(mu), egg]\n",
    "df"
   ]
  },
  {
   "cell_type": "code",
   "execution_count": null,
   "metadata": {},
   "outputs": [],
   "source": []
  },
  {
   "cell_type": "code",
   "execution_count": null,
   "metadata": {},
   "outputs": [],
   "source": []
  }
 ],
 "metadata": {
  "kernelspec": {
   "display_name": "Analyze",
   "language": "python",
   "name": "python3"
  },
  "language_info": {
   "codemirror_mode": {
    "name": "ipython",
    "version": 3
   },
   "file_extension": ".py",
   "mimetype": "text/x-python",
   "name": "python",
   "nbconvert_exporter": "python",
   "pygments_lexer": "ipython3",
   "version": "3.10.5"
  }
 },
 "nbformat": 4,
 "nbformat_minor": 2
}
