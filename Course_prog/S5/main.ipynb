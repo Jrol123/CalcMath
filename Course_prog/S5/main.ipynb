{
 "cells": [
  {
   "cell_type": "markdown",
   "metadata": {},
   "source": [
    "# Степенной метод"
   ]
  },
  {
   "cell_type": "code",
   "execution_count": 365,
   "metadata": {},
   "outputs": [],
   "source": [
    "import numpy as np"
   ]
  },
  {
   "cell_type": "code",
   "execution_count": 366,
   "metadata": {},
   "outputs": [],
   "source": [
    "def power_iteration(A: np.matrix, num_iterations: int) -> np.matrix:\n",
    "    # Ideally choose a random vector\n",
    "    # To decrease the chance that our vector\n",
    "    # Is orthogonal to the eigenvector\n",
    "    b_k = np.random.rand(A.shape[1], 1)\n",
    "    # b_k = np.matrix(\"1;\"\n",
    "    #                 \"1\")\n",
    "\n",
    "    # print(A, \"\\n\", b_k)\n",
    "\n",
    "    for _ in range(num_iterations):\n",
    "        # calculate the matrix-by-vector product Ab\n",
    "        b_k1 = np.dot(A, b_k)\n",
    "\n",
    "        # calculate the norm\n",
    "        b_k1_norm = np.linalg.norm(b_k1)\n",
    "\n",
    "        # re normalize the vector\n",
    "        b_k = b_k1 / b_k1_norm\n",
    "\n",
    "    return b_k"
   ]
  },
  {
   "cell_type": "code",
   "execution_count": 367,
   "metadata": {},
   "outputs": [],
   "source": [
    "def calc(A: np.matrix, b: np.matrix) -> np.matrix:\n",
    "    return float((b.T @ A @ b) \n",
    "                 / \n",
    "                 (b.T @ b))"
   ]
  },
  {
   "cell_type": "code",
   "execution_count": 368,
   "metadata": {},
   "outputs": [],
   "source": [
    "A: np.matrix = np.matrix(\"2 1 0;\"\n",
    "              \"0 2 1;\"\n",
    "              \"0 0 2\")\n",
    "r_k1 = power_iteration(A, 100000)"
   ]
  },
  {
   "cell_type": "code",
   "execution_count": 369,
   "metadata": {},
   "outputs": [
    {
     "name": "stderr",
     "output_type": "stream",
     "text": [
      "C:\\Users\\artem\\AppData\\Local\\Temp\\ipykernel_21132\\1627451438.py:1: DeprecationWarning: Conversion of an array with ndim > 0 to a scalar is deprecated, and will error in future. Ensure you extract a single element from your array before performing this operation. (Deprecated NumPy 1.25.)\n",
      "  mu_k1: float = float((r_k1.T @ A @ r_k1) / (r_k1.T @ r_k1))\n"
     ]
    },
    {
     "data": {
      "text/plain": [
       "2.000039999910826"
      ]
     },
     "execution_count": 369,
     "metadata": {},
     "output_type": "execute_result"
    }
   ],
   "source": [
    "mu_k1: float = float((r_k1.T @ A @ r_k1) / (r_k1.T @ r_k1))\n",
    "mu_k1"
   ]
  },
  {
   "cell_type": "code",
   "execution_count": 370,
   "metadata": {},
   "outputs": [
    {
     "name": "stderr",
     "output_type": "stream",
     "text": [
      "C:\\Users\\artem\\AppData\\Local\\Temp\\ipykernel_21132\\2676492484.py:2: DeprecationWarning: Conversion of an array with ndim > 0 to a scalar is deprecated, and will error in future. Ensure you extract a single element from your array before performing this operation. (Deprecated NumPy 1.25.)\n",
      "  return float((b.T @ A @ b)\n"
     ]
    },
    {
     "data": {
      "text/plain": [
       "2.0"
      ]
     },
     "execution_count": 370,
     "metadata": {},
     "output_type": "execute_result"
    }
   ],
   "source": [
    "A: np.matrix = np.matrix(\"1 2;\"\n",
    "                         \"1 0\")\n",
    "r_k1 = power_iteration(A, 100000)\n",
    "mu_k1: float = calc(A, r_k1)\n",
    "mu_k1"
   ]
  },
  {
   "cell_type": "markdown",
   "metadata": {},
   "source": [
    "# Обратный степенной"
   ]
  },
  {
   "cell_type": "code",
   "execution_count": 371,
   "metadata": {},
   "outputs": [],
   "source": [
    "def inverse_power_iteration(A: np.matrix, num_iterations: int) -> np.matrix:\n",
    "    b_k = np.random.rand(A.shape[1], 1)\n",
    "    # b_k = np.matrix()\n",
    "    print(b_k, \"\\n\")\n",
    "\n",
    "    # print(A, \"\\n\", b_k)\n",
    "    E = np.eye(A.shape[0], dtype=int)\n",
    "    mu = 0\n",
    "    for _ in range(num_iterations):\n",
    "\n",
    "        # print(A - mu * E)\n",
    "        inv = np.invert(A - mu * E)\n",
    "\n",
    "        b_top = inv @ b_k\n",
    "        # print(b_top)\n",
    "        c_k = np.linalg.norm(b_top)\n",
    "        # print(b_top, c_k, b_top / c_k)\n",
    "        # print(b_top / c_k)\n",
    "\n",
    "        b_k = b_top / c_k\n",
    "\n",
    "    print(\"\\n\", b_k)\n",
    "    return b_k"
   ]
  },
  {
   "cell_type": "code",
   "execution_count": 372,
   "metadata": {},
   "outputs": [
    {
     "name": "stdout",
     "output_type": "stream",
     "text": [
      "[[0.69546866]\n",
      " [0.64058003]\n",
      " [0.99080701]\n",
      " [0.7398758 ]] \n",
      "\n",
      "\n",
      " [[0.02808188]\n",
      " [0.26239086]\n",
      " [0.73851521]\n",
      " [0.62044962]]\n"
     ]
    },
    {
     "name": "stderr",
     "output_type": "stream",
     "text": [
      "C:\\Users\\artem\\AppData\\Local\\Temp\\ipykernel_21132\\2676492484.py:2: DeprecationWarning: Conversion of an array with ndim > 0 to a scalar is deprecated, and will error in future. Ensure you extract a single element from your array before performing this operation. (Deprecated NumPy 1.25.)\n",
      "  return float((b.T @ A @ b)\n"
     ]
    },
    {
     "data": {
      "text/plain": [
       "(matrix([[ 1,  3, -2,  0],\n",
       "         [ 1,  1,  4,  7],\n",
       "         [ 4,  7, 11, 23],\n",
       "         [52, 66,  2,  0]]),\n",
       " 29.37066149896965,\n",
       " 32.51734303252207)"
      ]
     },
     "execution_count": 372,
     "metadata": {},
     "output_type": "execute_result"
    }
   ],
   "source": [
    "A: np.matrix = np.matrix(\"1 3 -2 0;\"\n",
    "                         \"1 1 4 7;\"\n",
    "                         \"4 7 11 23;\"\n",
    "                         \"52 66 2 0\")  # -0.65\n",
    "A, calc(A, power_iteration(A, 1000)), calc(A, inverse_power_iteration(A, 10))"
   ]
  },
  {
   "cell_type": "code",
   "execution_count": 382,
   "metadata": {},
   "outputs": [
    {
     "name": "stderr",
     "output_type": "stream",
     "text": [
      "C:\\Users\\artem\\AppData\\Local\\Temp\\ipykernel_21132\\2676492484.py:2: DeprecationWarning: Conversion of an array with ndim > 0 to a scalar is deprecated, and will error in future. Ensure you extract a single element from your array before performing this operation. (Deprecated NumPy 1.25.)\n",
      "  return float((b.T @ A @ b)\n"
     ]
    },
    {
     "name": "stdout",
     "output_type": "stream",
     "text": [
      "[[0.60750885]\n",
      " [0.93989404]\n",
      " [0.91524412]] \n",
      "\n",
      "\n",
      " [[-0.62952747]\n",
      " [ 0.77694098]\n",
      " [ 0.00760798]]\n"
     ]
    },
    {
     "data": {
      "text/plain": [
       "(matrix([[ 1, -2, -1],\n",
       "         [-1,  1,  1],\n",
       "         [ 1,  0, -1]]),\n",
       " 2.0000000000000004,\n",
       " 2.4731122500437137)"
      ]
     },
     "execution_count": 382,
     "metadata": {},
     "output_type": "execute_result"
    }
   ],
   "source": [
    "A: np.matrix = np.matrix(\"1 -2 -1;\"\n",
    "                         \"-1 1 1;\"\n",
    "                         \"1 0 -1\")  # 2 - 0\n",
    "A, calc(A, power_iteration(A, 100000000)), calc(A, inverse_power_iteration(A, 100000000))"
   ]
  },
  {
   "cell_type": "code",
   "execution_count": null,
   "metadata": {},
   "outputs": [],
   "source": []
  }
 ],
 "metadata": {
  "kernelspec": {
   "display_name": "Calc_math",
   "language": "python",
   "name": "python3"
  },
  "language_info": {
   "codemirror_mode": {
    "name": "ipython",
    "version": 3
   },
   "file_extension": ".py",
   "mimetype": "text/x-python",
   "name": "python",
   "nbconvert_exporter": "python",
   "pygments_lexer": "ipython3",
   "version": "3.10.2"
  }
 },
 "nbformat": 4,
 "nbformat_minor": 2
}
