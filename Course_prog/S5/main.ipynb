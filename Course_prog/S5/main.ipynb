{
 "cells": [
  {
   "cell_type": "code",
   "execution_count": 799,
   "metadata": {},
   "outputs": [],
   "source": [
    "import numpy as np\n",
    "import warnings\n",
    "warnings.filterwarnings(action=\"ignore\", category=DeprecationWarning)"
   ]
  },
  {
   "cell_type": "code",
   "execution_count": 800,
   "metadata": {},
   "outputs": [],
   "source": [
    "MAX_DEF_COUNT_ITER = 10000\n",
    "\"\"\"Максимальное количество итераций по-умолчанию\"\"\"\n",
    "DEF_EPS = 0.0001\n",
    "\"\"\"Точность по-умолчанию\"\"\""
   ]
  },
  {
   "cell_type": "markdown",
   "metadata": {},
   "source": [
    "# Подготовка"
   ]
  },
  {
   "cell_type": "code",
   "execution_count": 801,
   "metadata": {},
   "outputs": [],
   "source": [
    "def calc(A: np.matrix, b: np.matrix) -> np.matrix:\n",
    "    if b is None:\n",
    "        print(\"Вектор собственного значения не был посчитан\")\n",
    "        return None\n",
    "    return float((b.T @ A @ b) / (b.T @ b))"
   ]
  },
  {
   "cell_type": "code",
   "execution_count": 802,
   "metadata": {},
   "outputs": [],
   "source": [
    "def output(\n",
    "    A: np.matrix,\n",
    "    f_1,\n",
    "    f_2,\n",
    "    text_1,\n",
    "    text_2,\n",
    "    num_iterrations: int = MAX_DEF_COUNT_ITER,\n",
    "    b_k: np.matrix = None,\n",
    "    mu: float=None\n",
    ") -> None:\n",
    "    abs_v = np.abs(np.linalg.eigvals(A))\n",
    "    print(\n",
    "        \"Собственные значения матрицы A\",\n",
    "        f\"Максимальное: {np.max(abs_v)}\",\n",
    "        f\"Минимальное: {np.min(abs_v)}\",\n",
    "        sep=\"\\n\",\n",
    "    )\n",
    "    print(\"========\")\n",
    "\n",
    "    print(text_1)\n",
    "    first_evec = f_1(A=A, num_iterations=num_iterrations, b_k=b_k)\n",
    "    first_eval = calc(A, first_evec)\n",
    "    print(\"========\")\n",
    "\n",
    "    print(text_2)\n",
    "    if f_2.__name__ != inverse_power_rel.__name__:\n",
    "        second_evec = f_2(A=A, num_iterations=num_iterrations, b_k=b_k)\n",
    "        second_eval = calc(A, second_evec)\n",
    "    else:\n",
    "        second_evec, second_eval = f_2(A=A, b_k=b_k, mu=mu)\n",
    "    print(\"========\")\n",
    "\n",
    "    print(\n",
    "        \"Собственные векторы:\",\n",
    "        f\"{text_1}:\",\n",
    "        first_evec,\n",
    "        f\"{text_2}:\",\n",
    "        second_evec,\n",
    "        sep=\"\\n\",\n",
    "    )\n",
    "    print(\n",
    "        \"Собственные значения:\",\n",
    "        f\"{text_1}: {first_eval}\",\n",
    "        f\"{text_2}: {second_eval}\",\n",
    "        sep=\"\\n\",\n",
    "    )"
   ]
  },
  {
   "cell_type": "markdown",
   "metadata": {},
   "source": [
    "# Прямой метод"
   ]
  },
  {
   "cell_type": "markdown",
   "metadata": {},
   "source": [
    "$x^{(k)} = \\dfrac{Ax^{(k - 1)}}{\\alpha_{k - 1}}$\n",
    "\n",
    "$\\lambda_{1}(A) = \\dfrac{\\left( Ax^{(k)}, x^{(k)} \\right)}{(x^{(k)}, x^{(k)})} = \\dfrac{(x^{(k)})^{T}A^{(k)}x^{(k)}}{(x^{(k)})^{T}x^{(k)}}$, где $|\\lambda_1(A)|$ - наибольшее по модулю СЗ"
   ]
  },
  {
   "cell_type": "code",
   "execution_count": 803,
   "metadata": {},
   "outputs": [],
   "source": [
    "def power_iteration(A: np.matrix, num_iterations: int = MAX_DEF_COUNT_ITER, b_k: np.matrix = None) -> np.matrix:\n",
    "    if b_k is None:\n",
    "        b_k = np.random.rand(A.shape[1], 1)\n",
    "    print(\"Начальное приближение:\", b_k, sep=\"\\n\")\n",
    "\n",
    "    for _ in range(num_iterations):\n",
    "        b_k1 = np.dot(A, b_k)\n",
    "\n",
    "        b_k1_norm = np.linalg.norm(b_k1)\n",
    "\n",
    "        b_k = b_k1 / b_k1_norm\n",
    "\n",
    "    return b_k"
   ]
  },
  {
   "cell_type": "markdown",
   "metadata": {},
   "source": [
    "# Обратный метод"
   ]
  },
  {
   "cell_type": "markdown",
   "metadata": {},
   "source": [
    "## Стандартная версия"
   ]
  },
  {
   "cell_type": "code",
   "execution_count": 804,
   "metadata": {},
   "outputs": [],
   "source": [
    "def inverse_power_def(A: np.matrix, num_iterations: int = MAX_DEF_COUNT_ITER, b_k: np.matrix = None) -> np.matrix:\n",
    "    try:\n",
    "        inv_A = np.linalg.inv(A)\n",
    "    except np.linalg.LinAlgError:\n",
    "        print(\"Вырожденная матрица\")\n",
    "        return None\n",
    "    print(\"Обратная матрица:\",inv_A, sep=\"\\n\")\n",
    "    return power_iteration(inv_A, num_iterations, b_k)"
   ]
  },
  {
   "cell_type": "code",
   "execution_count": null,
   "metadata": {},
   "outputs": [],
   "source": [
    "A: np.matrix = np.matrix(\"1 3 -2 0;\"\n",
    "                         \"1 1 4 7;\"\n",
    "                         \"4 7 11 23;\"\n",
    "                         \"52 66 2 0\")  # -0.65\n",
    "output(A, power_iteration, inverse_power_def, \"Прямые итерации\", \"Обратные итерации (обычные)\")"
   ]
  },
  {
   "cell_type": "code",
   "execution_count": null,
   "metadata": {},
   "outputs": [],
   "source": [
    "A: np.matrix = np.matrix(\"1 -2 -1;\"\n",
    "                         \"-1 1 1;\"\n",
    "                         \"1 0 -1\")  # 0, 2, -1\n",
    "# Проблема с невырожденной матрицей\n",
    "output(A, power_iteration, inverse_power_def, \"Прямые итерации\", \"Обратные итерации (обычные)\")"
   ]
  },
  {
   "cell_type": "markdown",
   "metadata": {},
   "source": [
    "## Обратный модифицированный"
   ]
  },
  {
   "cell_type": "code",
   "execution_count": 807,
   "metadata": {},
   "outputs": [],
   "source": [
    "def inverse_power_mod(\n",
    "    A: np.matrix, num_iterations: int = MAX_DEF_COUNT_ITER, b_k: np.matrix = None\n",
    ") -> np.matrix:\n",
    "    if b_k is None:\n",
    "        b_k = np.random.rand(A.shape[1], 1)  # Попробовать близкий к настоящему собственный вектор\n",
    "    print(\"Начальное приближение:\", b_k, sep=\"\\n\")\n",
    "\n",
    "    # print(A, \"\\n\", b_k)\n",
    "    E = np.eye(A.shape[0], dtype=int)\n",
    "    mu = 0  # попробовать float\n",
    "    for iter_index in range(num_iterations):\n",
    "\n",
    "        # print(A - mu * E)\n",
    "        inv = np.invert(A - mu * E)\n",
    "\n",
    "        b_top = inv @ b_k\n",
    "        # print(b_top)\n",
    "        c_k = np.linalg.norm(b_top)\n",
    "        # print(b_top, c_k, b_top / c_k)\n",
    "        # print(b_top / c_k)\n",
    "\n",
    "        b_k = b_top / c_k\n",
    "        # c_k не становится меньше 1\n",
    "        if c_k < 1:\n",
    "            break\n",
    "\n",
    "        # if iter_index % 100 == 0:\n",
    "        #     print(b_k)\n",
    "    return b_k"
   ]
  },
  {
   "cell_type": "code",
   "execution_count": null,
   "metadata": {},
   "outputs": [],
   "source": [
    "A: np.matrix = np.matrix(\"1 -2 -1;\"\n",
    "                         \"-1 1 1;\"\n",
    "                         \"1 0 -1\")  # 0, 2, -1\n",
    "# Плохо работает без известного начального приближения\n",
    "output(A, power_iteration, inverse_power_mod, \"Прямые итерации\", \"Обратные итерации (модифицированная)\")"
   ]
  },
  {
   "cell_type": "markdown",
   "metadata": {},
   "source": [
    "## Модификация Релэя"
   ]
  },
  {
   "cell_type": "code",
   "execution_count": 809,
   "metadata": {},
   "outputs": [],
   "source": [
    "import random\n",
    "\n",
    "\n",
    "def inverse_power_rel(A, epsilon: float = DEF_EPS, mu = None, b_k = None):\n",
    "  if b_k is None:\n",
    "      b_k = np.random.rand(A.shape[1], 1) # Попробовать близкий к настоящему собственный вектор\n",
    "  if mu is None:\n",
    "    mu = random.randint(1, 19) / 10 # Случайное начальное приближение\n",
    "  print(\"Начальное приближение:\", \"СЗ:\", mu, \"СВ:\", b_k, sep=\"\\n\")\n",
    "  \n",
    "  b_k = b_k / np.linalg.norm(b_k)\n",
    "  y = np.linalg.solve(A - mu * np.eye(A.shape[0]), b_k)\n",
    "  # print(y)\n",
    "  # print(x)\n",
    "  lambda_ = float(np.dot(y.T, b_k))\n",
    "  # print(lambda_, lambda_ * x)\n",
    "  mu = mu + 1 / lambda_\n",
    "  err = np.linalg.norm(y - lambda_ * b_k) / np.linalg.norm(y)\n",
    "\n",
    "  while err > epsilon:\n",
    "    b_k = y / np.linalg.norm(y)\n",
    "    y = np.linalg.solve(A - mu * np.eye(A.shape[0]), b_k)\n",
    "    lambda_ = float(np.dot(y.T, b_k))\n",
    "    mu = mu + 1 / lambda_\n",
    "    err = np.linalg.norm(y - lambda_ * b_k) / np.linalg.norm(y)\n",
    "\n",
    "  return b_k, float(mu)\n"
   ]
  },
  {
   "cell_type": "code",
   "execution_count": null,
   "metadata": {},
   "outputs": [],
   "source": [
    "A: np.matrix = np.matrix(\"1 -2 -1;\"\n",
    "                         \"-1 1 1;\"\n",
    "                         \"1 0 -1\")  # 0, 2, -1\n",
    "# Сильно зависит от начального приближения\n",
    "# Добавить анализ через Pandas\n",
    "# A, calc(A, power_iteration(A, 1000)), inverse_power_rel(A, 0.0001)[1]\n",
    "output(A, power_iteration, inverse_power_rel, \"Прямые итерации\", \"Обратные итерации (модификация Релэя)\")"
   ]
  },
  {
   "cell_type": "markdown",
   "metadata": {},
   "source": [
    "## Хз, что это"
   ]
  },
  {
   "cell_type": "code",
   "execution_count": 811,
   "metadata": {},
   "outputs": [],
   "source": [
    "import numpy as np\n",
    "def inverse_iteration(A, mu = None, max_iterations=10000, tolerance=1e-6):\n",
    "    if mu is None:\n",
    "        mu = random.randint(1, 19) / 10\n",
    "    n = A.shape[0]\n",
    "    # Начальное приближение для собственного вектора (можно взять случайный вектор)\n",
    "    v = np.random.rand(n)\n",
    "    # Нормализация вектора\n",
    "    v /= np.linalg.norm(v)\n",
    "    for iteration in range(max_iterations):\n",
    "        try:\n",
    "            # Решение линейной системы (A - mu * I)v = w, где I - единичная матрица,\n",
    "            w = np.linalg.solve(A - mu * np.eye(n), v)\n",
    "        except np.linalg.LinAlgError:\n",
    "            print(\"Сингулярная матрица. Попробуйте использовать другое значение mu.\")\n",
    "            return None, None\n",
    "        # Нормализация вектора w\n",
    "        v_new = w / np.linalg.norm(w)\n",
    "        # Проверка на сходимость\n",
    "        if np.linalg.norm(v_new - v) < tolerance:\n",
    "            break\n",
    "        v = v_new\n",
    "    # Вычисление приближенного собственного значения,\n",
    "    eigenvalue = mu + (v.T @ A @ v) / (v.T @ v),\n",
    "    return v, float(eigenvalue[0][0])"
   ]
  },
  {
   "cell_type": "code",
   "execution_count": null,
   "metadata": {},
   "outputs": [],
   "source": [
    "inverse_iteration(A)"
   ]
  },
  {
   "cell_type": "code",
   "execution_count": null,
   "metadata": {},
   "outputs": [],
   "source": []
  }
 ],
 "metadata": {
  "kernelspec": {
   "display_name": "Calc_math",
   "language": "python",
   "name": "python3"
  },
  "language_info": {
   "codemirror_mode": {
    "name": "ipython",
    "version": 3
   },
   "file_extension": ".py",
   "mimetype": "text/x-python",
   "name": "python",
   "nbconvert_exporter": "python",
   "pygments_lexer": "ipython3",
   "version": "3.10.2"
  }
 },
 "nbformat": 4,
 "nbformat_minor": 2
}
