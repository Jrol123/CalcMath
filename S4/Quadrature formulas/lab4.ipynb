{
 "cells": [
  {
   "cell_type": "code",
   "metadata": {
    "ExecuteTime": {
     "end_time": "2024-05-22T23:16:47.170111Z",
     "start_time": "2024-05-22T23:16:47.077588Z"
    }
   },
   "source": [
    "import numpy as np\n",
    "import pandas as pd\n",
    "from numpy import cos, sin, pi"
   ],
   "outputs": [],
   "execution_count": 2
  },
  {
   "cell_type": "code",
   "metadata": {
    "ExecuteTime": {
     "end_time": "2024-05-22T23:16:47.186124Z",
     "start_time": "2024-05-22T23:16:47.172111Z"
    }
   },
   "source": [
    "# Исходная функция\n",
    "def f(x):\n",
    "    return 2 * x - cos(x)"
   ],
   "outputs": [],
   "execution_count": 3
  },
  {
   "cell_type": "code",
   "metadata": {
    "ExecuteTime": {
     "end_time": "2024-05-22T23:16:47.201639Z",
     "start_time": "2024-05-22T23:16:47.188121Z"
    }
   },
   "source": [
    "# Производная функции порядка n\n",
    "def df(x, n):\n",
    "    return cos(x + ((n - 2) * pi) / 2)\n",
    "\n",
    "# Первая производная функции\n",
    "def df1(x):\n",
    "    return 2 + sin(x)\n",
    "\n",
    "# Вторая производная функции\n",
    "def df2(x):\n",
    "    return cos(x)"
   ],
   "outputs": [],
   "execution_count": 4
  },
  {
   "cell_type": "code",
   "metadata": {
    "ExecuteTime": {
     "end_time": "2024-05-22T23:16:47.217634Z",
     "start_time": "2024-05-22T23:16:47.202635Z"
    }
   },
   "source": [
    "def I_trap(points):\n",
    "    rez = 0\n",
    "    for _1 in range(len(points) - 1):\n",
    "        rez += ((points['y'][_1 + 1] + points['y'][_1]) \n",
    "                * (points['x'][_1 + 1] - points['x'][_1]) / 2 )\n",
    "    return rez"
   ],
   "outputs": [],
   "execution_count": 5
  },
  {
   "cell_type": "code",
   "metadata": {
    "ExecuteTime": {
     "end_time": "2024-05-22T23:16:47.232637Z",
     "start_time": "2024-05-22T23:16:47.218635Z"
    }
   },
   "source": [
    "def I_left_pram(points):\n",
    "    rez = 0\n",
    "    for _1 in range(len(points) - 1):\n",
    "        rez += points['y'][_1] * (points['x'][_1 + 1] - points['x'][_1])\n",
    "    return rez"
   ],
   "outputs": [],
   "execution_count": 6
  },
  {
   "cell_type": "code",
   "metadata": {
    "ExecuteTime": {
     "end_time": "2024-05-22T23:16:47.248638Z",
     "start_time": "2024-05-22T23:16:47.233637Z"
    }
   },
   "source": [
    "def I_right_pram(points):\n",
    "    rez = 0\n",
    "    for _1 in range(1, len(points)):\n",
    "        rez += points['y'][_1] * (points['x'][_1] - points['x'][_1 - 1])\n",
    "    return rez"
   ],
   "outputs": [],
   "execution_count": 7
  },
  {
   "cell_type": "code",
   "metadata": {
    "ExecuteTime": {
     "end_time": "2024-05-22T23:16:47.264635Z",
     "start_time": "2024-05-22T23:16:47.249640Z"
    }
   },
   "source": [
    "def I_mid_pram(points):\n",
    "    rez = 0\n",
    "    for _1 in range(len(points) - 1):\n",
    "        rez += (f((points['x'][_1] + points['x'][_1 + 1]) / 2) \n",
    "                * (points['x'][_1 + 1] - points['x'][_1]))\n",
    "    return rez"
   ],
   "outputs": [],
   "execution_count": 8
  },
  {
   "cell_type": "code",
   "metadata": {
    "ExecuteTime": {
     "end_time": "2024-05-22T23:16:47.280638Z",
     "start_time": "2024-05-22T23:16:47.266636Z"
    }
   },
   "source": [
    "def I_simpson(points, h):\n",
    "    rez = 0\n",
    "    for _1 in range(1, len(points) - 1, 2):\n",
    "        rez += ((points['y'][_1 - 1] + 4 * points['y'][_1] + points['y'][_1 + 1]) * \n",
    "                h / 3)\n",
    "    return rez"
   ],
   "outputs": [],
   "execution_count": 9
  },
  {
   "cell_type": "code",
   "metadata": {
    "ExecuteTime": {
     "end_time": "2024-05-22T23:16:47.296641Z",
     "start_time": "2024-05-22T23:16:47.284641Z"
    }
   },
   "source": [
    "def R_left_pram(h, a, b):\n",
    "    interval = np.linspace(a, b, 1000)\n",
    "    return (max(abs(df1(interval))) * (b - a) * (h ** 1)) / 2"
   ],
   "outputs": [],
   "execution_count": 10
  },
  {
   "cell_type": "code",
   "metadata": {
    "ExecuteTime": {
     "end_time": "2024-05-22T23:16:47.312154Z",
     "start_time": "2024-05-22T23:16:47.298152Z"
    }
   },
   "source": [
    "def R_right_pram(h, a, b):\n",
    "    interval = np.linspace(a, b, 1000)\n",
    "    return (max(abs(df1(interval))) * (b - a) * (h ** 1)) / 2"
   ],
   "outputs": [],
   "execution_count": 11
  },
  {
   "cell_type": "code",
   "metadata": {
    "ExecuteTime": {
     "end_time": "2024-05-22T23:16:47.328153Z",
     "start_time": "2024-05-22T23:16:47.313153Z"
    }
   },
   "source": [
    "def R_mid_pram(h, a, b):\n",
    "    interval = np.linspace(a, b, 1000)\n",
    "    return (max(abs(df2(interval))) * (b - a) * (h ** 2)) / 24"
   ],
   "outputs": [],
   "execution_count": 12
  },
  {
   "cell_type": "code",
   "metadata": {
    "ExecuteTime": {
     "end_time": "2024-05-22T23:16:47.344153Z",
     "start_time": "2024-05-22T23:16:47.329154Z"
    }
   },
   "source": [
    "def R_trap(h, a, b):\n",
    "    interval = np.linspace(a, b, 1000)\n",
    "    return (max(abs(df2(interval))) * (b - a) * (h ** 2)) / 12"
   ],
   "outputs": [],
   "execution_count": 13
  },
  {
   "cell_type": "code",
   "metadata": {
    "ExecuteTime": {
     "end_time": "2024-05-22T23:16:47.360153Z",
     "start_time": "2024-05-22T23:16:47.345154Z"
    }
   },
   "source": [
    "def R_simpson(h, a, b):\n",
    "    interval = np.linspace(a, b, 1000)\n",
    "    return (max(abs(df(interval, 4))) * (b - a) * (h ** 4)) / 2880"
   ],
   "outputs": [],
   "execution_count": 14
  },
  {
   "cell_type": "code",
   "metadata": {
    "ExecuteTime": {
     "end_time": "2024-05-22T23:16:47.376157Z",
     "start_time": "2024-05-22T23:16:47.361152Z"
    }
   },
   "source": [
    "# Границы отрезка\n",
    "a, b = [0.1, 0.6]"
   ],
   "outputs": [],
   "execution_count": 15
  },
  {
   "cell_type": "code",
   "metadata": {
    "ExecuteTime": {
     "end_time": "2024-05-22T23:16:47.392163Z",
     "start_time": "2024-05-22T23:16:47.378153Z"
    }
   },
   "source": [
    "exit_table = {'n': [0 for _1 in range(15)], 'I': [0 for _1 in range(15)], \n",
    "           'ΔI': [0 for _1 in range(15)], '∂I': [0 for _1 in range(15)], \n",
    "           'R': [0 for _1 in range(15)], 'Отношение ΔI': [1 for _1 in range(15)]}"
   ],
   "outputs": [],
   "execution_count": 16
  },
  {
   "cell_type": "code",
   "metadata": {
    "ExecuteTime": {
     "end_time": "2024-05-22T23:16:47.407682Z",
     "start_time": "2024-05-22T23:16:47.393162Z"
    }
   },
   "source": [
    "precise_int = -0.114809056748\n",
    "# precise_int = -sin(0.6) + sin(0.1) + 0.35\n",
    "print(precise_int)"
   ],
   "outputs": [
    {
     "name": "stdout",
     "output_type": "stream",
     "text": [
      "-0.114809056748\n"
     ]
    }
   ],
   "execution_count": 17
  },
  {
   "cell_type": "code",
   "metadata": {
    "ExecuteTime": {
     "end_time": "2024-05-22T23:16:48.896021Z",
     "start_time": "2024-05-22T23:16:47.409677Z"
    }
   },
   "source": [
    "for j in range(15):\n",
    "    n = 2 ** (j + 1)\n",
    "\n",
    "    # Создание df с узловыми точками\n",
    "    tmp = np.linspace(a, b, n + 1)\n",
    "    points = pd.DataFrame({'x': tmp, 'y': f(tmp)})\n",
    "\n",
    "    step = (b - a) / n\n",
    "    \n",
    "    exit_table['n'][j] = n\n",
    "    exit_table['I'][j] = I_simpson(points, step)\n",
    "    exit_table['ΔI'][j] = abs(I_simpson(points, step) - precise_int)\n",
    "    exit_table['∂I'][j] = ((abs(I_simpson(points, step) - precise_int))\n",
    "                           * 100 / (abs(precise_int)))\n",
    "    exit_table['R'][j] = R_simpson(step, a, b)"
   ],
   "outputs": [],
   "execution_count": 18
  },
  {
   "cell_type": "code",
   "metadata": {
    "ExecuteTime": {
     "end_time": "2024-05-22T23:25:17.021496Z",
     "start_time": "2024-05-22T23:25:16.975489Z"
    }
   },
   "source": [
    "for _1 in range(1, 15):\n",
    "    exit_table['Отношение ΔI'][_1] = exit_table['ΔI'][_1 - 1] / exit_table['ΔI'][_1]"
   ],
   "outputs": [
    {
     "name": "stderr",
     "output_type": "stream",
     "text": [
      "C:\\Users\\artem\\AppData\\Local\\Temp\\ipykernel_10560\\3698123335.py:2: FutureWarning: ChainedAssignmentError: behaviour will change in pandas 3.0!\n",
      "You are setting values through chained assignment. Currently this works in certain cases, but when using Copy-on-Write (which will become the default behaviour in pandas 3.0) this will never work to update the original DataFrame or Series, because the intermediate object on which we are setting values will behave as a copy.\n",
      "A typical example is when you are setting values in a column of a DataFrame, like:\n",
      "\n",
      "df[\"col\"][row_indexer] = value\n",
      "\n",
      "Use `df.loc[row_indexer, \"col\"] = values` instead, to perform the assignment in a single step and ensure this keeps updating the original `df`.\n",
      "\n",
      "See the caveats in the documentation: https://pandas.pydata.org/pandas-docs/stable/user_guide/indexing.html#returning-a-view-versus-a-copy\n",
      "\n",
      "  exit_table['Отношение ΔI'][_1] = exit_table['ΔI'][_1 - 1] / exit_table['ΔI'][_1]\n",
      "C:\\Users\\artem\\AppData\\Local\\Temp\\ipykernel_10560\\3698123335.py:2: SettingWithCopyWarning: \n",
      "A value is trying to be set on a copy of a slice from a DataFrame\n",
      "\n",
      "See the caveats in the documentation: https://pandas.pydata.org/pandas-docs/stable/user_guide/indexing.html#returning-a-view-versus-a-copy\n",
      "  exit_table['Отношение ΔI'][_1] = exit_table['ΔI'][_1 - 1] / exit_table['ΔI'][_1]\n",
      "C:\\Users\\artem\\AppData\\Local\\Temp\\ipykernel_10560\\3698123335.py:2: FutureWarning: ChainedAssignmentError: behaviour will change in pandas 3.0!\n",
      "You are setting values through chained assignment. Currently this works in certain cases, but when using Copy-on-Write (which will become the default behaviour in pandas 3.0) this will never work to update the original DataFrame or Series, because the intermediate object on which we are setting values will behave as a copy.\n",
      "A typical example is when you are setting values in a column of a DataFrame, like:\n",
      "\n",
      "df[\"col\"][row_indexer] = value\n",
      "\n",
      "Use `df.loc[row_indexer, \"col\"] = values` instead, to perform the assignment in a single step and ensure this keeps updating the original `df`.\n",
      "\n",
      "See the caveats in the documentation: https://pandas.pydata.org/pandas-docs/stable/user_guide/indexing.html#returning-a-view-versus-a-copy\n",
      "\n",
      "  exit_table['Отношение ΔI'][_1] = exit_table['ΔI'][_1 - 1] / exit_table['ΔI'][_1]\n",
      "C:\\Users\\artem\\AppData\\Local\\Temp\\ipykernel_10560\\3698123335.py:2: SettingWithCopyWarning: \n",
      "A value is trying to be set on a copy of a slice from a DataFrame\n",
      "\n",
      "See the caveats in the documentation: https://pandas.pydata.org/pandas-docs/stable/user_guide/indexing.html#returning-a-view-versus-a-copy\n",
      "  exit_table['Отношение ΔI'][_1] = exit_table['ΔI'][_1 - 1] / exit_table['ΔI'][_1]\n",
      "C:\\Users\\artem\\AppData\\Local\\Temp\\ipykernel_10560\\3698123335.py:2: FutureWarning: ChainedAssignmentError: behaviour will change in pandas 3.0!\n",
      "You are setting values through chained assignment. Currently this works in certain cases, but when using Copy-on-Write (which will become the default behaviour in pandas 3.0) this will never work to update the original DataFrame or Series, because the intermediate object on which we are setting values will behave as a copy.\n",
      "A typical example is when you are setting values in a column of a DataFrame, like:\n",
      "\n",
      "df[\"col\"][row_indexer] = value\n",
      "\n",
      "Use `df.loc[row_indexer, \"col\"] = values` instead, to perform the assignment in a single step and ensure this keeps updating the original `df`.\n",
      "\n",
      "See the caveats in the documentation: https://pandas.pydata.org/pandas-docs/stable/user_guide/indexing.html#returning-a-view-versus-a-copy\n",
      "\n",
      "  exit_table['Отношение ΔI'][_1] = exit_table['ΔI'][_1 - 1] / exit_table['ΔI'][_1]\n",
      "C:\\Users\\artem\\AppData\\Local\\Temp\\ipykernel_10560\\3698123335.py:2: SettingWithCopyWarning: \n",
      "A value is trying to be set on a copy of a slice from a DataFrame\n",
      "\n",
      "See the caveats in the documentation: https://pandas.pydata.org/pandas-docs/stable/user_guide/indexing.html#returning-a-view-versus-a-copy\n",
      "  exit_table['Отношение ΔI'][_1] = exit_table['ΔI'][_1 - 1] / exit_table['ΔI'][_1]\n",
      "C:\\Users\\artem\\AppData\\Local\\Temp\\ipykernel_10560\\3698123335.py:2: FutureWarning: ChainedAssignmentError: behaviour will change in pandas 3.0!\n",
      "You are setting values through chained assignment. Currently this works in certain cases, but when using Copy-on-Write (which will become the default behaviour in pandas 3.0) this will never work to update the original DataFrame or Series, because the intermediate object on which we are setting values will behave as a copy.\n",
      "A typical example is when you are setting values in a column of a DataFrame, like:\n",
      "\n",
      "df[\"col\"][row_indexer] = value\n",
      "\n",
      "Use `df.loc[row_indexer, \"col\"] = values` instead, to perform the assignment in a single step and ensure this keeps updating the original `df`.\n",
      "\n",
      "See the caveats in the documentation: https://pandas.pydata.org/pandas-docs/stable/user_guide/indexing.html#returning-a-view-versus-a-copy\n",
      "\n",
      "  exit_table['Отношение ΔI'][_1] = exit_table['ΔI'][_1 - 1] / exit_table['ΔI'][_1]\n",
      "C:\\Users\\artem\\AppData\\Local\\Temp\\ipykernel_10560\\3698123335.py:2: SettingWithCopyWarning: \n",
      "A value is trying to be set on a copy of a slice from a DataFrame\n",
      "\n",
      "See the caveats in the documentation: https://pandas.pydata.org/pandas-docs/stable/user_guide/indexing.html#returning-a-view-versus-a-copy\n",
      "  exit_table['Отношение ΔI'][_1] = exit_table['ΔI'][_1 - 1] / exit_table['ΔI'][_1]\n",
      "C:\\Users\\artem\\AppData\\Local\\Temp\\ipykernel_10560\\3698123335.py:2: FutureWarning: ChainedAssignmentError: behaviour will change in pandas 3.0!\n",
      "You are setting values through chained assignment. Currently this works in certain cases, but when using Copy-on-Write (which will become the default behaviour in pandas 3.0) this will never work to update the original DataFrame or Series, because the intermediate object on which we are setting values will behave as a copy.\n",
      "A typical example is when you are setting values in a column of a DataFrame, like:\n",
      "\n",
      "df[\"col\"][row_indexer] = value\n",
      "\n",
      "Use `df.loc[row_indexer, \"col\"] = values` instead, to perform the assignment in a single step and ensure this keeps updating the original `df`.\n",
      "\n",
      "See the caveats in the documentation: https://pandas.pydata.org/pandas-docs/stable/user_guide/indexing.html#returning-a-view-versus-a-copy\n",
      "\n",
      "  exit_table['Отношение ΔI'][_1] = exit_table['ΔI'][_1 - 1] / exit_table['ΔI'][_1]\n",
      "C:\\Users\\artem\\AppData\\Local\\Temp\\ipykernel_10560\\3698123335.py:2: SettingWithCopyWarning: \n",
      "A value is trying to be set on a copy of a slice from a DataFrame\n",
      "\n",
      "See the caveats in the documentation: https://pandas.pydata.org/pandas-docs/stable/user_guide/indexing.html#returning-a-view-versus-a-copy\n",
      "  exit_table['Отношение ΔI'][_1] = exit_table['ΔI'][_1 - 1] / exit_table['ΔI'][_1]\n",
      "C:\\Users\\artem\\AppData\\Local\\Temp\\ipykernel_10560\\3698123335.py:2: FutureWarning: ChainedAssignmentError: behaviour will change in pandas 3.0!\n",
      "You are setting values through chained assignment. Currently this works in certain cases, but when using Copy-on-Write (which will become the default behaviour in pandas 3.0) this will never work to update the original DataFrame or Series, because the intermediate object on which we are setting values will behave as a copy.\n",
      "A typical example is when you are setting values in a column of a DataFrame, like:\n",
      "\n",
      "df[\"col\"][row_indexer] = value\n",
      "\n",
      "Use `df.loc[row_indexer, \"col\"] = values` instead, to perform the assignment in a single step and ensure this keeps updating the original `df`.\n",
      "\n",
      "See the caveats in the documentation: https://pandas.pydata.org/pandas-docs/stable/user_guide/indexing.html#returning-a-view-versus-a-copy\n",
      "\n",
      "  exit_table['Отношение ΔI'][_1] = exit_table['ΔI'][_1 - 1] / exit_table['ΔI'][_1]\n",
      "C:\\Users\\artem\\AppData\\Local\\Temp\\ipykernel_10560\\3698123335.py:2: SettingWithCopyWarning: \n",
      "A value is trying to be set on a copy of a slice from a DataFrame\n",
      "\n",
      "See the caveats in the documentation: https://pandas.pydata.org/pandas-docs/stable/user_guide/indexing.html#returning-a-view-versus-a-copy\n",
      "  exit_table['Отношение ΔI'][_1] = exit_table['ΔI'][_1 - 1] / exit_table['ΔI'][_1]\n",
      "C:\\Users\\artem\\AppData\\Local\\Temp\\ipykernel_10560\\3698123335.py:2: FutureWarning: ChainedAssignmentError: behaviour will change in pandas 3.0!\n",
      "You are setting values through chained assignment. Currently this works in certain cases, but when using Copy-on-Write (which will become the default behaviour in pandas 3.0) this will never work to update the original DataFrame or Series, because the intermediate object on which we are setting values will behave as a copy.\n",
      "A typical example is when you are setting values in a column of a DataFrame, like:\n",
      "\n",
      "df[\"col\"][row_indexer] = value\n",
      "\n",
      "Use `df.loc[row_indexer, \"col\"] = values` instead, to perform the assignment in a single step and ensure this keeps updating the original `df`.\n",
      "\n",
      "See the caveats in the documentation: https://pandas.pydata.org/pandas-docs/stable/user_guide/indexing.html#returning-a-view-versus-a-copy\n",
      "\n",
      "  exit_table['Отношение ΔI'][_1] = exit_table['ΔI'][_1 - 1] / exit_table['ΔI'][_1]\n",
      "C:\\Users\\artem\\AppData\\Local\\Temp\\ipykernel_10560\\3698123335.py:2: SettingWithCopyWarning: \n",
      "A value is trying to be set on a copy of a slice from a DataFrame\n",
      "\n",
      "See the caveats in the documentation: https://pandas.pydata.org/pandas-docs/stable/user_guide/indexing.html#returning-a-view-versus-a-copy\n",
      "  exit_table['Отношение ΔI'][_1] = exit_table['ΔI'][_1 - 1] / exit_table['ΔI'][_1]\n",
      "C:\\Users\\artem\\AppData\\Local\\Temp\\ipykernel_10560\\3698123335.py:2: FutureWarning: ChainedAssignmentError: behaviour will change in pandas 3.0!\n",
      "You are setting values through chained assignment. Currently this works in certain cases, but when using Copy-on-Write (which will become the default behaviour in pandas 3.0) this will never work to update the original DataFrame or Series, because the intermediate object on which we are setting values will behave as a copy.\n",
      "A typical example is when you are setting values in a column of a DataFrame, like:\n",
      "\n",
      "df[\"col\"][row_indexer] = value\n",
      "\n",
      "Use `df.loc[row_indexer, \"col\"] = values` instead, to perform the assignment in a single step and ensure this keeps updating the original `df`.\n",
      "\n",
      "See the caveats in the documentation: https://pandas.pydata.org/pandas-docs/stable/user_guide/indexing.html#returning-a-view-versus-a-copy\n",
      "\n",
      "  exit_table['Отношение ΔI'][_1] = exit_table['ΔI'][_1 - 1] / exit_table['ΔI'][_1]\n",
      "C:\\Users\\artem\\AppData\\Local\\Temp\\ipykernel_10560\\3698123335.py:2: SettingWithCopyWarning: \n",
      "A value is trying to be set on a copy of a slice from a DataFrame\n",
      "\n",
      "See the caveats in the documentation: https://pandas.pydata.org/pandas-docs/stable/user_guide/indexing.html#returning-a-view-versus-a-copy\n",
      "  exit_table['Отношение ΔI'][_1] = exit_table['ΔI'][_1 - 1] / exit_table['ΔI'][_1]\n",
      "C:\\Users\\artem\\AppData\\Local\\Temp\\ipykernel_10560\\3698123335.py:2: FutureWarning: ChainedAssignmentError: behaviour will change in pandas 3.0!\n",
      "You are setting values through chained assignment. Currently this works in certain cases, but when using Copy-on-Write (which will become the default behaviour in pandas 3.0) this will never work to update the original DataFrame or Series, because the intermediate object on which we are setting values will behave as a copy.\n",
      "A typical example is when you are setting values in a column of a DataFrame, like:\n",
      "\n",
      "df[\"col\"][row_indexer] = value\n",
      "\n",
      "Use `df.loc[row_indexer, \"col\"] = values` instead, to perform the assignment in a single step and ensure this keeps updating the original `df`.\n",
      "\n",
      "See the caveats in the documentation: https://pandas.pydata.org/pandas-docs/stable/user_guide/indexing.html#returning-a-view-versus-a-copy\n",
      "\n",
      "  exit_table['Отношение ΔI'][_1] = exit_table['ΔI'][_1 - 1] / exit_table['ΔI'][_1]\n",
      "C:\\Users\\artem\\AppData\\Local\\Temp\\ipykernel_10560\\3698123335.py:2: SettingWithCopyWarning: \n",
      "A value is trying to be set on a copy of a slice from a DataFrame\n",
      "\n",
      "See the caveats in the documentation: https://pandas.pydata.org/pandas-docs/stable/user_guide/indexing.html#returning-a-view-versus-a-copy\n",
      "  exit_table['Отношение ΔI'][_1] = exit_table['ΔI'][_1 - 1] / exit_table['ΔI'][_1]\n",
      "C:\\Users\\artem\\AppData\\Local\\Temp\\ipykernel_10560\\3698123335.py:2: FutureWarning: ChainedAssignmentError: behaviour will change in pandas 3.0!\n",
      "You are setting values through chained assignment. Currently this works in certain cases, but when using Copy-on-Write (which will become the default behaviour in pandas 3.0) this will never work to update the original DataFrame or Series, because the intermediate object on which we are setting values will behave as a copy.\n",
      "A typical example is when you are setting values in a column of a DataFrame, like:\n",
      "\n",
      "df[\"col\"][row_indexer] = value\n",
      "\n",
      "Use `df.loc[row_indexer, \"col\"] = values` instead, to perform the assignment in a single step and ensure this keeps updating the original `df`.\n",
      "\n",
      "See the caveats in the documentation: https://pandas.pydata.org/pandas-docs/stable/user_guide/indexing.html#returning-a-view-versus-a-copy\n",
      "\n",
      "  exit_table['Отношение ΔI'][_1] = exit_table['ΔI'][_1 - 1] / exit_table['ΔI'][_1]\n",
      "C:\\Users\\artem\\AppData\\Local\\Temp\\ipykernel_10560\\3698123335.py:2: SettingWithCopyWarning: \n",
      "A value is trying to be set on a copy of a slice from a DataFrame\n",
      "\n",
      "See the caveats in the documentation: https://pandas.pydata.org/pandas-docs/stable/user_guide/indexing.html#returning-a-view-versus-a-copy\n",
      "  exit_table['Отношение ΔI'][_1] = exit_table['ΔI'][_1 - 1] / exit_table['ΔI'][_1]\n",
      "C:\\Users\\artem\\AppData\\Local\\Temp\\ipykernel_10560\\3698123335.py:2: FutureWarning: ChainedAssignmentError: behaviour will change in pandas 3.0!\n",
      "You are setting values through chained assignment. Currently this works in certain cases, but when using Copy-on-Write (which will become the default behaviour in pandas 3.0) this will never work to update the original DataFrame or Series, because the intermediate object on which we are setting values will behave as a copy.\n",
      "A typical example is when you are setting values in a column of a DataFrame, like:\n",
      "\n",
      "df[\"col\"][row_indexer] = value\n",
      "\n",
      "Use `df.loc[row_indexer, \"col\"] = values` instead, to perform the assignment in a single step and ensure this keeps updating the original `df`.\n",
      "\n",
      "See the caveats in the documentation: https://pandas.pydata.org/pandas-docs/stable/user_guide/indexing.html#returning-a-view-versus-a-copy\n",
      "\n",
      "  exit_table['Отношение ΔI'][_1] = exit_table['ΔI'][_1 - 1] / exit_table['ΔI'][_1]\n",
      "C:\\Users\\artem\\AppData\\Local\\Temp\\ipykernel_10560\\3698123335.py:2: SettingWithCopyWarning: \n",
      "A value is trying to be set on a copy of a slice from a DataFrame\n",
      "\n",
      "See the caveats in the documentation: https://pandas.pydata.org/pandas-docs/stable/user_guide/indexing.html#returning-a-view-versus-a-copy\n",
      "  exit_table['Отношение ΔI'][_1] = exit_table['ΔI'][_1 - 1] / exit_table['ΔI'][_1]\n",
      "C:\\Users\\artem\\AppData\\Local\\Temp\\ipykernel_10560\\3698123335.py:2: FutureWarning: ChainedAssignmentError: behaviour will change in pandas 3.0!\n",
      "You are setting values through chained assignment. Currently this works in certain cases, but when using Copy-on-Write (which will become the default behaviour in pandas 3.0) this will never work to update the original DataFrame or Series, because the intermediate object on which we are setting values will behave as a copy.\n",
      "A typical example is when you are setting values in a column of a DataFrame, like:\n",
      "\n",
      "df[\"col\"][row_indexer] = value\n",
      "\n",
      "Use `df.loc[row_indexer, \"col\"] = values` instead, to perform the assignment in a single step and ensure this keeps updating the original `df`.\n",
      "\n",
      "See the caveats in the documentation: https://pandas.pydata.org/pandas-docs/stable/user_guide/indexing.html#returning-a-view-versus-a-copy\n",
      "\n",
      "  exit_table['Отношение ΔI'][_1] = exit_table['ΔI'][_1 - 1] / exit_table['ΔI'][_1]\n",
      "C:\\Users\\artem\\AppData\\Local\\Temp\\ipykernel_10560\\3698123335.py:2: SettingWithCopyWarning: \n",
      "A value is trying to be set on a copy of a slice from a DataFrame\n",
      "\n",
      "See the caveats in the documentation: https://pandas.pydata.org/pandas-docs/stable/user_guide/indexing.html#returning-a-view-versus-a-copy\n",
      "  exit_table['Отношение ΔI'][_1] = exit_table['ΔI'][_1 - 1] / exit_table['ΔI'][_1]\n",
      "C:\\Users\\artem\\AppData\\Local\\Temp\\ipykernel_10560\\3698123335.py:2: FutureWarning: ChainedAssignmentError: behaviour will change in pandas 3.0!\n",
      "You are setting values through chained assignment. Currently this works in certain cases, but when using Copy-on-Write (which will become the default behaviour in pandas 3.0) this will never work to update the original DataFrame or Series, because the intermediate object on which we are setting values will behave as a copy.\n",
      "A typical example is when you are setting values in a column of a DataFrame, like:\n",
      "\n",
      "df[\"col\"][row_indexer] = value\n",
      "\n",
      "Use `df.loc[row_indexer, \"col\"] = values` instead, to perform the assignment in a single step and ensure this keeps updating the original `df`.\n",
      "\n",
      "See the caveats in the documentation: https://pandas.pydata.org/pandas-docs/stable/user_guide/indexing.html#returning-a-view-versus-a-copy\n",
      "\n",
      "  exit_table['Отношение ΔI'][_1] = exit_table['ΔI'][_1 - 1] / exit_table['ΔI'][_1]\n",
      "C:\\Users\\artem\\AppData\\Local\\Temp\\ipykernel_10560\\3698123335.py:2: SettingWithCopyWarning: \n",
      "A value is trying to be set on a copy of a slice from a DataFrame\n",
      "\n",
      "See the caveats in the documentation: https://pandas.pydata.org/pandas-docs/stable/user_guide/indexing.html#returning-a-view-versus-a-copy\n",
      "  exit_table['Отношение ΔI'][_1] = exit_table['ΔI'][_1 - 1] / exit_table['ΔI'][_1]\n",
      "C:\\Users\\artem\\AppData\\Local\\Temp\\ipykernel_10560\\3698123335.py:2: FutureWarning: ChainedAssignmentError: behaviour will change in pandas 3.0!\n",
      "You are setting values through chained assignment. Currently this works in certain cases, but when using Copy-on-Write (which will become the default behaviour in pandas 3.0) this will never work to update the original DataFrame or Series, because the intermediate object on which we are setting values will behave as a copy.\n",
      "A typical example is when you are setting values in a column of a DataFrame, like:\n",
      "\n",
      "df[\"col\"][row_indexer] = value\n",
      "\n",
      "Use `df.loc[row_indexer, \"col\"] = values` instead, to perform the assignment in a single step and ensure this keeps updating the original `df`.\n",
      "\n",
      "See the caveats in the documentation: https://pandas.pydata.org/pandas-docs/stable/user_guide/indexing.html#returning-a-view-versus-a-copy\n",
      "\n",
      "  exit_table['Отношение ΔI'][_1] = exit_table['ΔI'][_1 - 1] / exit_table['ΔI'][_1]\n",
      "C:\\Users\\artem\\AppData\\Local\\Temp\\ipykernel_10560\\3698123335.py:2: SettingWithCopyWarning: \n",
      "A value is trying to be set on a copy of a slice from a DataFrame\n",
      "\n",
      "See the caveats in the documentation: https://pandas.pydata.org/pandas-docs/stable/user_guide/indexing.html#returning-a-view-versus-a-copy\n",
      "  exit_table['Отношение ΔI'][_1] = exit_table['ΔI'][_1 - 1] / exit_table['ΔI'][_1]\n"
     ]
    }
   ],
   "execution_count": 32
  },
  {
   "cell_type": "code",
   "metadata": {
    "ExecuteTime": {
     "end_time": "2024-05-22T23:25:19.171878Z",
     "start_time": "2024-05-22T23:25:19.154881Z"
    }
   },
   "source": "exit_table = pd.DataFrame(exit_table)",
   "outputs": [],
   "execution_count": 33
  },
  {
   "cell_type": "code",
   "metadata": {
    "ExecuteTime": {
     "end_time": "2024-05-22T23:25:20.058839Z",
     "start_time": "2024-05-22T23:25:20.035789Z"
    }
   },
   "source": "exit_table",
   "outputs": [
    {
     "data": {
      "text/plain": [
       "        n         I            ΔI            ∂I             R  Отношение ΔI\n",
       "0       2 -0.114819  1.016255e-05  8.851697e-03  6.747804e-07      1.000000\n",
       "1       4 -0.114810  6.316125e-07  5.501417e-04  4.217377e-08     16.089851\n",
       "2       8 -0.114809  3.942089e-08  3.433605e-05  2.635861e-09     16.022278\n",
       "3      16 -0.114809  2.463141e-09  2.145424e-06  1.647413e-10     16.004320\n",
       "4      32 -0.114809  1.541272e-10  1.342465e-07  1.029633e-11     15.981222\n",
       "5      64 -0.114809  9.827014e-12  8.559442e-09  6.435207e-13     15.684028\n",
       "6     128 -0.114809  8.084228e-13  7.041455e-10  4.022005e-14     12.155786\n",
       "7     256 -0.114809  2.448874e-13  2.132998e-10  2.513753e-15      3.301201\n",
       "8     512 -0.114809  2.094713e-13  1.824519e-10  1.571096e-16      1.169074\n",
       "9    1024 -0.114809  2.072231e-13  1.804937e-10  9.819347e-18      1.010849\n",
       "10   2048 -0.114809  2.069872e-13  1.802882e-10  6.137092e-19      1.001140\n",
       "11   4096 -0.114809  2.072370e-13  1.805058e-10  3.835682e-20      0.998795\n",
       "12   8192 -0.114809  2.073758e-13  1.806267e-10  2.397302e-21      0.999331\n",
       "13  16384 -0.114809  2.077921e-13  1.809893e-10  1.498313e-22      0.997996\n",
       "14  32768 -0.114809  2.075562e-13  1.807838e-10  9.364459e-24      1.001137"
      ],
      "text/html": [
       "<div>\n",
       "<style scoped>\n",
       "    .dataframe tbody tr th:only-of-type {\n",
       "        vertical-align: middle;\n",
       "    }\n",
       "\n",
       "    .dataframe tbody tr th {\n",
       "        vertical-align: top;\n",
       "    }\n",
       "\n",
       "    .dataframe thead th {\n",
       "        text-align: right;\n",
       "    }\n",
       "</style>\n",
       "<table border=\"1\" class=\"dataframe\">\n",
       "  <thead>\n",
       "    <tr style=\"text-align: right;\">\n",
       "      <th></th>\n",
       "      <th>n</th>\n",
       "      <th>I</th>\n",
       "      <th>ΔI</th>\n",
       "      <th>∂I</th>\n",
       "      <th>R</th>\n",
       "      <th>Отношение ΔI</th>\n",
       "    </tr>\n",
       "  </thead>\n",
       "  <tbody>\n",
       "    <tr>\n",
       "      <th>0</th>\n",
       "      <td>2</td>\n",
       "      <td>-0.114819</td>\n",
       "      <td>1.016255e-05</td>\n",
       "      <td>8.851697e-03</td>\n",
       "      <td>6.747804e-07</td>\n",
       "      <td>1.000000</td>\n",
       "    </tr>\n",
       "    <tr>\n",
       "      <th>1</th>\n",
       "      <td>4</td>\n",
       "      <td>-0.114810</td>\n",
       "      <td>6.316125e-07</td>\n",
       "      <td>5.501417e-04</td>\n",
       "      <td>4.217377e-08</td>\n",
       "      <td>16.089851</td>\n",
       "    </tr>\n",
       "    <tr>\n",
       "      <th>2</th>\n",
       "      <td>8</td>\n",
       "      <td>-0.114809</td>\n",
       "      <td>3.942089e-08</td>\n",
       "      <td>3.433605e-05</td>\n",
       "      <td>2.635861e-09</td>\n",
       "      <td>16.022278</td>\n",
       "    </tr>\n",
       "    <tr>\n",
       "      <th>3</th>\n",
       "      <td>16</td>\n",
       "      <td>-0.114809</td>\n",
       "      <td>2.463141e-09</td>\n",
       "      <td>2.145424e-06</td>\n",
       "      <td>1.647413e-10</td>\n",
       "      <td>16.004320</td>\n",
       "    </tr>\n",
       "    <tr>\n",
       "      <th>4</th>\n",
       "      <td>32</td>\n",
       "      <td>-0.114809</td>\n",
       "      <td>1.541272e-10</td>\n",
       "      <td>1.342465e-07</td>\n",
       "      <td>1.029633e-11</td>\n",
       "      <td>15.981222</td>\n",
       "    </tr>\n",
       "    <tr>\n",
       "      <th>5</th>\n",
       "      <td>64</td>\n",
       "      <td>-0.114809</td>\n",
       "      <td>9.827014e-12</td>\n",
       "      <td>8.559442e-09</td>\n",
       "      <td>6.435207e-13</td>\n",
       "      <td>15.684028</td>\n",
       "    </tr>\n",
       "    <tr>\n",
       "      <th>6</th>\n",
       "      <td>128</td>\n",
       "      <td>-0.114809</td>\n",
       "      <td>8.084228e-13</td>\n",
       "      <td>7.041455e-10</td>\n",
       "      <td>4.022005e-14</td>\n",
       "      <td>12.155786</td>\n",
       "    </tr>\n",
       "    <tr>\n",
       "      <th>7</th>\n",
       "      <td>256</td>\n",
       "      <td>-0.114809</td>\n",
       "      <td>2.448874e-13</td>\n",
       "      <td>2.132998e-10</td>\n",
       "      <td>2.513753e-15</td>\n",
       "      <td>3.301201</td>\n",
       "    </tr>\n",
       "    <tr>\n",
       "      <th>8</th>\n",
       "      <td>512</td>\n",
       "      <td>-0.114809</td>\n",
       "      <td>2.094713e-13</td>\n",
       "      <td>1.824519e-10</td>\n",
       "      <td>1.571096e-16</td>\n",
       "      <td>1.169074</td>\n",
       "    </tr>\n",
       "    <tr>\n",
       "      <th>9</th>\n",
       "      <td>1024</td>\n",
       "      <td>-0.114809</td>\n",
       "      <td>2.072231e-13</td>\n",
       "      <td>1.804937e-10</td>\n",
       "      <td>9.819347e-18</td>\n",
       "      <td>1.010849</td>\n",
       "    </tr>\n",
       "    <tr>\n",
       "      <th>10</th>\n",
       "      <td>2048</td>\n",
       "      <td>-0.114809</td>\n",
       "      <td>2.069872e-13</td>\n",
       "      <td>1.802882e-10</td>\n",
       "      <td>6.137092e-19</td>\n",
       "      <td>1.001140</td>\n",
       "    </tr>\n",
       "    <tr>\n",
       "      <th>11</th>\n",
       "      <td>4096</td>\n",
       "      <td>-0.114809</td>\n",
       "      <td>2.072370e-13</td>\n",
       "      <td>1.805058e-10</td>\n",
       "      <td>3.835682e-20</td>\n",
       "      <td>0.998795</td>\n",
       "    </tr>\n",
       "    <tr>\n",
       "      <th>12</th>\n",
       "      <td>8192</td>\n",
       "      <td>-0.114809</td>\n",
       "      <td>2.073758e-13</td>\n",
       "      <td>1.806267e-10</td>\n",
       "      <td>2.397302e-21</td>\n",
       "      <td>0.999331</td>\n",
       "    </tr>\n",
       "    <tr>\n",
       "      <th>13</th>\n",
       "      <td>16384</td>\n",
       "      <td>-0.114809</td>\n",
       "      <td>2.077921e-13</td>\n",
       "      <td>1.809893e-10</td>\n",
       "      <td>1.498313e-22</td>\n",
       "      <td>0.997996</td>\n",
       "    </tr>\n",
       "    <tr>\n",
       "      <th>14</th>\n",
       "      <td>32768</td>\n",
       "      <td>-0.114809</td>\n",
       "      <td>2.075562e-13</td>\n",
       "      <td>1.807838e-10</td>\n",
       "      <td>9.364459e-24</td>\n",
       "      <td>1.001137</td>\n",
       "    </tr>\n",
       "  </tbody>\n",
       "</table>\n",
       "</div>"
      ]
     },
     "execution_count": 34,
     "metadata": {},
     "output_type": "execute_result"
    }
   ],
   "execution_count": 34
  },
  {
   "cell_type": "code",
   "metadata": {
    "ExecuteTime": {
     "end_time": "2024-05-22T23:16:49.023065Z",
     "start_time": "2024-05-22T23:16:49.008065Z"
    }
   },
   "source": [
    "n = 10 ** 4\n",
    "\n",
    "# Создание df с узловыми точками\n",
    "tmp = np.linspace(a, b, n + 1)\n",
    "points = pd.DataFrame({'x': tmp, 'y': f(tmp)})\n",
    "\n",
    "step = (b - a) / n"
   ],
   "outputs": [],
   "execution_count": 22
  },
  {
   "cell_type": "code",
   "metadata": {
    "ExecuteTime": {
     "end_time": "2024-05-22T23:16:49.039067Z",
     "start_time": "2024-05-22T23:16:49.024068Z"
    }
   },
   "source": [
    "exit_table2 = {'I': [0 for _1 in range(5)], 'ΔI': [0 for _1 in range(5)], \n",
    "           '∂I': [0 for _1 in range(5)], 'R': [0 for _1 in range(5)]}"
   ],
   "outputs": [],
   "execution_count": 23
  },
  {
   "cell_type": "code",
   "metadata": {
    "ExecuteTime": {
     "end_time": "2024-05-22T23:16:49.435153Z",
     "start_time": "2024-05-22T23:16:49.040066Z"
    }
   },
   "source": [
    "exit_table2['I'][0] = I_left_pram(points)\n",
    "exit_table2['ΔI'][0] = abs(I_left_pram(points) - precise_int)\n",
    "exit_table2['∂I'][0] = ((abs(I_left_pram(points) - precise_int))\n",
    "                        * 100 / (abs(precise_int)))\n",
    "exit_table2['R'][0] = R_left_pram(step, a, b)"
   ],
   "outputs": [],
   "execution_count": 24
  },
  {
   "cell_type": "code",
   "metadata": {
    "ExecuteTime": {
     "end_time": "2024-05-22T23:16:49.860233Z",
     "start_time": "2024-05-22T23:16:49.437155Z"
    }
   },
   "source": [
    "exit_table2['I'][1] = I_right_pram(points)\n",
    "exit_table2['ΔI'][1] = abs(I_right_pram(points) - precise_int)\n",
    "exit_table2['∂I'][1] = ((abs(I_right_pram(points) - precise_int))\n",
    "                        * 100 / (abs(precise_int)))\n",
    "exit_table2['R'][1] = R_right_pram(step, a, b)"
   ],
   "outputs": [],
   "execution_count": 25
  },
  {
   "cell_type": "code",
   "metadata": {
    "ExecuteTime": {
     "end_time": "2024-05-22T23:16:50.490350Z",
     "start_time": "2024-05-22T23:16:49.867235Z"
    }
   },
   "source": [
    "exit_table2['I'][2] = I_mid_pram(points)\n",
    "exit_table2['ΔI'][2] = abs(I_mid_pram(points) - precise_int)\n",
    "exit_table2['∂I'][2] = ((abs(I_mid_pram(points) - precise_int))\n",
    "                        * 100 / (abs(precise_int)))\n",
    "exit_table2['R'][2] = R_mid_pram(step, a, b)"
   ],
   "outputs": [],
   "execution_count": 26
  },
  {
   "cell_type": "code",
   "metadata": {
    "ExecuteTime": {
     "end_time": "2024-05-22T23:16:51.074474Z",
     "start_time": "2024-05-22T23:16:50.498867Z"
    }
   },
   "source": [
    "exit_table2['I'][3] = I_trap(points)\n",
    "exit_table2['ΔI'][3] = abs(I_trap(points) - precise_int)\n",
    "exit_table2['∂I'][3] = ((abs(I_trap(points) - precise_int))\n",
    "                        * 100 / (abs(precise_int)))\n",
    "exit_table2['R'][3] = R_trap(step, a, b)"
   ],
   "outputs": [],
   "execution_count": 27
  },
  {
   "cell_type": "code",
   "metadata": {
    "ExecuteTime": {
     "end_time": "2024-05-22T23:16:51.279505Z",
     "start_time": "2024-05-22T23:16:51.077476Z"
    }
   },
   "source": [
    "exit_table2['I'][4] = I_simpson(points, step)\n",
    "exit_table2['ΔI'][4] = abs(I_simpson(points, step) - precise_int)\n",
    "exit_table2['∂I'][4] = ((abs(I_simpson(points, step) - precise_int))\n",
    "                        * 100 / (abs(precise_int)))\n",
    "exit_table2['R'][4] = R_simpson(step, a, b)"
   ],
   "outputs": [],
   "execution_count": 28
  },
  {
   "cell_type": "code",
   "metadata": {
    "ExecuteTime": {
     "end_time": "2024-05-22T23:16:51.295510Z",
     "start_time": "2024-05-22T23:16:51.280504Z"
    }
   },
   "source": "exit_table2 = pd.DataFrame(exit_table2)",
   "outputs": [],
   "execution_count": 29
  },
  {
   "cell_type": "code",
   "metadata": {
    "ExecuteTime": {
     "end_time": "2024-05-22T23:16:51.358023Z",
     "start_time": "2024-05-22T23:16:51.296510Z"
    }
   },
   "source": [
    "exit_table2['indx'] = ['Л. прямоугольники', 'П. прямоугольники', 'Ц. прямоугольники', 'Трапеций', 'Симпсона']\n",
    "exit_table2.set_index('indx', inplace=True, drop=True)"
   ],
   "outputs": [],
   "execution_count": 30
  },
  {
   "cell_type": "code",
   "metadata": {
    "ExecuteTime": {
     "end_time": "2024-05-22T23:16:51.374024Z",
     "start_time": "2024-05-22T23:16:51.359026Z"
    }
   },
   "source": "exit_table2",
   "outputs": [
    {
     "data": {
      "text/plain": [
       "                          I            ΔI            ∂I             R\n",
       "indx                                                                 \n",
       "Л. прямоугольники -0.114838  2.924162e-05  2.546978e-02  3.205803e-05\n",
       "П. прямоугольники -0.114780  2.924181e-05  2.546995e-02  3.205803e-05\n",
       "Ц. прямоугольники -0.114809  4.862580e-11  4.235363e-08  5.182313e-11\n",
       "Трапеций          -0.114809  9.662748e-11  8.416364e-08  1.036463e-10\n",
       "Симпсона          -0.114809  2.070566e-13  1.803487e-10  1.079649e-21"
      ],
      "text/html": [
       "<div>\n",
       "<style scoped>\n",
       "    .dataframe tbody tr th:only-of-type {\n",
       "        vertical-align: middle;\n",
       "    }\n",
       "\n",
       "    .dataframe tbody tr th {\n",
       "        vertical-align: top;\n",
       "    }\n",
       "\n",
       "    .dataframe thead th {\n",
       "        text-align: right;\n",
       "    }\n",
       "</style>\n",
       "<table border=\"1\" class=\"dataframe\">\n",
       "  <thead>\n",
       "    <tr style=\"text-align: right;\">\n",
       "      <th></th>\n",
       "      <th>I</th>\n",
       "      <th>ΔI</th>\n",
       "      <th>∂I</th>\n",
       "      <th>R</th>\n",
       "    </tr>\n",
       "    <tr>\n",
       "      <th>indx</th>\n",
       "      <th></th>\n",
       "      <th></th>\n",
       "      <th></th>\n",
       "      <th></th>\n",
       "    </tr>\n",
       "  </thead>\n",
       "  <tbody>\n",
       "    <tr>\n",
       "      <th>Л. прямоугольники</th>\n",
       "      <td>-0.114838</td>\n",
       "      <td>2.924162e-05</td>\n",
       "      <td>2.546978e-02</td>\n",
       "      <td>3.205803e-05</td>\n",
       "    </tr>\n",
       "    <tr>\n",
       "      <th>П. прямоугольники</th>\n",
       "      <td>-0.114780</td>\n",
       "      <td>2.924181e-05</td>\n",
       "      <td>2.546995e-02</td>\n",
       "      <td>3.205803e-05</td>\n",
       "    </tr>\n",
       "    <tr>\n",
       "      <th>Ц. прямоугольники</th>\n",
       "      <td>-0.114809</td>\n",
       "      <td>4.862580e-11</td>\n",
       "      <td>4.235363e-08</td>\n",
       "      <td>5.182313e-11</td>\n",
       "    </tr>\n",
       "    <tr>\n",
       "      <th>Трапеций</th>\n",
       "      <td>-0.114809</td>\n",
       "      <td>9.662748e-11</td>\n",
       "      <td>8.416364e-08</td>\n",
       "      <td>1.036463e-10</td>\n",
       "    </tr>\n",
       "    <tr>\n",
       "      <th>Симпсона</th>\n",
       "      <td>-0.114809</td>\n",
       "      <td>2.070566e-13</td>\n",
       "      <td>1.803487e-10</td>\n",
       "      <td>1.079649e-21</td>\n",
       "    </tr>\n",
       "  </tbody>\n",
       "</table>\n",
       "</div>"
      ]
     },
     "execution_count": 31,
     "metadata": {},
     "output_type": "execute_result"
    }
   ],
   "execution_count": 31
  }
 ],
 "metadata": {
  "kernelspec": {
   "display_name": "Python 3",
   "language": "python",
   "name": "python3"
  },
  "language_info": {
   "codemirror_mode": {
    "name": "ipython",
    "version": 3
   },
   "file_extension": ".py",
   "mimetype": "text/x-python",
   "name": "python",
   "nbconvert_exporter": "python",
   "pygments_lexer": "ipython3",
   "version": "3.11.6"
  }
 },
 "nbformat": 4,
 "nbformat_minor": 2
}
